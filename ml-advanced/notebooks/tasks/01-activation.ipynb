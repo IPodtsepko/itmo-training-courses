{
 "cells": [
  {
   "cell_type": "markdown",
   "metadata": {},
   "source": [
    "# Задание 1\n",
    "\n",
    "## Подготовка набора данных\n",
    "\n",
    "Для загрузки данных используем `scikit-learn`. Далее выполняем нормировку данных и применяем one-hot encoding к целевой колонке. Для обучения выделяем 90% данных, а для тестирования — 10%."
   ]
  },
  {
   "cell_type": "code",
   "execution_count": 1,
   "metadata": {},
   "outputs": [],
   "source": [
    "import numpy as np\n",
    "\n",
    "from sklearn.datasets import fetch_openml\n",
    "from sklearn.model_selection import train_test_split\n",
    "\n",
    "mnist = fetch_openml(\"mnist_784\", version=1)\n",
    "\n",
    "X = mnist.data.astype(np.float32).to_numpy() / 255.0\n",
    "y = np.eye(10)[mnist.target.astype(int)]\n",
    "\n",
    "X_train, X_test, y_train, y_test = train_test_split(X, y, test_size=0.1, random_state=1)"
   ]
  },
  {
   "cell_type": "markdown",
   "metadata": {},
   "source": [
    "## Проверка реализованных функций"
   ]
  },
  {
   "cell_type": "code",
   "execution_count": 1,
   "metadata": {},
   "outputs": [],
   "source": [
    "import matplotlib.pyplot as plt\n",
    "from mytorch.nn import Module, Linear, Sequential, ReLU, GELU, Swish, Softplus, MSELoss\n",
    "from mytorch.optim import SGD, Optimizer\n",
    "\n",
    "from tqdm import tqdm"
   ]
  },
  {
   "cell_type": "code",
   "execution_count": 14,
   "metadata": {},
   "outputs": [],
   "source": [
    "import torch\n",
    "\n",
    "\n",
    "def as_numpy(tensor):\n",
    "    return tensor.detach().numpy()\n",
    "\n",
    "\n",
    "def as_tensor(numpy_array):\n",
    "    return torch.tensor(numpy_array).float()\n",
    "\n",
    "\n",
    "def generate(n):\n",
    "    return torch.randn(n, requires_grad=True)\n",
    "\n",
    "\n",
    "def check_activation(torch_activation, my_activation):\n",
    "    x = generate(10)\n",
    "    grad = generate(10)\n",
    "\n",
    "    expected_y = torch_activation(x)\n",
    "    expected_y.backward(grad)\n",
    "\n",
    "    actual_y = my_activation(as_numpy(x))\n",
    "\n",
    "    assert torch.allclose(expected_y, as_tensor(actual_y))\n",
    "    assert torch.allclose(x.grad, as_tensor(my_activation.backward(as_numpy(grad))))\n",
    "    if hasattr(torch_activation, \"beta\"):\n",
    "        assert torch.allclose(\n",
    "            torch_activation.beta.grad, as_tensor(my_activation.beta.grad)\n",
    "        )"
   ]
  },
  {
   "cell_type": "markdown",
   "metadata": {},
   "source": [
    "### Проверка реализации RELU"
   ]
  },
  {
   "cell_type": "code",
   "execution_count": 16,
   "metadata": {},
   "outputs": [
    {
     "name": "stdout",
     "output_type": "stream",
     "text": [
      "ReLU совпадает с torch.nn.ReLU\n"
     ]
    }
   ],
   "source": [
    "check_activation(torch.nn.ReLU(), ReLU())\n",
    "print(\"ReLU совпадает с torch.nn.ReLU\")"
   ]
  },
  {
   "cell_type": "markdown",
   "metadata": {},
   "source": [
    "### Проверка реализации GELU"
   ]
  },
  {
   "cell_type": "code",
   "execution_count": 17,
   "metadata": {},
   "outputs": [
    {
     "name": "stdout",
     "output_type": "stream",
     "text": [
      "GELU совпадает с torch.nn.GELU\n"
     ]
    }
   ],
   "source": [
    "check_activation(torch.nn.GELU(), GELU())\n",
    "print(\"GELU совпадает с torch.nn.GELU\")"
   ]
  },
  {
   "cell_type": "markdown",
   "metadata": {},
   "source": [
    "### Проверка реализации Swish"
   ]
  },
  {
   "cell_type": "code",
   "execution_count": 20,
   "metadata": {},
   "outputs": [
    {
     "name": "stdout",
     "output_type": "stream",
     "text": [
      "Swish совпадает с AutogradableSwish\n"
     ]
    }
   ],
   "source": [
    "class AutogradableSwish(torch.nn.Module):\n",
    "    def __init__(self, beta_init=1.0):\n",
    "        super(AutogradableSwish, self).__init__()\n",
    "        self.beta = torch.nn.Parameter(torch.tensor(beta_init))\n",
    "\n",
    "    def forward(self, x):\n",
    "        return x * torch.sigmoid(self.beta * x)\n",
    "\n",
    "\n",
    "check_activation(AutogradableSwish(), Swish())\n",
    "print(\"Swish совпадает с AutogradableSwish\")"
   ]
  },
  {
   "cell_type": "markdown",
   "metadata": {},
   "source": [
    "### Проверка реализации Softplus"
   ]
  },
  {
   "cell_type": "code",
   "execution_count": 21,
   "metadata": {},
   "outputs": [
    {
     "name": "stdout",
     "output_type": "stream",
     "text": [
      "Softplus совпадает с AutogradableSoftplus\n"
     ]
    }
   ],
   "source": [
    "class AutogradableSoftplus(torch.nn.Module):\n",
    "    def __init__(self, beta_init=1.0):\n",
    "        super(AutogradableSoftplus, self).__init__()\n",
    "        self.beta = torch.nn.Parameter(torch.tensor(beta_init))\n",
    "\n",
    "    def forward(self, x):\n",
    "        return 1 / self.beta * torch.log(1 + torch.exp(self.beta * x))\n",
    "\n",
    "\n",
    "check_activation(AutogradableSoftplus(), Softplus())\n",
    "print(\"Softplus совпадает с AutogradableSoftplus\")"
   ]
  },
  {
   "cell_type": "markdown",
   "metadata": {},
   "source": [
    "## Обучение моделей"
   ]
  },
  {
   "cell_type": "code",
   "execution_count": 3,
   "metadata": {},
   "outputs": [],
   "source": [
    "class Net(Module):\n",
    "    def __init__(self, module: Module, criterion: Module):\n",
    "        super().__init__()\n",
    "        self.module = module\n",
    "        self.criterion = criterion\n",
    "\n",
    "    def forward(self, x):\n",
    "        return self.module(x)\n",
    "\n",
    "    def loss(self, *args):\n",
    "        return self.criterion(*args)\n",
    "\n",
    "    def backward(self):\n",
    "        grad = self.criterion.backward()\n",
    "        return self.module.backward(grad)\n",
    "\n",
    "    def parameters(self):\n",
    "        return self.module.parameters()"
   ]
  },
  {
   "cell_type": "code",
   "execution_count": 4,
   "metadata": {},
   "outputs": [],
   "source": [
    "np.random.seed(1)\n",
    "\n",
    "\n",
    "def train_loop(\n",
    "    net: Net,\n",
    "    optimizer: Optimizer,\n",
    "    X_train: np.ndarray,\n",
    "    y_train: np.ndarray,\n",
    "    num_epochs: int = 200,\n",
    "):\n",
    "    accuracy = []\n",
    "\n",
    "    for _ in tqdm(range(num_epochs)):\n",
    "        y_pred = net.forward(X_train)\n",
    "        net.loss(y_pred, y_train)\n",
    "\n",
    "        y_pred_labels = np.argmax(y_pred, axis=1)\n",
    "        y_train_labels = np.argmax(y_train, axis=1)\n",
    "        accuracy.append(np.mean(y_pred_labels == y_train_labels))\n",
    "\n",
    "        net.backward()\n",
    "\n",
    "        optimizer.step()\n",
    "        optimizer.zero_grad()\n",
    "\n",
    "    return accuracy"
   ]
  },
  {
   "cell_type": "code",
   "execution_count": 5,
   "metadata": {},
   "outputs": [],
   "source": [
    "def test_activation(Activation):\n",
    "    net = Net(\n",
    "        Sequential(\n",
    "            Linear(in_features=784, out_features=800),\n",
    "            Activation(),\n",
    "            Linear(in_features=800, out_features=400),\n",
    "            Activation(),\n",
    "            Linear(in_features=400, out_features=10),\n",
    "        ),\n",
    "        MSELoss(),\n",
    "    )\n",
    "    optimizer = SGD(net.parameters(), lr=5e-3)\n",
    "    accuracy = train_loop(net, optimizer, X_train, y_train, num_epochs=500)\n",
    "    plt.plot(accuracy, label=Activation.__name__)"
   ]
  },
  {
   "cell_type": "code",
   "execution_count": 6,
   "metadata": {},
   "outputs": [
    {
     "name": "stderr",
     "output_type": "stream",
     "text": [
      "100%|██████████| 500/500 [13:58<00:00,  1.68s/it]\n",
      "100%|██████████| 500/500 [30:37<00:00,  3.68s/it]\n",
      "100%|██████████| 500/500 [22:23<00:00,  2.69s/it]\n",
      "100%|██████████| 500/500 [38:52<00:00,  4.67s/it]  \n"
     ]
    },
    {
     "data": {
      "image/png": "[encoded data removed]",
      "text/plain": [
       "<Figure size 640x480 with 1 Axes>"
      ]
     },
     "metadata": {},
     "output_type": "display_data"
    }
   ],
   "source": [
    "test_activation(ReLU)\n",
    "test_activation(GELU)\n",
    "test_activation(Swish)\n",
    "test_activation(Softplus)\n",
    "\n",
    "\n",
    "plt.legend()\n",
    "plt.show()"
   ]
  },
  {
   "cell_type": "markdown",
   "metadata": {},
   "source": [
    "## Вывод\n",
    "\n",
    "1. Графики показывают, что данной модели удалось добиться точности примерно 60% за 500 эпох.\n",
    "2. Графики зависимости точности от эпохи стабильно идут вверх. Можно предположить, что при большем числе эпох удалось бы лучше обучить модель.\n",
    "3. Уже полученных данных достаточно, чтобы увидеть, что на наборе данных MNIST функция активации `ReLU` показала себя лучше всего.\n",
    "4. Наименьшей точности удалось добиться с использованием `Swish`."
   ]
  }
 ],
 "metadata": {
  "kernelspec": {
   "display_name": "ml-advanced-6ERMMjIi-py3.12",
   "language": "python",
   "name": "python3"
  },
  "language_info": {
   "codemirror_mode": {
    "name": "ipython",
    "version": 3
   },
   "file_extension": ".py",
   "mimetype": "text/x-python",
   "name": "python",
   "nbconvert_exporter": "python",
   "pygments_lexer": "ipython3",
   "version": "3.12.2"
  }
 },
 "nbformat": 4,
 "nbformat_minor": 2
}
