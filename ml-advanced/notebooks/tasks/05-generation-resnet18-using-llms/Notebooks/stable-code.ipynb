{
 "cells": [
  {
   "cell_type": "markdown",
   "metadata": {},
   "source": [
    "# Stable Code"
   ]
  },
  {
   "cell_type": "code",
   "execution_count": 3,
   "metadata": {},
   "outputs": [
    {
     "ename": "SyntaxError",
     "evalue": "unmatched ')' (3178649528.py, line 11)",
     "output_type": "error",
     "traceback": [
      "\u001b[0;36m  Cell \u001b[0;32mIn[3], line 11\u001b[0;36m\u001b[0m\n\u001b[0;31m    self.conv1 = nn.Conv2d(in_channels, out_channels, kernel_size=3, stride=stride, padding=padding, bias=bias))\u001b[0m\n\u001b[0m                                                                                                               ^\u001b[0m\n\u001b[0;31mSyntaxError\u001b[0m\u001b[0;31m:\u001b[0m unmatched ')'\n"
     ]
    }
   ],
   "source": [
    "import torch\n",
    "import torch.nn as nn\n",
    "from torchvision import transforms\n",
    "# Define the ResNet block\n",
    "class ResNetBlock(nn.Module):\n",
    "    def __init__(self, in_channels, out_channels=None, stride=1, padding=0, bias=True, norm='batch'):\n",
    "        super(ResNetBlock, self).__init__()\n",
    "        if out_channels is None:\n",
    "            out_channels = in_channels\n",
    "        if stride == 1:\n",
    "            self.conv1 = nn.Conv2d(in_channels, out_channels, kernel_size=3, stride=stride, padding=padding, bias=bias))\n",
    "        else:\n",
    "            self.conv1_bn_act = nn.Sequential(\n",
    "                nn.Conv2d(in_channels, out_channels, kernel_size=3, stride=stride, padding=padding, bias=bias),\n",
    "                get_norm_layer(norm=norm)),\n",
    "                nn.ReLU())\n",
    "    def forward(self, x):\n",
    "        if self.conv1 is not None:\n",
    "            x = self.conv1(x)\n",
    "        x = self.conv1_bn_act(x)\n",
    "        return x\n",
    "# Define the ResNet-18 model\n",
    "class ResNet18(nn.Module):\n",
    "    def __init__(self, num_classes=None):\n",
    "        super(ResNet18, self).__init__()\n",
    "        self.conv1 = nn.Conv2d(3, 64, kernel_size=7, stride=2, padding=0, bias=True))\n",
    "        self.bn1 = nn.BatchNorm2d(64)\n",
    "        self.relu = nn.ReLU()\n",
    "        self.conv2_sep = nn.Conv2d(64, 128, kernel_size=3, stride=1, padding=1, bias=True))\n",
    "        self.bn2_sep = nn.BatchNorm2d(128)\n",
    "        self.maxpool = nn.MaxPool2d(kernel_size=3, stride=2, padding=0))\n",
    "        if num_classes is not None:\n",
    "            self.fc = nn.Linear(128 * 56 * 56, num_classes))\n",
    "    def forward(self, x):\n",
    "        x = self.conv1(x)\n",
    "        x = self.bn1(x)\n",
    "        x = self.relu(x)\n",
    "        x = self.maxpool(x)\n",
    "        x = self.conv2_sep(x)\n",
    "        x = self.bn2_sep(x)\n",
    "        x = self.relu(x)\n",
    "        x = x.view(x.size(0), -1))\n",
    "        if hasattr(self, 'fc')):\n",
    "            x = self.fc(x)\n",
    "        return x\n",
    "# Define the ResNet-18 training code using PyTorch\n",
    "def train_resnet18(model, optimizer, criterion, train_loader, device):\n",
    "    model.train()\n",
    "    for batch_idx, (data, target) in enumerate(train_loader):\n",
    "        data = data.to(device)\n",
    "        target = target.to(device)\n",
    "        optimizer.zero_grad()\n",
    "        output = model(data)\n",
    "        loss = criterion(output, target))\n",
    "        loss.backward()\n",
    "        optimizer.step()\n",
    "    return model"
   ]
  },
  {
   "cell_type": "markdown",
   "metadata": {},
   "source": [
    "Вывод: Плохо вообще все."
   ]
  }
 ],
 "metadata": {
  "kernelspec": {
   "display_name": "ml-advanced-6ERMMjIi-py3.12",
   "language": "python",
   "name": "python3"
  },
  "language_info": {
   "codemirror_mode": {
    "name": "ipython",
    "version": 3
   },
   "file_extension": ".py",
   "mimetype": "text/x-python",
   "name": "python",
   "nbconvert_exporter": "python",
   "pygments_lexer": "ipython3",
   "version": "3.12.2"
  }
 },
 "nbformat": 4,
 "nbformat_minor": 2
}
