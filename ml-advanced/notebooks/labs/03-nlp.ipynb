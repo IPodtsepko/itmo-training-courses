{
 "cells": [
  {
   "cell_type": "markdown",
   "metadata": {},
   "source": [
    "# Лабораторная работа 3. NLP\n",
    "\n",
    "**Выполнил**: Подцепко И.С., уч. группа M4138."
   ]
  },
  {
   "cell_type": "code",
   "execution_count": 2,
   "metadata": {
    "executionInfo": {
     "elapsed": 4,
     "status": "ok",
     "timestamp": 1732777155455,
     "user": {
      "displayName": "Игорь Подцепко",
      "userId": "04976845452220297525"
     },
     "user_tz": -180
    },
    "id": "zdZQjENiBQ8E"
   },
   "outputs": [],
   "source": [
    "import torch\n",
    "import evaluate\n",
    "import numpy as np\n",
    "\n",
    "from datasets import load_dataset, concatenate_datasets\n",
    "from transformers import (\n",
    "    AutoTokenizer,\n",
    "    AutoModelForSeq2SeqLM,\n",
    "    DataCollatorForSeq2Seq,\n",
    "    Seq2SeqTrainingArguments,\n",
    "    Seq2SeqTrainer,\n",
    "    IntervalStrategy,\n",
    ")"
   ]
  },
  {
   "cell_type": "code",
   "execution_count": 3,
   "metadata": {
    "colab": {
     "base_uri": "https://localhost:8080/"
    },
    "executionInfo": {
     "elapsed": 4,
     "status": "ok",
     "timestamp": 1732777155455,
     "user": {
      "displayName": "Игорь Подцепко",
      "userId": "04976845452220297525"
     },
     "user_tz": -180
    },
    "id": "H-bxbY8UBQ8H",
    "outputId": "83dfe716-ddf9-459b-b068-da00f513b7b3"
   },
   "outputs": [
    {
     "name": "stdout",
     "output_type": "stream",
     "text": [
      "mps\n"
     ]
    }
   ],
   "source": [
    "if torch.backends.mps.is_available():\n",
    "    device = torch.device(\"mps\")\n",
    "elif torch.cuda.is_available():\n",
    "    device = torch.device(\"cuda\")\n",
    "else:\n",
    "    device = torch.device(\"cpu\")\n",
    "\n",
    "print(device)"
   ]
  },
  {
   "cell_type": "markdown",
   "metadata": {},
   "source": [
    "### opus-mt-en-ru\n",
    "\n",
    "* source languages: en\n",
    "* target languages: ru\n",
    "*  OPUS readme: [en-ru](https://github.com/Helsinki-NLP/OPUS-MT-train/blob/master/models/en-ru/README.md)\n",
    "\n",
    "*  dataset: opus\n",
    "* model: transformer-align\n",
    "* pre-processing: normalization + SentencePiece\n",
    "* download original weights: [opus-2020-02-11.zip](https://object.pouta.csc.fi/OPUS-MT-models/en-ru/opus-2020-02-11.zip)\n",
    "* test set translations: [opus-2020-02-11.test.txt](https://object.pouta.csc.fi/OPUS-MT-models/en-ru/opus-2020-02-11.test.txt)\n",
    "* test set scores: [opus-2020-02-11.eval.txt](https://object.pouta.csc.fi/OPUS-MT-models/en-ru/opus-2020-02-11.eval.txt)\n",
    "\n",
    "## Benchmarks\n",
    "\n",
    "| testset               | BLEU  |\n",
    "|-----------------------|-------|\n",
    "| newstest2012.en.ru \t| 31.1 \t|\n",
    "| newstest2013.en.ru \t| 23.5 \t|\n",
    "| newstest2015-enru.en.ru \t| 27.5 \t|\n",
    "| newstest2016-enru.en.ru \t| 26.4 \t|\n",
    "| newstest2017-enru.en.ru \t| 29.1 \t|\n",
    "| newstest2018-enru.en.ru \t| 25.4 \t|\n",
    "| newstest2019-enru.en.ru \t| 27.1 \t|\n",
    "| Tatoeba.en.ru \t| 48.4 \t|"
   ]
  },
  {
   "cell_type": "code",
   "execution_count": 4,
   "metadata": {
    "colab": {
     "base_uri": "https://localhost:8080/"
    },
    "executionInfo": {
     "elapsed": 3309,
     "status": "ok",
     "timestamp": 1732777158761,
     "user": {
      "displayName": "Игорь Подцепко",
      "userId": "04976845452220297525"
     },
     "user_tz": -180
    },
    "id": "uZ6t1bj3BQ8I",
    "outputId": "ddda7c18-cc44-49c9-e819-72bafc513526"
   },
   "outputs": [],
   "source": [
    "checkpoint = \"Helsinki-NLP/opus-mt-en-ru\"\n",
    "\n",
    "tokenizer = AutoTokenizer.from_pretrained(checkpoint)\n",
    "model = AutoModelForSeq2SeqLM.from_pretrained(checkpoint).to(device)"
   ]
  },
  {
   "cell_type": "code",
   "execution_count": 14,
   "metadata": {},
   "outputs": [
    {
     "data": {
      "text/plain": [
       "MarianMTModel(\n",
       "  (model): MarianModel(\n",
       "    (shared): Embedding(62518, 512, padding_idx=62517)\n",
       "    (encoder): MarianEncoder(\n",
       "      (embed_tokens): Embedding(62518, 512, padding_idx=62517)\n",
       "      (embed_positions): MarianSinusoidalPositionalEmbedding(512, 512)\n",
       "      (layers): ModuleList(\n",
       "        (0-5): 6 x MarianEncoderLayer(\n",
       "          (self_attn): MarianAttention(\n",
       "            (k_proj): Linear(in_features=512, out_features=512, bias=True)\n",
       "            (v_proj): Linear(in_features=512, out_features=512, bias=True)\n",
       "            (q_proj): Linear(in_features=512, out_features=512, bias=True)\n",
       "            (out_proj): Linear(in_features=512, out_features=512, bias=True)\n",
       "          )\n",
       "          (self_attn_layer_norm): LayerNorm((512,), eps=1e-05, elementwise_affine=True)\n",
       "          (activation_fn): SiLU()\n",
       "          (fc1): Linear(in_features=512, out_features=2048, bias=True)\n",
       "          (fc2): Linear(in_features=2048, out_features=512, bias=True)\n",
       "          (final_layer_norm): LayerNorm((512,), eps=1e-05, elementwise_affine=True)\n",
       "        )\n",
       "      )\n",
       "    )\n",
       "    (decoder): MarianDecoder(\n",
       "      (embed_tokens): Embedding(62518, 512, padding_idx=62517)\n",
       "      (embed_positions): MarianSinusoidalPositionalEmbedding(512, 512)\n",
       "      (layers): ModuleList(\n",
       "        (0-5): 6 x MarianDecoderLayer(\n",
       "          (self_attn): MarianAttention(\n",
       "            (k_proj): Linear(in_features=512, out_features=512, bias=True)\n",
       "            (v_proj): Linear(in_features=512, out_features=512, bias=True)\n",
       "            (q_proj): Linear(in_features=512, out_features=512, bias=True)\n",
       "            (out_proj): Linear(in_features=512, out_features=512, bias=True)\n",
       "          )\n",
       "          (activation_fn): SiLU()\n",
       "          (self_attn_layer_norm): LayerNorm((512,), eps=1e-05, elementwise_affine=True)\n",
       "          (encoder_attn): MarianAttention(\n",
       "            (k_proj): Linear(in_features=512, out_features=512, bias=True)\n",
       "            (v_proj): Linear(in_features=512, out_features=512, bias=True)\n",
       "            (q_proj): Linear(in_features=512, out_features=512, bias=True)\n",
       "            (out_proj): Linear(in_features=512, out_features=512, bias=True)\n",
       "          )\n",
       "          (encoder_attn_layer_norm): LayerNorm((512,), eps=1e-05, elementwise_affine=True)\n",
       "          (fc1): Linear(in_features=512, out_features=2048, bias=True)\n",
       "          (fc2): Linear(in_features=2048, out_features=512, bias=True)\n",
       "          (final_layer_norm): LayerNorm((512,), eps=1e-05, elementwise_affine=True)\n",
       "        )\n",
       "      )\n",
       "    )\n",
       "  )\n",
       "  (lm_head): Linear(in_features=512, out_features=62518, bias=False)\n",
       ")"
      ]
     },
     "execution_count": 14,
     "metadata": {},
     "output_type": "execute_result"
    }
   ],
   "source": [
    "model"
   ]
  },
  {
   "cell_type": "markdown",
   "metadata": {},
   "source": [
    "Выбранный набор данных: https://huggingface.co/datasets/gmnlp/tico19"
   ]
  },
  {
   "cell_type": "code",
   "execution_count": 10,
   "metadata": {
    "executionInfo": {
     "elapsed": 1743,
     "status": "ok",
     "timestamp": 1732777160502,
     "user": {
      "displayName": "Игорь Подцепко",
      "userId": "04976845452220297525"
     },
     "user_tz": -180
    },
    "id": "7GEPdBbQBQ8J"
   },
   "outputs": [],
   "source": [
    "dataset = load_dataset(\"gmnlp/tico19\", \"en-ru\")  # COVID-19\n",
    "dataset = concatenate_datasets([dataset[\"test\"], dataset[\"validation\"]])"
   ]
  },
  {
   "cell_type": "code",
   "execution_count": 30,
   "metadata": {
    "colab": {
     "base_uri": "https://localhost:8080/"
    },
    "executionInfo": {
     "elapsed": 3,
     "status": "ok",
     "timestamp": 1732777160502,
     "user": {
      "displayName": "Игорь Подцепко",
      "userId": "04976845452220297525"
     },
     "user_tz": -180
    },
    "id": "YAqIauK3BQ8J",
    "outputId": "53c11729-d389-4bcc-80ab-28af2c7cac57"
   },
   "outputs": [
    {
     "data": {
      "text/plain": [
       "(3071, 8)"
      ]
     },
     "execution_count": 30,
     "metadata": {},
     "output_type": "execute_result"
    }
   ],
   "source": [
    "dataset.shape"
   ]
  },
  {
   "cell_type": "code",
   "execution_count": 31,
   "metadata": {
    "colab": {
     "base_uri": "https://localhost:8080/"
    },
    "executionInfo": {
     "elapsed": 3,
     "status": "ok",
     "timestamp": 1732777160502,
     "user": {
      "displayName": "Игорь Подцепко",
      "userId": "04976845452220297525"
     },
     "user_tz": -180
    },
    "id": "dSrB-GktBQ8J",
    "outputId": "3b2aa017-c8be-4ea8-f297-4cfe0c1a6a4d"
   },
   "outputs": [
    {
     "data": {
      "text/plain": [
       "{'sourceLang': 'en',\n",
       " 'targetlang': 'ru',\n",
       " 'sourceString': ' about how long have these symptoms been going on? ',\n",
       " 'targetString': 'о том, как долго присутствуют эти симптомы?',\n",
       " 'stringID': 'CMU_1:1',\n",
       " 'url': 'http://www.speech.cs.cmu.edu/haitian/text/1600_medical_domain_sentences.en',\n",
       " 'license': 'public',\n",
       " 'translator_id': 'User 03'}"
      ]
     },
     "execution_count": 31,
     "metadata": {},
     "output_type": "execute_result"
    }
   ],
   "source": [
    "dataset[0]"
   ]
  },
  {
   "cell_type": "code",
   "execution_count": 9,
   "metadata": {},
   "outputs": [],
   "source": [
    "MAX_LENGTH = 384"
   ]
  },
  {
   "cell_type": "code",
   "execution_count": 11,
   "metadata": {
    "executionInfo": {
     "elapsed": 1274,
     "status": "ok",
     "timestamp": 1732777161774,
     "user": {
      "displayName": "Игорь Подцепко",
      "userId": "04976845452220297525"
     },
     "user_tz": -180
    },
    "id": "_wjuUU6QBQ8J"
   },
   "outputs": [],
   "source": [
    "def preprocess_function(examples):\n",
    "    return tokenizer(\n",
    "        examples[\"sourceString\"],\n",
    "        text_target=examples[\"targetString\"],\n",
    "        max_length=MAX_LENGTH,\n",
    "        truncation=True,\n",
    "    )\n",
    "\n",
    "\n",
    "tokenized_dataset = dataset.map(\n",
    "    preprocess_function, batched=True, remove_columns=dataset.column_names\n",
    ")"
   ]
  },
  {
   "cell_type": "code",
   "execution_count": 33,
   "metadata": {
    "colab": {
     "base_uri": "https://localhost:8080/"
    },
    "executionInfo": {
     "elapsed": 4,
     "status": "ok",
     "timestamp": 1732777161774,
     "user": {
      "displayName": "Игорь Подцепко",
      "userId": "04976845452220297525"
     },
     "user_tz": -180
    },
    "id": "m1BjaBe1BQ8K",
    "outputId": "0becd0a6-1cf4-44bd-fb16-32049c41f84f"
   },
   "outputs": [
    {
     "data": {
      "text/plain": [
       "Dataset({\n",
       "    features: ['input_ids', 'attention_mask', 'labels'],\n",
       "    num_rows: 3071\n",
       "})"
      ]
     },
     "execution_count": 33,
     "metadata": {},
     "output_type": "execute_result"
    }
   ],
   "source": [
    "tokenized_dataset"
   ]
  },
  {
   "cell_type": "code",
   "execution_count": 34,
   "metadata": {
    "executionInfo": {
     "elapsed": 4,
     "status": "ok",
     "timestamp": 1732777161774,
     "user": {
      "displayName": "Игорь Подцепко",
      "userId": "04976845452220297525"
     },
     "user_tz": -180
    },
    "id": "9jupt8FZBQ8K"
   },
   "outputs": [],
   "source": [
    "train_test_split = tokenized_dataset.train_test_split(\n",
    "    test_size=0.05, seed=42, shuffle=True\n",
    ")\n",
    "\n",
    "train_dataset = train_test_split[\"train\"]\n",
    "test_dataset = train_test_split[\"test\"]"
   ]
  },
  {
   "cell_type": "code",
   "execution_count": 35,
   "metadata": {
    "colab": {
     "base_uri": "https://localhost:8080/"
    },
    "executionInfo": {
     "elapsed": 4,
     "status": "ok",
     "timestamp": 1732777161775,
     "user": {
      "displayName": "Игорь Подцепко",
      "userId": "04976845452220297525"
     },
     "user_tz": -180
    },
    "id": "Hka9yC4eBQ8K",
    "outputId": "32bbeaa9-733e-4bc8-ff43-100407374bf8"
   },
   "outputs": [
    {
     "data": {
      "text/plain": [
       "Dataset({\n",
       "    features: ['input_ids', 'attention_mask', 'labels'],\n",
       "    num_rows: 2917\n",
       "})"
      ]
     },
     "execution_count": 35,
     "metadata": {},
     "output_type": "execute_result"
    }
   ],
   "source": [
    "train_dataset"
   ]
  },
  {
   "cell_type": "code",
   "execution_count": 36,
   "metadata": {
    "colab": {
     "base_uri": "https://localhost:8080/"
    },
    "executionInfo": {
     "elapsed": 3,
     "status": "ok",
     "timestamp": 1732777161775,
     "user": {
      "displayName": "Игорь Подцепко",
      "userId": "04976845452220297525"
     },
     "user_tz": -180
    },
    "id": "TvHeUR2RBQ8L",
    "outputId": "aef69414-a2ce-450d-da0a-369183086fed"
   },
   "outputs": [
    {
     "data": {
      "text/plain": [
       "Dataset({\n",
       "    features: ['input_ids', 'attention_mask', 'labels'],\n",
       "    num_rows: 154\n",
       "})"
      ]
     },
     "execution_count": 36,
     "metadata": {},
     "output_type": "execute_result"
    }
   ],
   "source": [
    "test_dataset"
   ]
  },
  {
   "cell_type": "code",
   "execution_count": 37,
   "metadata": {
    "colab": {
     "base_uri": "https://localhost:8080/"
    },
    "executionInfo": {
     "elapsed": 3,
     "status": "ok",
     "timestamp": 1732777161775,
     "user": {
      "displayName": "Игорь Подцепко",
      "userId": "04976845452220297525"
     },
     "user_tz": -180
    },
    "id": "bZgE-rAJBQ8L",
    "outputId": "1f78dbb2-b67d-4c4f-d7a6-cc66d59cd298"
   },
   "outputs": [
    {
     "name": "stdout",
     "output_type": "stream",
     "text": [
      "The Czech Republic and Slovakia banned going out in public without wearing a mask or covering one's nose and mouth.\n",
      "В Чешской Республике и Словакии гражданам запрещено выходить на улицу без масок, закрывающих нос и рот.\n"
     ]
    }
   ],
   "source": [
    "EXAMPLE_ID = 0\n",
    "\n",
    "print(tokenizer.decode(test_dataset[EXAMPLE_ID][\"input_ids\"], skip_special_tokens=True))\n",
    "print(tokenizer.decode(test_dataset[EXAMPLE_ID][\"labels\"], skip_special_tokens=True))"
   ]
  },
  {
   "cell_type": "code",
   "execution_count": 38,
   "metadata": {
    "executionInfo": {
     "elapsed": 1252,
     "status": "ok",
     "timestamp": 1732777163025,
     "user": {
      "displayName": "Игорь Подцепко",
      "userId": "04976845452220297525"
     },
     "user_tz": -180
    },
    "id": "DmUCfNlWBQ8L"
   },
   "outputs": [],
   "source": [
    "metric = evaluate.load(\"sacrebleu\")"
   ]
  },
  {
   "cell_type": "code",
   "execution_count": 39,
   "metadata": {
    "executionInfo": {
     "elapsed": 4,
     "status": "ok",
     "timestamp": 1732777163025,
     "user": {
      "displayName": "Игорь Подцепко",
      "userId": "04976845452220297525"
     },
     "user_tz": -180
    },
    "id": "tOrkGgY4BQ8L"
   },
   "outputs": [],
   "source": [
    "def postprocess_text(preds, labels):\n",
    "    preds = [pred.strip() for pred in preds]\n",
    "    labels = [[label.strip()] for label in labels]\n",
    "\n",
    "    return preds, labels"
   ]
  },
  {
   "cell_type": "code",
   "execution_count": 40,
   "metadata": {
    "executionInfo": {
     "elapsed": 4,
     "status": "ok",
     "timestamp": 1732777163025,
     "user": {
      "displayName": "Игорь Подцепко",
      "userId": "04976845452220297525"
     },
     "user_tz": -180
    },
    "id": "LDRKyotUBQ8L"
   },
   "outputs": [],
   "source": [
    "data_collator = DataCollatorForSeq2Seq(tokenizer=tokenizer, model=checkpoint)"
   ]
  },
  {
   "cell_type": "code",
   "execution_count": 5,
   "metadata": {
    "executionInfo": {
     "elapsed": 4,
     "status": "ok",
     "timestamp": 1732777163025,
     "user": {
      "displayName": "Игорь Подцепко",
      "userId": "04976845452220297525"
     },
     "user_tz": -180
    },
    "id": "zmE8mxcxBQ8L"
   },
   "outputs": [],
   "source": [
    "def translate(input: str):\n",
    "    tokenized = tokenizer(\n",
    "        input,\n",
    "        max_length=MAX_LENGTH,\n",
    "        return_tensors=\"pt\",\n",
    "        truncation=True,\n",
    "    )\n",
    "\n",
    "    generated_ids = model.generate(\n",
    "        input_ids=tokenized.input_ids.to(device),\n",
    "        attention_mask=tokenized.attention_mask.to(device),\n",
    "        max_length=MAX_LENGTH,\n",
    "        num_beams=4,\n",
    "        repetition_penalty=2.5,\n",
    "        length_penalty=1.0,\n",
    "        early_stopping=True,\n",
    "    )\n",
    "\n",
    "    return tokenizer.decode(generated_ids[0], skip_special_tokens=True)"
   ]
  },
  {
   "cell_type": "code",
   "execution_count": 42,
   "metadata": {
    "colab": {
     "base_uri": "https://localhost:8080/",
     "height": 35
    },
    "executionInfo": {
     "elapsed": 4,
     "status": "ok",
     "timestamp": 1732777163025,
     "user": {
      "displayName": "Игорь Подцепко",
      "userId": "04976845452220297525"
     },
     "user_tz": -180
    },
    "id": "z_pUZdkpFovo",
    "outputId": "0d60d509-2180-4e90-ec80-0a015cc06c5d"
   },
   "outputs": [
    {
     "data": {
      "application/vnd.google.colaboratory.intrinsic+json": {
       "type": "string"
      },
      "text/plain": [
       "'Я люблю тебя.'"
      ]
     },
     "execution_count": 42,
     "metadata": {},
     "output_type": "execute_result"
    }
   ],
   "source": [
    "translate(\"I love you\")"
   ]
  },
  {
   "cell_type": "code",
   "execution_count": null,
   "metadata": {
    "colab": {
     "base_uri": "https://localhost:8080/",
     "height": 35
    },
    "executionInfo": {
     "elapsed": 955,
     "status": "ok",
     "timestamp": 1732777163977,
     "user": {
      "displayName": "Игорь Подцепко",
      "userId": "04976845452220297525"
     },
     "user_tz": -180
    },
    "id": "FqxVIoFXF_BR",
    "outputId": "727b681c-6f7b-4c8d-cfa3-53bf92b0e652"
   },
   "outputs": [
    {
     "data": {
      "application/vnd.google.colaboratory.intrinsic+json": {
       "type": "string"
      },
      "text/plain": [
       "'Санитарный спирт на основе алкоголя'"
      ]
     },
     "execution_count": 43,
     "metadata": {},
     "output_type": "execute_result"
    }
   ],
   "source": [
    "translate(\"Alcohol-based sanitizer\")  # Дезинфицирующее средство на спиртовой основе"
   ]
  },
  {
   "cell_type": "code",
   "execution_count": 44,
   "metadata": {
    "executionInfo": {
     "elapsed": 3,
     "status": "ok",
     "timestamp": 1732777163977,
     "user": {
      "displayName": "Игорь Подцепко",
      "userId": "04976845452220297525"
     },
     "user_tz": -180
    },
    "id": "augGs3fWYWJq"
   },
   "outputs": [],
   "source": [
    "predictions = []\n",
    "references = []\n",
    "\n",
    "\n",
    "def compute_metrics(eval_predictions, compute_result=False):\n",
    "    global predictions, references\n",
    "\n",
    "    predicted_ids, label_ids = eval_predictions\n",
    "    if isinstance(predicted_ids, tuple):\n",
    "        predicted_ids = predicted_ids[0]\n",
    "\n",
    "    label_ids = label_ids.cpu().numpy()\n",
    "    label_ids = np.where(label_ids != -100, label_ids, tokenizer.pad_token_id)\n",
    "\n",
    "    batch_predictions, batch_references = postprocess_text(\n",
    "        tokenizer.batch_decode(predicted_ids, skip_special_tokens=True),\n",
    "        tokenizer.batch_decode(label_ids, skip_special_tokens=True),\n",
    "    )\n",
    "\n",
    "    if not compute_result:\n",
    "        predictions.extend(batch_predictions)\n",
    "        references.extend(batch_references)\n",
    "        return {}\n",
    "\n",
    "    bleu = metric.compute(predictions=predictions, references=references)[\"score\"]\n",
    "\n",
    "    predictions, references = [], []\n",
    "    return {\"BLEU\": bleu}"
   ]
  },
  {
   "cell_type": "code",
   "execution_count": 45,
   "metadata": {
    "executionInfo": {
     "elapsed": 3,
     "status": "ok",
     "timestamp": 1732777163977,
     "user": {
      "displayName": "Игорь Подцепко",
      "userId": "04976845452220297525"
     },
     "user_tz": -180
    },
    "id": "ny0usNO2BQ8L"
   },
   "outputs": [],
   "source": [
    "import logging\n",
    "\n",
    "\n",
    "class RemoveTrainerTokenizerSpam(logging.Filter):\n",
    "    def filter(self, record):\n",
    "        return not record.getMessage().startswith(\"Trainer.tokenizer\")\n",
    "\n",
    "\n",
    "logging.getLogger(\"transformers.trainer\").addFilter(RemoveTrainerTokenizerSpam())"
   ]
  },
  {
   "cell_type": "code",
   "execution_count": 46,
   "metadata": {
    "executionInfo": {
     "elapsed": 2,
     "status": "ok",
     "timestamp": 1732777163977,
     "user": {
      "displayName": "Игорь Подцепко",
      "userId": "04976845452220297525"
     },
     "user_tz": -180
    },
    "id": "gSLeZs4pBQ8L"
   },
   "outputs": [],
   "source": [
    "training_args = Seq2SeqTrainingArguments(\n",
    "    output_dir=\"fine-tuning\",\n",
    "    eval_strategy=IntervalStrategy.EPOCH,\n",
    "    save_strategy=IntervalStrategy.EPOCH,\n",
    "    logging_strategy=IntervalStrategy.EPOCH,\n",
    "    learning_rate=2e-5,\n",
    "    per_device_train_batch_size=24,\n",
    "    per_device_eval_batch_size=24,\n",
    "    save_total_limit=3,\n",
    "    predict_with_generate=True,\n",
    "    lr_scheduler_type=\"linear\",\n",
    "    num_train_epochs=5,\n",
    "    batch_eval_metrics=True,\n",
    "    eval_on_start=True,\n",
    ")\n",
    "\n",
    "trainer = Seq2SeqTrainer(\n",
    "    model=model,\n",
    "    args=training_args,\n",
    "    train_dataset=train_dataset,\n",
    "    eval_dataset=test_dataset,\n",
    "    processing_class=tokenizer,\n",
    "    data_collator=data_collator,\n",
    "    compute_metrics=compute_metrics,\n",
    ")"
   ]
  },
  {
   "cell_type": "code",
   "execution_count": 47,
   "metadata": {
    "colab": {
     "base_uri": "https://localhost:8080/",
     "height": 353
    },
    "executionInfo": {
     "elapsed": 389104,
     "status": "ok",
     "timestamp": 1732777553079,
     "user": {
      "displayName": "Игорь Подцепко",
      "userId": "04976845452220297525"
     },
     "user_tz": -180
    },
    "id": "PtbAjaN7BQ8L",
    "outputId": "228805d9-322d-4bd1-ad94-194b638f3e63"
   },
   "outputs": [
    {
     "data": {
      "text/html": [
       "\n",
       "    <div>\n",
       "      \n",
       "      <progress value='610' max='610' style='width:300px; height:20px; vertical-align: middle;'></progress>\n",
       "      [610/610 05:54, Epoch 5/5]\n",
       "    </div>\n",
       "    <table border=\"1\" class=\"dataframe\">\n",
       "  <thead>\n",
       " <tr style=\"text-align: left;\">\n",
       "      <th>Epoch</th>\n",
       "      <th>Training Loss</th>\n",
       "      <th>Validation Loss</th>\n",
       "      <th>Bleu</th>\n",
       "    </tr>\n",
       "  </thead>\n",
       "  <tbody>\n",
       "    <tr>\n",
       "      <td>0</td>\n",
       "      <td>No log</td>\n",
       "      <td>1.457265</td>\n",
       "      <td>24.237839</td>\n",
       "    </tr>\n",
       "    <tr>\n",
       "      <td>1</td>\n",
       "      <td>1.428200</td>\n",
       "      <td>1.232249</td>\n",
       "      <td>28.449169</td>\n",
       "    </tr>\n",
       "    <tr>\n",
       "      <td>2</td>\n",
       "      <td>1.197000</td>\n",
       "      <td>1.186939</td>\n",
       "      <td>30.217530</td>\n",
       "    </tr>\n",
       "    <tr>\n",
       "      <td>3</td>\n",
       "      <td>1.082700</td>\n",
       "      <td>1.171463</td>\n",
       "      <td>31.213094</td>\n",
       "    </tr>\n",
       "    <tr>\n",
       "      <td>4</td>\n",
       "      <td>1.010400</td>\n",
       "      <td>1.163533</td>\n",
       "      <td>31.325812</td>\n",
       "    </tr>\n",
       "    <tr>\n",
       "      <td>5</td>\n",
       "      <td>0.965500</td>\n",
       "      <td>1.161022</td>\n",
       "      <td>31.152773</td>\n",
       "    </tr>\n",
       "  </tbody>\n",
       "</table><p>"
      ],
      "text/plain": [
       "<IPython.core.display.HTML object>"
      ]
     },
     "metadata": {},
     "output_type": "display_data"
    },
    {
     "name": "stderr",
     "output_type": "stream",
     "text": [
      "/usr/local/lib/python3.10/dist-packages/transformers/modeling_utils.py:2817: UserWarning: Moving the following attributes in the config to the generation config: {'max_length': 512, 'num_beams': 4, 'bad_words_ids': [[62517]]}. You are seeing this warning because you've set generation parameters in the model config, as opposed to in the generation config.\n",
      "  warnings.warn(\n"
     ]
    },
    {
     "data": {
      "text/plain": [
       "TrainOutput(global_step=610, training_loss=1.1367431015264793, metrics={'train_runtime': 387.6228, 'train_samples_per_second': 37.627, 'train_steps_per_second': 1.574, 'total_flos': 315975663747072.0, 'train_loss': 1.1367431015264793, 'epoch': 5.0})"
      ]
     },
     "execution_count": 47,
     "metadata": {},
     "output_type": "execute_result"
    }
   ],
   "source": [
    "trainer.train()"
   ]
  },
  {
   "cell_type": "code",
   "execution_count": 54,
   "metadata": {
    "colab": {
     "base_uri": "https://localhost:8080/"
    },
    "executionInfo": {
     "elapsed": 35912,
     "status": "ok",
     "timestamp": 1732777800451,
     "user": {
      "displayName": "Игорь Подцепко",
      "userId": "04976845452220297525"
     },
     "user_tz": -180
    },
    "id": "3qFtEbPzmfCl",
    "outputId": "fdb28b05-9398-49e8-a0da-eeec8a367da8"
   },
   "outputs": [
    {
     "name": "stdout",
     "output_type": "stream",
     "text": [
      "Mounted at /content/drive\n"
     ]
    }
   ],
   "source": [
    "from google.colab import drive\n",
    "\n",
    "drive.mount(\"/content/drive\")"
   ]
  },
  {
   "cell_type": "code",
   "execution_count": null,
   "metadata": {
    "executionInfo": {
     "elapsed": 3383,
     "status": "ok",
     "timestamp": 1732777904316,
     "user": {
      "displayName": "Игорь Подцепко",
      "userId": "04976845452220297525"
     },
     "user_tz": -180
    },
    "id": "1x1FM6-BmKvE"
   },
   "outputs": [],
   "source": [
    "torch.save(\n",
    "    model.state_dict(), \"./drive/MyDrive/Colab Notebooks/fine-tuned-opus-mt-en-ru.pth\"\n",
    ")"
   ]
  },
  {
   "cell_type": "code",
   "execution_count": 6,
   "metadata": {},
   "outputs": [
    {
     "data": {
      "text/plain": [
       "<All keys matched successfully>"
      ]
     },
     "execution_count": 6,
     "metadata": {},
     "output_type": "execute_result"
    }
   ],
   "source": [
    "model.load_state_dict(\n",
    "    torch.load(\"./fine-tuned-opus-mt-en-ru.pth\", weights_only=True, map_location=device)\n",
    ")"
   ]
  },
  {
   "cell_type": "code",
   "execution_count": 12,
   "metadata": {},
   "outputs": [
    {
     "data": {
      "text/plain": [
       "'Я люблю тебя'"
      ]
     },
     "execution_count": 12,
     "metadata": {},
     "output_type": "execute_result"
    }
   ],
   "source": [
    "translate(\"I love you\")"
   ]
  },
  {
   "cell_type": "code",
   "execution_count": 13,
   "metadata": {},
   "outputs": [
    {
     "data": {
      "text/plain": [
       "'Дезинфицирующее средство на спиртовой основе'"
      ]
     },
     "execution_count": 13,
     "metadata": {},
     "output_type": "execute_result"
    }
   ],
   "source": [
    "translate(\"Alcohol-based sanitizer\")  # Дезинфицирующее средство на спиртовой основе"
   ]
  },
  {
   "cell_type": "markdown",
   "metadata": {},
   "source": [
    "**Выводы**:\n",
    "1. Исходная модель `Helsinki-NLP/opus-mt-en-ru` для перевода с русского языка на английский имеет высокую метрику BLEU на наборе данных OPUS en-ru, однако недостаточно хорошо подходит для специфичных задач.\n",
    "2. Набор данных `gmnlp/tico19` содержит небольшое количество хороших данных, собранных из медицинских журналов в период эпидемии Covid-19.\n",
    "3. Fine tuning модели `Helsinki-NLP/opus-mt-en-ru` на наборе данных `gmnlp/tico19` позволяет получить значение метрики BLEU = 31.15, что является высоким результатом."
   ]
  }
 ],
 "metadata": {
  "accelerator": "GPU",
  "colab": {
   "gpuType": "T4",
   "provenance": []
  },
  "kernelspec": {
   "display_name": "ml-advanced-6ERMMjIi-py3.12",
   "language": "python",
   "name": "python3"
  },
  "language_info": {
   "codemirror_mode": {
    "name": "ipython",
    "version": 3
   },
   "file_extension": ".py",
   "mimetype": "text/x-python",
   "name": "python",
   "nbconvert_exporter": "python",
   "pygments_lexer": "ipython3",
   "version": "3.12.2"
  }
 },
 "nbformat": 4,
 "nbformat_minor": 0
}
