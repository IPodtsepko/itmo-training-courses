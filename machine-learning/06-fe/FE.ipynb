{
 "nbformat": 4,
 "nbformat_minor": 0,
 "metadata": {
  "colab": {
   "provenance": [],
   "gpuType": "T4"
  },
  "kernelspec": {
   "name": "python3",
   "display_name": "Python 3"
  },
  "language_info": {
   "name": "python"
  },
  "accelerator": "GPU",
  "gpuClass": "standard"
 },
 "cells": [
  {
   "cell_type": "markdown",
   "source": [
    "# Лабораторная №6. Выбор признаков\n",
    "\n",
    "Выполнил: Подцепко Игорь Сергеевич, учебная группа M33351\n",
    "\n",
    "## Реализация методов выбора признаков\n",
    "\n",
    "Я выбрал следующие методы выбора признаков:\n",
    "1. RFE (SVM-RFE) в качестве _внутреннего_;\n",
    "2. SFS (sequential feature selection) в качестве _метода-обертки_ (forward модификацию);\n",
    "3. Одномерный фильтрующий метод на основе $\\chi^2$.\n",
    "\n",
    "Реализации их вынесены в отдельный пакет `implementation`, чтобы не засорять ноутбук (см. `./implementation/_rfe.py`, `./implementation/_sequential_feature_selector.py` и `./implementation/_filters.py`).\n",
    "\n",
    "## Применение реализованных методов\n",
    "\n",
    "В качестве \"подопытного\" набора данных я выбрал SMS. В силу того, что текст - это неструктурированные данные, необходимо выполнить предварительную обработку: очистку и векторизацию."
   ],
   "metadata": {
    "id": "R4BN7rOd5x6t"
   }
  },
  {
   "cell_type": "code",
   "source": [
    "import pandas as pd\n",
    "\n",
    "df = pd.read_table(\"./SMS.tsv\")\n",
    "df.head()"
   ],
   "metadata": {
    "colab": {
     "base_uri": "https://localhost:8080/",
     "height": 206
    },
    "id": "PVekDX3r6CwD",
    "outputId": "ca554bff-f011-4592-d9da-9abfa32fe5af"
   },
   "execution_count": 1,
   "outputs": [
    {
     "data": {
      "text/plain": "  class                                               text\n0   ham  Go until jurong point, crazy.. Available only ...\n1   ham                      Ok lar... Joking wif u oni...\n2  spam  Free entry in 2 a wkly comp to win FA Cup fina...\n3   ham  U dun say so early hor... U c already then say...\n4   ham  Nah I don't think he goes to usf, he lives aro...",
      "text/html": "<div>\n<style scoped>\n    .dataframe tbody tr th:only-of-type {\n        vertical-align: middle;\n    }\n\n    .dataframe tbody tr th {\n        vertical-align: top;\n    }\n\n    .dataframe thead th {\n        text-align: right;\n    }\n</style>\n<table border=\"1\" class=\"dataframe\">\n  <thead>\n    <tr style=\"text-align: right;\">\n      <th></th>\n      <th>class</th>\n      <th>text</th>\n    </tr>\n  </thead>\n  <tbody>\n    <tr>\n      <th>0</th>\n      <td>ham</td>\n      <td>Go until jurong point, crazy.. Available only ...</td>\n    </tr>\n    <tr>\n      <th>1</th>\n      <td>ham</td>\n      <td>Ok lar... Joking wif u oni...</td>\n    </tr>\n    <tr>\n      <th>2</th>\n      <td>spam</td>\n      <td>Free entry in 2 a wkly comp to win FA Cup fina...</td>\n    </tr>\n    <tr>\n      <th>3</th>\n      <td>ham</td>\n      <td>U dun say so early hor... U c already then say...</td>\n    </tr>\n    <tr>\n      <th>4</th>\n      <td>ham</td>\n      <td>Nah I don't think he goes to usf, he lives aro...</td>\n    </tr>\n  </tbody>\n</table>\n</div>"
     },
     "execution_count": 1,
     "metadata": {},
     "output_type": "execute_result"
    }
   ]
  },
  {
   "cell_type": "code",
   "source": [
    "import nltk\n",
    "\n",
    "nltk.download(\"stopwords\")\n",
    "nltk.download(\"wordnet\")\n",
    "nltk.download(\"punkt\")\n",
    "nltk.download('omw-1.4');"
   ],
   "metadata": {
    "colab": {
     "base_uri": "https://localhost:8080/"
    },
    "id": "gbGczcimJlfS",
    "outputId": "cff2293c-f7b1-48c8-8409-f41edb2596e4"
   },
   "execution_count": 2,
   "outputs": [
    {
     "name": "stderr",
     "output_type": "stream",
     "text": [
      "[nltk_data] Downloading package stopwords to /home/igor/nltk_data...\n",
      "[nltk_data]   Package stopwords is already up-to-date!\n",
      "[nltk_data] Downloading package wordnet to /home/igor/nltk_data...\n",
      "[nltk_data]   Package wordnet is already up-to-date!\n",
      "[nltk_data] Downloading package punkt to /home/igor/nltk_data...\n",
      "[nltk_data]   Package punkt is already up-to-date!\n",
      "[nltk_data] Downloading package omw-1.4 to /home/igor/nltk_data...\n",
      "[nltk_data]   Package omw-1.4 is already up-to-date!\n"
     ]
    }
   ]
  },
  {
   "cell_type": "markdown",
   "source": [
    "Выполним очистку текста:\n",
    "1. Приведем все символы к нижнему регистру;\n",
    "2. Удалим стоп-слова, так как они обычно не несут полезной информации;\n",
    "3. Оставим только слова, состоящие из букв\n",
    "4. Выполним лемматизацию - приведение слов в тексте к их базовым формам, чтобы объединить разные формы одного и того же слова в единый признак."
   ],
   "metadata": {
    "id": "wT3vOwfVKFWI"
   }
  },
  {
   "cell_type": "code",
   "source": [
    "def clear_message(text: str) -> str:\n",
    "    stop_words = set(nltk.corpus.stopwords.words(\"english\"))\n",
    "    lemmatizer = nltk.stem.WordNetLemmatizer()\n",
    "    words = [\n",
    "        lemmatizer.lemmatize(word)\n",
    "        for word in nltk.tokenize.word_tokenize(text.lower())\n",
    "        if word not in stop_words and word.isalpha()\n",
    "    ]\n",
    "    return \" \".join(words)\n",
    "\n",
    "\n",
    "df.text = df.text.apply(clear_message)\n",
    "df.head()"
   ],
   "metadata": {
    "colab": {
     "base_uri": "https://localhost:8080/",
     "height": 206
    },
    "id": "LeIvuCF0FwtF",
    "outputId": "397cf746-a898-4de2-c81a-0830e49aad2f"
   },
   "execution_count": 3,
   "outputs": [
    {
     "data": {
      "text/plain": "  class                                               text\n0   ham  go jurong point crazy available bugis n great ...\n1   ham                            ok lar joking wif u oni\n2  spam  free entry wkly comp win fa cup final tkts may...\n3   ham                u dun say early hor u c already say\n4   ham                nah think go usf life around though",
      "text/html": "<div>\n<style scoped>\n    .dataframe tbody tr th:only-of-type {\n        vertical-align: middle;\n    }\n\n    .dataframe tbody tr th {\n        vertical-align: top;\n    }\n\n    .dataframe thead th {\n        text-align: right;\n    }\n</style>\n<table border=\"1\" class=\"dataframe\">\n  <thead>\n    <tr style=\"text-align: right;\">\n      <th></th>\n      <th>class</th>\n      <th>text</th>\n    </tr>\n  </thead>\n  <tbody>\n    <tr>\n      <th>0</th>\n      <td>ham</td>\n      <td>go jurong point crazy available bugis n great ...</td>\n    </tr>\n    <tr>\n      <th>1</th>\n      <td>ham</td>\n      <td>ok lar joking wif u oni</td>\n    </tr>\n    <tr>\n      <th>2</th>\n      <td>spam</td>\n      <td>free entry wkly comp win fa cup final tkts may...</td>\n    </tr>\n    <tr>\n      <th>3</th>\n      <td>ham</td>\n      <td>u dun say early hor u c already say</td>\n    </tr>\n    <tr>\n      <th>4</th>\n      <td>ham</td>\n      <td>nah think go usf life around though</td>\n    </tr>\n  </tbody>\n</table>\n</div>"
     },
     "execution_count": 3,
     "metadata": {},
     "output_type": "execute_result"
    }
   ]
  },
  {
   "cell_type": "markdown",
   "source": [
    "Применим алгорим TF-IDF для векторизации сообщений (предлагался к использованию в чате курса):"
   ],
   "metadata": {
    "id": "zjBOELttQju_"
   }
  },
  {
   "cell_type": "code",
   "source": [
    "import random\n",
    "from sklearn.feature_extraction.text import TfidfVectorizer\n",
    "\n",
    "vectorizer = TfidfVectorizer()\n",
    "X = vectorizer.fit_transform(df.text)\n",
    "y = df[\"class\"].replace({\"ham\": 0, \"spam\": 1}).to_numpy()\n",
    "\n",
    "feature_names = vectorizer.get_feature_names_out()  # dict with words\n",
    "\n",
    "\n",
    "def get_selected_words(selected):\n",
    "    return [feature_names[word_index] for (word_index, is_selected) in enumerate(selected) if is_selected]\n",
    "\n",
    "\n",
    "print(random.sample(sorted(feature_names), 10))"
   ],
   "metadata": {
    "colab": {
     "base_uri": "https://localhost:8080/"
    },
    "id": "-n7p2xD1Deqx",
    "outputId": "39fe97a5-54f3-4a5b-d60f-6cd9e73033b6"
   },
   "execution_count": 4,
   "outputs": [
    {
     "name": "stdout",
     "output_type": "stream",
     "text": [
      "['settling', 'mile', 'themed', 'told', 'easter', 'consent', 'sic', 'tough', 'jaklin', 'jetton']\n"
     ]
    }
   ]
  },
  {
   "cell_type": "markdown",
   "source": [
    "Сразу разделим набор данных на тренировочную (80%) и тестовую (20%) части."
   ],
   "metadata": {
    "collapsed": false
   }
  },
  {
   "cell_type": "code",
   "source": [
    "from sklearn.model_selection import train_test_split\n",
    "\n",
    "X_train, X_test, y_train, y_test = train_test_split(\n",
    "    X, y, test_size=0.2, random_state=42\n",
    ")"
   ],
   "metadata": {
    "id": "LOudUzDxiqVg"
   },
   "execution_count": 5,
   "outputs": []
  },
  {
   "cell_type": "markdown",
   "source": [
    "Для применения RFE требуется классификатор. В модификации SVM-RFE - это классификатор на основе SVM. Именно его коэффициенты используются для определения важности признаков. Чтобы улучшить качество работы RFE - быстро найдем более-менее адекватные параметры для модели `sklearn.svm.SVC` (я не уделял этому особого внимания, так как данный пункт не относится к основной цели лабораторной работы)."
   ],
   "metadata": {
    "collapsed": false
   }
  },
  {
   "cell_type": "code",
   "source": [
    "from sklearn.model_selection import GridSearchCV\n",
    "from sklearn import svm\n",
    "\n",
    "param_grid = {\n",
    "    \"C\": [0.1, 1, 10, 100],\n",
    "    \"gamma\": [1, 0.1, 0.01, 0.001],\n",
    "    \"kernel\": [\"linear\"],\n",
    "}\n",
    "\n",
    "grid = GridSearchCV(svm.SVC(), param_grid, refit=True, verbose=1)\n",
    "grid.fit(X_train, y_train);"
   ],
   "metadata": {
    "colab": {
     "base_uri": "https://localhost:8080/",
     "height": 135
    },
    "id": "KEBwVFjkhzNS",
    "outputId": "297c6b94-bd99-4f3d-ec30-5de811cb7230"
   },
   "execution_count": 6,
   "outputs": [
    {
     "name": "stdout",
     "output_type": "stream",
     "text": [
      "Fitting 5 folds for each of 16 candidates, totalling 80 fits\n"
     ]
    }
   ]
  },
  {
   "cell_type": "markdown",
   "source": [
    "### Применение метода SVN-RFE"
   ],
   "metadata": {
    "collapsed": false
   }
  },
  {
   "cell_type": "code",
   "source": [
    "from implementation import RFE\n",
    "from pprint import pprint\n",
    "\n",
    "svc_estimator = svm.SVC(**grid.best_params_)\n",
    "rfe = RFE(estimator=svc_estimator, n_features_to_select=30, step=200).fit(X_train, y_train)\n",
    "rfe_selected_words = get_selected_words(rfe.get_selected())\n",
    "pprint(rfe_selected_words)"
   ],
   "metadata": {
    "colab": {
     "base_uri": "https://localhost:8080/"
    },
    "id": "lqsvpcFsQsqS",
    "outputId": "45e186d9-3239-4046-ff46-20abe9b53df2"
   },
   "execution_count": 7,
   "outputs": [
    {
     "name": "stderr",
     "output_type": "stream",
     "text": [
      "100%|██████████| 34/34 [00:09<00:00,  3.49it/s]"
     ]
    },
    {
     "name": "stdout",
     "output_type": "stream",
     "text": [
      "['ac',\n",
      " 'alert',\n",
      " 'apply',\n",
      " 'awarded',\n",
      " 'claim',\n",
      " 'collection',\n",
      " 'eg',\n",
      " 'freemsg',\n",
      " 'ldn',\n",
      " 'linerental',\n",
      " 'mobile',\n",
      " 'morning',\n",
      " 'network',\n",
      " 'opt',\n",
      " 'orange',\n",
      " 'pobox',\n",
      " 'prize',\n",
      " 'rate',\n",
      " 'ringtone',\n",
      " 'sae',\n",
      " 'service',\n",
      " 'suprman',\n",
      " 'tone',\n",
      " 'txt',\n",
      " 'txts',\n",
      " 'unsubscribe',\n",
      " 'vodafone',\n",
      " 'voucher',\n",
      " 'wap',\n",
      " 'win']\n"
     ]
    },
    {
     "name": "stderr",
     "output_type": "stream",
     "text": [
      "\n"
     ]
    }
   ]
  },
  {
   "cell_type": "markdown",
   "source": [
    "По-моему, результат частично ожидаем. Например, кажется очевидным, что слова \"awarded\", \"prize\", \"win\" могут намекать на то, что сообщение является спамом. А \"unsubscribe\" - это кнопка, которая почти всегда находится внизу надоедливых сообщений (рекламных/новостных рассылок) почти любых сервисов: twitter, hh.ru и др.\n",
    "\n",
    "### Применение SFS (sequential feature selection)"
   ],
   "metadata": {
    "collapsed": false
   }
  },
  {
   "cell_type": "code",
   "source": [
    "from implementation import SFS\n",
    "\n",
    "sfs = SFS(estimator=svc_estimator, n_features_to_select=30).fit(X_train, y_train, X_test=X_test, y_test=y_test)\n",
    "sfs_selected_words = get_selected_words(sfs.get_selected())\n",
    "pprint(sfs_selected_words)"
   ],
   "metadata": {
    "colab": {
     "base_uri": "https://localhost:8080/",
     "height": 397
    },
    "id": "Q6OaC1_CwNtM",
    "outputId": "78ca578b-4dcd-4fb4-9c1a-1f6131cb4108"
   },
   "execution_count": 8,
   "outputs": [
    {
     "name": "stderr",
     "output_type": "stream",
     "text": [
      "100%|██████████| 30/30 [36:23<00:00, 72.77s/it]"
     ]
    },
    {
     "name": "stdout",
     "output_type": "stream",
     "text": [
      "['access',\n",
      " 'admirer',\n",
      " 'auction',\n",
      " 'await',\n",
      " 'bak',\n",
      " 'bluetooth',\n",
      " 'box',\n",
      " 'claim',\n",
      " 'club',\n",
      " 'co',\n",
      " 'dogging',\n",
      " 'entry',\n",
      " 'hmv',\n",
      " 'http',\n",
      " 'incredible',\n",
      " 'landline',\n",
      " 'ldn',\n",
      " 'mobile',\n",
      " 'opt',\n",
      " 'pobox',\n",
      " 'poly',\n",
      " 'polys',\n",
      " 'private',\n",
      " 'prize',\n",
      " 'service',\n",
      " 'std',\n",
      " 'textoperator',\n",
      " 'txt',\n",
      " 'urgent',\n",
      " 'video']\n"
     ]
    },
    {
     "name": "stderr",
     "output_type": "stream",
     "text": [
      "\n"
     ]
    }
   ]
  },
  {
   "cell_type": "markdown",
   "source": [
    "В данном случае метод отобрал несколько иные слова, однако, например, \"prize\" всё еще присутствует среди отобранных слов. Стоит отметить, что в данном наборе данных после векторизации всего более 6500 слов, так что совпадение хотя бы одного в результирующем списке уже говорит о том, что направления, в котором происходит отбор, достаточно близкие. И это не единственное слово, относительно важности которого SFS оказался согласен с SVM-RFE.\n",
    "\n",
    "Примечательно здесь, по-моему, еще слово \"http\". Скорее всего его присутствие сообщает нам о наличии ссылок в сообщении - это может быть характерно для спама.\n",
    "\n",
    "### Применение фильтрующего метода на основе $\\chi^2$"
   ],
   "metadata": {
    "collapsed": false
   }
  },
  {
   "cell_type": "code",
   "execution_count": 9,
   "outputs": [
    {
     "name": "stdout",
     "output_type": "stream",
     "text": [
      "['award',\n",
      " 'awarded',\n",
      " 'call',\n",
      " 'camera',\n",
      " 'cash',\n",
      " 'claim',\n",
      " 'contact',\n",
      " 'customer',\n",
      " 'draw',\n",
      " 'free',\n",
      " 'guaranteed',\n",
      " 'landline',\n",
      " 'mobile',\n",
      " 'nokia',\n",
      " 'per',\n",
      " 'prize',\n",
      " 'rate',\n",
      " 'reply',\n",
      " 'ringtone',\n",
      " 'service',\n",
      " 'stop',\n",
      " 'text',\n",
      " 'tone',\n",
      " 'txt',\n",
      " 'urgent',\n",
      " 'valid',\n",
      " 'video',\n",
      " 'voucher',\n",
      " 'weekly',\n",
      " 'win']\n"
     ]
    }
   ],
   "source": [
    "from implementation import Chi2Filter\n",
    "\n",
    "chi2 = Chi2Filter(n_features_to_select=30).fit(X_train.toarray(), y_train)\n",
    "chi2_selected_words = get_selected_words(chi2.get_selected())\n",
    "pprint(chi2_selected_words)"
   ],
   "metadata": {
    "collapsed": false
   }
  },
  {
   "cell_type": "markdown",
   "source": [
    "Здесь снова можно увидеть \"price\" и \"win\". Еще из интересного - \"cash\", \"free\". Теперь посмотрим в чем вышеперечисленные методы \"согласны\":"
   ],
   "metadata": {
    "collapsed": false
   }
  },
  {
   "cell_type": "code",
   "execution_count": 10,
   "outputs": [
    {
     "name": "stdout",
     "output_type": "stream",
     "text": [
      "5: {'mobile', 'prize', 'txt', 'service', 'claim'}\n"
     ]
    }
   ],
   "source": [
    "consensus = set.intersection(set(rfe_selected_words), set(sfs_selected_words), set(chi2_selected_words))\n",
    "print(f\"{len(consensus)}: {consensus}\")"
   ],
   "metadata": {
    "collapsed": false
   }
  },
  {
   "cell_type": "markdown",
   "source": [
    "Таким образом, 5 данных слов присутствуют в списках для каждого из вышеперечисленных методов.\n",
    "\n",
    "## Применение библиотечных методов\n",
    "\n",
    "### Внутренний метод `SelectFromModel` на базе дерева принятия решений"
   ],
   "metadata": {
    "collapsed": false
   }
  },
  {
   "cell_type": "code",
   "execution_count": 11,
   "outputs": [
    {
     "name": "stdout",
     "output_type": "stream",
     "text": [
      "['call',\n",
      " 'claim',\n",
      " 'come',\n",
      " 'coming',\n",
      " 'contact',\n",
      " 'free',\n",
      " 'get',\n",
      " 'give',\n",
      " 'hi',\n",
      " 'http',\n",
      " 'landline',\n",
      " 'later',\n",
      " 'lt',\n",
      " 'maximize',\n",
      " 'mobile',\n",
      " 'new',\n",
      " 'nokia',\n",
      " 'rate',\n",
      " 'rcvd',\n",
      " 'reply',\n",
      " 'ringtone',\n",
      " 'service',\n",
      " 'stop',\n",
      " 'text',\n",
      " 'tone',\n",
      " 'txt',\n",
      " 'urgent',\n",
      " 'video',\n",
      " 'voucher',\n",
      " 'wap']\n"
     ]
    }
   ],
   "source": [
    "from sklearn.feature_selection import SelectFromModel\n",
    "from sklearn.tree import DecisionTreeClassifier\n",
    "\n",
    "tree = DecisionTreeClassifier()\n",
    "tree_selector = SelectFromModel(estimator=tree, max_features=30).fit(X_train, y_train)\n",
    "selected_from_tree_words = get_selected_words(tree_selector.get_support())\n",
    "pprint(selected_from_tree_words)"
   ],
   "metadata": {
    "collapsed": false
   }
  },
  {
   "cell_type": "markdown",
   "source": [
    "### Фильтрующий метод `SelectKBest` на основе F-статистики"
   ],
   "metadata": {
    "collapsed": false
   }
  },
  {
   "cell_type": "code",
   "execution_count": 12,
   "outputs": [
    {
     "name": "stdout",
     "output_type": "stream",
     "text": [
      "['apply',\n",
      " 'awarded',\n",
      " 'call',\n",
      " 'cash',\n",
      " 'claim',\n",
      " 'code',\n",
      " 'collection',\n",
      " 'contact',\n",
      " 'customer',\n",
      " 'draw',\n",
      " 'free',\n",
      " 'guaranteed',\n",
      " 'landline',\n",
      " 'latest',\n",
      " 'line',\n",
      " 'mobile',\n",
      " 'nokia',\n",
      " 'per',\n",
      " 'prize',\n",
      " 'rate',\n",
      " 'reply',\n",
      " 'ringtone',\n",
      " 'service',\n",
      " 'stop',\n",
      " 'text',\n",
      " 'tone',\n",
      " 'txt',\n",
      " 'urgent',\n",
      " 'voucher',\n",
      " 'win']\n"
     ]
    }
   ],
   "source": [
    "from sklearn.feature_selection import SelectKBest, f_classif\n",
    "\n",
    "f_classifier = SelectKBest(score_func=f_classif, k=30).fit(X.toarray(), y)\n",
    "f_classifier_selected_words = get_selected_words(f_classifier.get_support())\n",
    "pprint(f_classifier_selected_words)"
   ],
   "metadata": {
    "collapsed": false
   }
  },
  {
   "cell_type": "markdown",
   "source": [
    "### Фильтрующий метод `SelectKBest` на основе оценки взаимной информации"
   ],
   "metadata": {
    "collapsed": false
   }
  },
  {
   "cell_type": "code",
   "execution_count": 13,
   "outputs": [
    {
     "name": "stdout",
     "output_type": "stream",
     "text": [
      "['asthma',\n",
      " 'call',\n",
      " 'cash',\n",
      " 'claim',\n",
      " 'conected',\n",
      " 'dirtiest',\n",
      " 'draw',\n",
      " 'facebook',\n",
      " 'free',\n",
      " 'glorious',\n",
      " 'guaranteed',\n",
      " 'holder',\n",
      " 'landline',\n",
      " 'latest',\n",
      " 'mobile',\n",
      " 'per',\n",
      " 'prize',\n",
      " 'rate',\n",
      " 'reply',\n",
      " 'send',\n",
      " 'service',\n",
      " 'stop',\n",
      " 'tescos',\n",
      " 'text',\n",
      " 'today',\n",
      " 'tone',\n",
      " 'txt',\n",
      " 'urgent',\n",
      " 'voucher',\n",
      " 'win']\n"
     ]
    }
   ],
   "source": [
    "from sklearn.feature_selection import mutual_info_classif\n",
    "\n",
    "mutual_info_classifier = SelectKBest(score_func=mutual_info_classif, k=30).fit(X.toarray(), y)\n",
    "mutual_info_classifier_selected_words = get_selected_words(mutual_info_classifier.get_support())\n",
    "pprint(mutual_info_classifier_selected_words)"
   ],
   "metadata": {
    "collapsed": false
   }
  },
  {
   "cell_type": "markdown",
   "source": [
    "Хочу пояснить выбор методов: методы-обертки работают крайне долго, поэтому хотелось все-таки остановиться на чем-то другом. Скорость работы фильтрующих методов на высоте, так что остановился я именно на них."
   ],
   "metadata": {
    "collapsed": false
   }
  },
  {
   "cell_type": "code",
   "execution_count": 14,
   "outputs": [
    {
     "name": "stdout",
     "output_type": "stream",
     "text": [
      "14: {'urgent', 'mobile', 'free', 'text', 'voucher', 'txt', 'stop', 'service', 'reply', 'call', 'claim', 'landline', 'tone', 'rate'}\n"
     ]
    }
   ],
   "source": [
    "consensus = set.intersection(set(selected_from_tree_words), set(f_classifier_selected_words),\n",
    "                             set(mutual_info_classifier_selected_words))\n",
    "print(f\"{len(consensus)}: {consensus}\")"
   ],
   "metadata": {
    "collapsed": false
   }
  },
  {
   "cell_type": "markdown",
   "source": [
    "Среди слов, выбранных всеми вручную реализованными методами, \"mobile\", \"txt\", \"service\" \"claim\" были выбраны также и всеми библиотечными методами. \"prize\" во второй список не попал.\n",
    "\n",
    "## Сравнение качества работы до и после выбора признаков\n",
    "\n",
    "Сравнение будем проводить на примере метода опорных векторов (`sklearn.svm.SVC`), дерева принятия решений (`sklearn.tree.DecisionTreeClassifier`) и наивного байесовского классификатора (`sklearn.naive_bayes.MultinomialNB`). Также (относительно формально) подберем какие-то гиперпараметры, которые подойдут для классификации этого набора данных."
   ],
   "metadata": {
    "collapsed": false
   }
  },
  {
   "cell_type": "code",
   "execution_count": 20,
   "outputs": [
    {
     "name": "stdout",
     "output_type": "stream",
     "text": [
      "Fitting 5 folds for each of 32 candidates, totalling 160 fits\n"
     ]
    }
   ],
   "source": [
    "from sklearn.naive_bayes import MultinomialNB\n",
    "\n",
    "param_grid = {\n",
    "    'alpha': [0.001, 0.01, 0.1, 0.2, 0.3, 0.4, 0.5, 0.6, 0.7, 0.8, 0.9, 1.0, 2.0, 5.0, 10.0, 100.0],\n",
    "    'fit_prior': [True, False]\n",
    "}\n",
    "\n",
    "grid_search = GridSearchCV(estimator=MultinomialNB(), param_grid=param_grid, verbose=1)\n",
    "grid_search.fit(X_train, y_train)\n",
    "\n",
    "naive_bayes_classifier = MultinomialNB(**grid_search.best_params_)"
   ],
   "metadata": {
    "collapsed": false
   }
  },
  {
   "cell_type": "code",
   "execution_count": 23,
   "outputs": [
    {
     "name": "stdout",
     "output_type": "stream",
     "text": [
      "Fitting 5 folds for each of 18 candidates, totalling 90 fits\n"
     ]
    }
   ],
   "source": [
    "param_grid = {\n",
    "    'criterion': ['gini', 'entropy'],\n",
    "    'max_depth': [None, 5, 10],\n",
    "    'min_samples_split': [2, 5, 10]\n",
    "}\n",
    "\n",
    "grid_search = GridSearchCV(estimator=DecisionTreeClassifier(), param_grid=param_grid, verbose=1)\n",
    "grid_search.fit(X, y)\n",
    "\n",
    "decision_tree_classifier = DecisionTreeClassifier(**grid_search.best_params_)"
   ],
   "metadata": {
    "collapsed": false
   }
  },
  {
   "cell_type": "code",
   "execution_count": 73,
   "outputs": [],
   "source": [
    "import matplotlib.pyplot as plt\n",
    "from sklearn.metrics import roc_auc_score\n",
    "\n",
    "\n",
    "def get_roc_auc_scores(classifier, train_features, train_labels, test_features, test_labels):\n",
    "    classifier.fit(train_features, train_labels)\n",
    "    prediction = classifier.predict(test_features)\n",
    "    return roc_auc_score(test_labels, prediction)\n",
    "\n",
    "\n",
    "def get_before_and_after(classifier, selector):\n",
    "    return (get_roc_auc_scores(classifier, X_train, y_train, X_test, y_test),\n",
    "            get_roc_auc_scores(classifier, selector.transform(X_train), y_train, selector.transform(X_test), y_test))\n",
    "\n",
    "\n",
    "def test_feature_selector(feature_selector, classifiers=(\n",
    "        (svc_estimator, \"SVM\"), (naive_bayes_classifier, \"Bayes\"), (decision_tree_classifier, \"DT\"))):\n",
    "    fig, axs = plt.subplots(ncols=len(classifiers), sharey=True)\n",
    "    axs[0].set_ylabel(\"score\")\n",
    "    for i, (classifier, name) in enumerate(classifiers):\n",
    "        scores = get_before_and_after(classifier, feature_selector)\n",
    "        axs[i].bar([\"before\", \"after\"], scores, color=[\"palegreen\", \"tomato\"])\n",
    "        for x, score in enumerate(scores):\n",
    "            axs[i].text(x, score, str(round(score, 2)), ha='center', va='bottom')\n",
    "        axs[i].set_title(name)\n",
    "    plt.show()"
   ],
   "metadata": {
    "collapsed": false
   }
  },
  {
   "cell_type": "markdown",
   "source": [
    "### SVM-RFE"
   ],
   "metadata": {
    "collapsed": false
   }
  },
  {
   "cell_type": "code",
   "execution_count": 74,
   "outputs": [
    {
     "data": {
      "text/plain": "<Figure size 640x480 with 3 Axes>",
      "image/png": "[encoded data removed]"
     },
     "metadata": {},
     "output_type": "display_data"
    }
   ],
   "source": [
    "test_feature_selector(rfe)"
   ],
   "metadata": {
    "collapsed": false
   }
  },
  {
   "cell_type": "markdown",
   "source": [
    "### Sequential feature selection"
   ],
   "metadata": {
    "collapsed": false
   }
  },
  {
   "cell_type": "code",
   "execution_count": 75,
   "outputs": [
    {
     "data": {
      "text/plain": "<Figure size 640x480 with 3 Axes>",
      "image/png": "[encoded data removed]"
     },
     "metadata": {},
     "output_type": "display_data"
    }
   ],
   "source": [
    "test_feature_selector(sfs)"
   ],
   "metadata": {
    "collapsed": false
   }
  },
  {
   "cell_type": "markdown",
   "source": [
    "### Фильтрующий метод на базе $\\chi^2$"
   ],
   "metadata": {
    "collapsed": false
   }
  },
  {
   "cell_type": "code",
   "execution_count": 76,
   "outputs": [
    {
     "data": {
      "text/plain": "<Figure size 640x480 with 3 Axes>",
      "image/png": "[encoded data removed]"
     },
     "metadata": {},
     "output_type": "display_data"
    }
   ],
   "source": [
    "test_feature_selector(chi2)"
   ],
   "metadata": {
    "collapsed": false
   }
  },
  {
   "cell_type": "markdown",
   "source": [
    "### Внутренний метод `SelectFromModel` на базе дерева принятия решений"
   ],
   "metadata": {
    "collapsed": false
   }
  },
  {
   "cell_type": "code",
   "execution_count": 77,
   "outputs": [
    {
     "data": {
      "text/plain": "<Figure size 640x480 with 3 Axes>",
      "image/png": "[encoded data removed]"
     },
     "metadata": {},
     "output_type": "display_data"
    }
   ],
   "source": [
    "test_feature_selector(tree_selector)"
   ],
   "metadata": {
    "collapsed": false
   }
  },
  {
   "cell_type": "markdown",
   "source": [
    "### Фильтрующий метод `SelectKBest` на основе F-статистики"
   ],
   "metadata": {
    "collapsed": false
   }
  },
  {
   "cell_type": "code",
   "execution_count": 78,
   "outputs": [
    {
     "data": {
      "text/plain": "<Figure size 640x480 with 3 Axes>",
      "image/png": "[encoded data removed]"
     },
     "metadata": {},
     "output_type": "display_data"
    }
   ],
   "source": [
    "test_feature_selector(f_classifier)"
   ],
   "metadata": {
    "collapsed": false
   }
  },
  {
   "cell_type": "markdown",
   "source": [],
   "metadata": {
    "collapsed": false
   }
  },
  {
   "cell_type": "markdown",
   "source": [
    "### Фильтрующий метод `SelectKBest` на основе оценки взаимной информации"
   ],
   "metadata": {
    "collapsed": false
   }
  },
  {
   "cell_type": "code",
   "execution_count": 79,
   "outputs": [
    {
     "data": {
      "text/plain": "<Figure size 640x480 with 3 Axes>",
      "image/png": "[encoded data removed]"
     },
     "metadata": {},
     "output_type": "display_data"
    }
   ],
   "source": [
    "test_feature_selector(mutual_info_classifier)"
   ],
   "metadata": {
    "collapsed": false
   }
  },
  {
   "cell_type": "markdown",
   "source": [
    "**Вывод**: Selected feature selection оказался наиболее долгим методом (почти в 243 раза дольше, чем, например, SVM-RFE), однако проявил себя лучше всего при тестировании качества классификации методом опорных векторов и деревом принятия решений: он единственный, кто смог улучшить метрику ROC-AUC. Правда на наивном байесовском классификаторе результат ухудшился сильнее, чем при выборе признаков другими моделями."
   ],
   "metadata": {
    "collapsed": false
   }
  }
 ]
}
