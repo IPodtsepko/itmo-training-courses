{
 "cells": [
  {
   "cell_type": "markdown",
   "source": [
    "# Предсказание оценки для ресторанов\n",
    "\n",
    "_Выполнил_: Подцепко Игорь Сергеевич (M3335)"
   ],
   "metadata": {
    "collapsed": false
   }
  },
  {
   "cell_type": "markdown",
   "source": [
    "## Загрузка данных и предобработка"
   ],
   "metadata": {
    "collapsed": false
   }
  },
  {
   "cell_type": "code",
   "execution_count": 3,
   "metadata": {
    "collapsed": true
   },
   "outputs": [
    {
     "name": "stdout",
     "output_type": "stream",
     "text": [
      "<class 'pandas.core.frame.DataFrame'>\n",
      "RangeIndex: 73995 entries, 0 to 73994\n",
      "Data columns (total 72 columns):\n",
      " #   Column                          Non-Null Count  Dtype  \n",
      "---  ------                          --------------  -----  \n",
      " 0   user_id                         73995 non-null  uint64 \n",
      " 1   org_id                          73995 non-null  uint64 \n",
      " 2   rating                          73995 non-null  float64\n",
      " 3   ts                              73995 non-null  int64  \n",
      " 4   user_city                       73995 non-null  object \n",
      " 5   org_city                        73995 non-null  object \n",
      " 6   average_bill                    45433 non-null  float64\n",
      " 7   rating_org                      73995 non-null  float64\n",
      " 8   rubrics                         73995 non-null  object \n",
      " 9   food_delivery                   73995 non-null  int64  \n",
      " 10  breakfast                       73995 non-null  int64  \n",
      " 11  takeaway                        73995 non-null  int64  \n",
      " 12  summer_terrace                  73995 non-null  int64  \n",
      " 13  wi_fi                           73995 non-null  int64  \n",
      " 14  business_lunch                  73995 non-null  int64  \n",
      " 15  payment_by_credit_card          73995 non-null  int64  \n",
      " 16  coffee_to_go                    73995 non-null  int64  \n",
      " 17  closed_for_quarantine           73995 non-null  int64  \n",
      " 18  online_takeaway                 73995 non-null  int64  \n",
      " 19  karaoke                         73995 non-null  int64  \n",
      " 20  special_menu                    73995 non-null  int64  \n",
      " 21  sports_broadcasts               73995 non-null  int64  \n",
      " 22  food_court1                     73995 non-null  int64  \n",
      " 23  craft_beer                      73995 non-null  int64  \n",
      " 24  projector                       73995 non-null  int64  \n",
      " 25  gift_certificate                73995 non-null  int64  \n",
      " 26  wheelchair_access               73995 non-null  int64  \n",
      " 27  automatic_door                  73995 non-null  int64  \n",
      " 28  food_product_delivery           73995 non-null  int64  \n",
      " 29  car_park                        73995 non-null  int64  \n",
      " 30  parking_disabled                73995 non-null  int64  \n",
      " 31  toilet_for_disabled             73995 non-null  int64  \n",
      " 32  promotions                      73995 non-null  int64  \n",
      " 33  cafe                            73995 non-null  int64  \n",
      " 34  minimum_order                   73995 non-null  int64  \n",
      " 35  free_delivery                   73995 non-null  int64  \n",
      " 36  self_service_kiosks             73995 non-null  int64  \n",
      " 37  has_restaurant                  73995 non-null  int64  \n",
      " 38  air_conditioning                73995 non-null  int64  \n",
      " 39  pets                            73995 non-null  int64  \n",
      " 40  elevator                        73995 non-null  int64  \n",
      " 41  has_bar                         73995 non-null  int64  \n",
      " 42  internet access                 73995 non-null  int64  \n",
      " 43  privilege_tickets               73995 non-null  int64  \n",
      " 44  organic_food                    73995 non-null  int64  \n",
      " 45  vip_zone                        73995 non-null  int64  \n",
      " 46  hall_capacity                   73995 non-null  int64  \n",
      " 47  face_control                    73995 non-null  int64  \n",
      " 48  show_program                    73995 non-null  int64  \n",
      " 49  music                           73995 non-null  int64  \n",
      " 50  chillout                        73995 non-null  int64  \n",
      " 51  dancefloor                      73995 non-null  int64  \n",
      " 52  dress_code                      73995 non-null  int64  \n",
      " 53  billiards                       73995 non-null  int64  \n",
      " 54  strip                           73995 non-null  int64  \n",
      " 55  elevator_wheelchair_accessible  73995 non-null  int64  \n",
      " 56  ramp                            73995 non-null  int64  \n",
      " 57  around_the_clock_work1          73995 non-null  int64  \n",
      " 58  pickup                          73995 non-null  int64  \n",
      " 59  farm_products                   73995 non-null  int64  \n",
      " 60  delivery                        73995 non-null  int64  \n",
      " 61  coffee_shop                     73995 non-null  int64  \n",
      " 62  call_button                     73995 non-null  int64  \n",
      " 63  wheelchair_accessible           73995 non-null  int64  \n",
      " 64  table_games                     73995 non-null  int64  \n",
      " 65  vinotheque                      73995 non-null  int64  \n",
      " 66  cakes_for_different_occasions   73995 non-null  int64  \n",
      " 67  accepted_credit_cards           73995 non-null  int64  \n",
      " 68  kalyan                          73995 non-null  int64  \n",
      " 69  teahouse                        73995 non-null  int64  \n",
      " 70  bread_from_tandoor              73995 non-null  int64  \n",
      " 71  handmade_goods                  73995 non-null  int64  \n",
      "dtypes: float64(3), int64(64), object(3), uint64(2)\n",
      "memory usage: 40.6+ MB\n"
     ]
    }
   ],
   "source": [
    "import pandas as pd\n",
    "\n",
    "df = pd.read_csv('data/raw/train.csv')\n",
    "df.info()"
   ]
  },
  {
   "cell_type": "markdown",
   "source": [
    "Проверим, в каких колонках есть `null`'ы."
   ],
   "metadata": {
    "collapsed": false
   }
  },
  {
   "cell_type": "code",
   "execution_count": 4,
   "outputs": [
    {
     "name": "stdout",
     "output_type": "stream",
     "text": [
      "- average_bill\n"
     ]
    }
   ],
   "source": [
    "for column in df.columns[df.isnull().any()]:\n",
    "    print('-', column)"
   ],
   "metadata": {
    "collapsed": false
   }
  },
  {
   "cell_type": "code",
   "execution_count": 5,
   "outputs": [
    {
     "data": {
      "text/plain": "org_city\nmsk    1104.885787\nspb     797.595920\nName: average_bill_by_city, dtype: float64"
     },
     "execution_count": 5,
     "metadata": {},
     "output_type": "execute_result"
    }
   ],
   "source": [
    "average_bills_by_city = df.groupby('org_id')[['org_city', 'average_bill']].first().groupby('org_city').average_bill.mean().rename('average_bill_by_city')\n",
    "average_bills_by_city"
   ],
   "metadata": {
    "collapsed": false
   }
  },
  {
   "cell_type": "markdown",
   "source": [
    "Средний чек для ресторана можно приблизить средним чеком среди всех ресторанов с разумными значениями (например, до 10'000)."
   ],
   "metadata": {
    "collapsed": false
   }
  },
  {
   "cell_type": "code",
   "execution_count": 6,
   "outputs": [],
   "source": [
    "df = df.join(average_bills_by_city, on='org_city')\n",
    "df.average_bill = df.average_bill.fillna(df.average_bill_by_city)"
   ],
   "metadata": {
    "collapsed": false
   }
  },
  {
   "cell_type": "markdown",
   "source": [
    "Таким образом, были устранены все \"пробелы\" в исходном наборе данных. Теперь добавим новые признаки, например:\n",
    "\n",
    "1. Средняя оценка от пользователя `mean_rating_by_user`;"
   ],
   "metadata": {
    "collapsed": false
   }
  },
  {
   "cell_type": "code",
   "execution_count": 7,
   "outputs": [],
   "source": [
    "rubrics = df.rubrics.unique()\n",
    "rubric_codes = {}\n",
    "for i in range(len(rubrics)):\n",
    "    rubric_codes[rubrics[i]] = i\n",
    "df.rubrics = df.rubrics.map(rubric_codes)"
   ],
   "metadata": {
    "collapsed": false
   }
  },
  {
   "cell_type": "code",
   "execution_count": 8,
   "outputs": [
    {
     "data": {
      "text/plain": "                    user_id                org_id  rating    ts user_city  \\\n0      12182789761588196310  11946401375069641937     4.0   677       msk   \n1       2796544982129273287   5545859981678495568     5.0   577       msk   \n2      10546824832088319728   3451485117888180206     4.0   716       msk   \n3       9967742981458207920   9490041040735762889     3.0   639       spb   \n4      11046819495825038093   5234254278902729372     5.0   669       msk   \n...                     ...                   ...     ...   ...       ...   \n73990  12526944272743210441   2948132663120061820     2.0   517       msk   \n73991  17792383534781948527  13225228120465186798     5.0   455       msk   \n73992   7452326377200652192   1135274990644701922     5.0  1032       msk   \n73993    368322320223775667   2498968754330575170     5.0    27       msk   \n73994  12448748541229077418  10310753822165626445     5.0   699       spb   \n\n      org_city  average_bill  rating_org  rubrics  food_delivery  ...  \\\n0          msk   1500.000000    3.883212        0              1  ...   \n1          msk   1000.000000    4.495379        0              1  ...   \n2          msk    500.000000    4.576063        1              1  ...   \n3          spb   1000.000000    3.775701        1              1  ...   \n4          msk    500.000000    4.187500        2              1  ...   \n...        ...           ...         ...      ...            ...  ...   \n73990      msk    500.000000    4.280632        7              1  ...   \n73991      msk   1104.885787    4.446033        0              0  ...   \n73992      msk   1000.000000    4.420231        4              1  ...   \n73993      msk   1104.885787    4.694307        1              0  ...   \n73994      spb    797.595920    4.485873        1              0  ...   \n\n       vinotheque  cakes_for_different_occasions  accepted_credit_cards  \\\n0               0                              0                      0   \n1               0                              0                      0   \n2               0                              0                      0   \n3               0                              0                      0   \n4               0                              0                      0   \n...           ...                            ...                    ...   \n73990           0                              0                      0   \n73991           0                              0                      0   \n73992           0                              0                      0   \n73993           0                              0                      0   \n73994           0                              0                      0   \n\n       kalyan  teahouse  bread_from_tandoor  handmade_goods  \\\n0           0         0                   0               0   \n1           0         0                   0               0   \n2           0         0                   0               0   \n3           0         0                   0               0   \n4           0         0                   0               0   \n...       ...       ...                 ...             ...   \n73990       0         0                   0               0   \n73991       0         0                   0               0   \n73992       0         0                   0               0   \n73993       0         0                   0               0   \n73994       0         0                   0               0   \n\n       average_bill_by_city  count_of_orgs_by_city  mean_rating_by_city  \n0               1104.885787                  51218             4.319634  \n1               1104.885787                  51218             4.319634  \n2               1104.885787                  51218             4.319634  \n3                797.595920                  22777             4.329850  \n4               1104.885787                  51218             4.319634  \n...                     ...                    ...                  ...  \n73990           1104.885787                  51218             4.319634  \n73991           1104.885787                  51218             4.319634  \n73992           1104.885787                  51218             4.319634  \n73993           1104.885787                  51218             4.319634  \n73994            797.595920                  22777             4.329850  \n\n[73995 rows x 75 columns]",
      "text/html": "<div>\n<style scoped>\n    .dataframe tbody tr th:only-of-type {\n        vertical-align: middle;\n    }\n\n    .dataframe tbody tr th {\n        vertical-align: top;\n    }\n\n    .dataframe thead th {\n        text-align: right;\n    }\n</style>\n<table border=\"1\" class=\"dataframe\">\n  <thead>\n    <tr style=\"text-align: right;\">\n      <th></th>\n      <th>user_id</th>\n      <th>org_id</th>\n      <th>rating</th>\n      <th>ts</th>\n      <th>user_city</th>\n      <th>org_city</th>\n      <th>average_bill</th>\n      <th>rating_org</th>\n      <th>rubrics</th>\n      <th>food_delivery</th>\n      <th>...</th>\n      <th>vinotheque</th>\n      <th>cakes_for_different_occasions</th>\n      <th>accepted_credit_cards</th>\n      <th>kalyan</th>\n      <th>teahouse</th>\n      <th>bread_from_tandoor</th>\n      <th>handmade_goods</th>\n      <th>average_bill_by_city</th>\n      <th>count_of_orgs_by_city</th>\n      <th>mean_rating_by_city</th>\n    </tr>\n  </thead>\n  <tbody>\n    <tr>\n      <th>0</th>\n      <td>12182789761588196310</td>\n      <td>11946401375069641937</td>\n      <td>4.0</td>\n      <td>677</td>\n      <td>msk</td>\n      <td>msk</td>\n      <td>1500.000000</td>\n      <td>3.883212</td>\n      <td>0</td>\n      <td>1</td>\n      <td>...</td>\n      <td>0</td>\n      <td>0</td>\n      <td>0</td>\n      <td>0</td>\n      <td>0</td>\n      <td>0</td>\n      <td>0</td>\n      <td>1104.885787</td>\n      <td>51218</td>\n      <td>4.319634</td>\n    </tr>\n    <tr>\n      <th>1</th>\n      <td>2796544982129273287</td>\n      <td>5545859981678495568</td>\n      <td>5.0</td>\n      <td>577</td>\n      <td>msk</td>\n      <td>msk</td>\n      <td>1000.000000</td>\n      <td>4.495379</td>\n      <td>0</td>\n      <td>1</td>\n      <td>...</td>\n      <td>0</td>\n      <td>0</td>\n      <td>0</td>\n      <td>0</td>\n      <td>0</td>\n      <td>0</td>\n      <td>0</td>\n      <td>1104.885787</td>\n      <td>51218</td>\n      <td>4.319634</td>\n    </tr>\n    <tr>\n      <th>2</th>\n      <td>10546824832088319728</td>\n      <td>3451485117888180206</td>\n      <td>4.0</td>\n      <td>716</td>\n      <td>msk</td>\n      <td>msk</td>\n      <td>500.000000</td>\n      <td>4.576063</td>\n      <td>1</td>\n      <td>1</td>\n      <td>...</td>\n      <td>0</td>\n      <td>0</td>\n      <td>0</td>\n      <td>0</td>\n      <td>0</td>\n      <td>0</td>\n      <td>0</td>\n      <td>1104.885787</td>\n      <td>51218</td>\n      <td>4.319634</td>\n    </tr>\n    <tr>\n      <th>3</th>\n      <td>9967742981458207920</td>\n      <td>9490041040735762889</td>\n      <td>3.0</td>\n      <td>639</td>\n      <td>spb</td>\n      <td>spb</td>\n      <td>1000.000000</td>\n      <td>3.775701</td>\n      <td>1</td>\n      <td>1</td>\n      <td>...</td>\n      <td>0</td>\n      <td>0</td>\n      <td>0</td>\n      <td>0</td>\n      <td>0</td>\n      <td>0</td>\n      <td>0</td>\n      <td>797.595920</td>\n      <td>22777</td>\n      <td>4.329850</td>\n    </tr>\n    <tr>\n      <th>4</th>\n      <td>11046819495825038093</td>\n      <td>5234254278902729372</td>\n      <td>5.0</td>\n      <td>669</td>\n      <td>msk</td>\n      <td>msk</td>\n      <td>500.000000</td>\n      <td>4.187500</td>\n      <td>2</td>\n      <td>1</td>\n      <td>...</td>\n      <td>0</td>\n      <td>0</td>\n      <td>0</td>\n      <td>0</td>\n      <td>0</td>\n      <td>0</td>\n      <td>0</td>\n      <td>1104.885787</td>\n      <td>51218</td>\n      <td>4.319634</td>\n    </tr>\n    <tr>\n      <th>...</th>\n      <td>...</td>\n      <td>...</td>\n      <td>...</td>\n      <td>...</td>\n      <td>...</td>\n      <td>...</td>\n      <td>...</td>\n      <td>...</td>\n      <td>...</td>\n      <td>...</td>\n      <td>...</td>\n      <td>...</td>\n      <td>...</td>\n      <td>...</td>\n      <td>...</td>\n      <td>...</td>\n      <td>...</td>\n      <td>...</td>\n      <td>...</td>\n      <td>...</td>\n      <td>...</td>\n    </tr>\n    <tr>\n      <th>73990</th>\n      <td>12526944272743210441</td>\n      <td>2948132663120061820</td>\n      <td>2.0</td>\n      <td>517</td>\n      <td>msk</td>\n      <td>msk</td>\n      <td>500.000000</td>\n      <td>4.280632</td>\n      <td>7</td>\n      <td>1</td>\n      <td>...</td>\n      <td>0</td>\n      <td>0</td>\n      <td>0</td>\n      <td>0</td>\n      <td>0</td>\n      <td>0</td>\n      <td>0</td>\n      <td>1104.885787</td>\n      <td>51218</td>\n      <td>4.319634</td>\n    </tr>\n    <tr>\n      <th>73991</th>\n      <td>17792383534781948527</td>\n      <td>13225228120465186798</td>\n      <td>5.0</td>\n      <td>455</td>\n      <td>msk</td>\n      <td>msk</td>\n      <td>1104.885787</td>\n      <td>4.446033</td>\n      <td>0</td>\n      <td>0</td>\n      <td>...</td>\n      <td>0</td>\n      <td>0</td>\n      <td>0</td>\n      <td>0</td>\n      <td>0</td>\n      <td>0</td>\n      <td>0</td>\n      <td>1104.885787</td>\n      <td>51218</td>\n      <td>4.319634</td>\n    </tr>\n    <tr>\n      <th>73992</th>\n      <td>7452326377200652192</td>\n      <td>1135274990644701922</td>\n      <td>5.0</td>\n      <td>1032</td>\n      <td>msk</td>\n      <td>msk</td>\n      <td>1000.000000</td>\n      <td>4.420231</td>\n      <td>4</td>\n      <td>1</td>\n      <td>...</td>\n      <td>0</td>\n      <td>0</td>\n      <td>0</td>\n      <td>0</td>\n      <td>0</td>\n      <td>0</td>\n      <td>0</td>\n      <td>1104.885787</td>\n      <td>51218</td>\n      <td>4.319634</td>\n    </tr>\n    <tr>\n      <th>73993</th>\n      <td>368322320223775667</td>\n      <td>2498968754330575170</td>\n      <td>5.0</td>\n      <td>27</td>\n      <td>msk</td>\n      <td>msk</td>\n      <td>1104.885787</td>\n      <td>4.694307</td>\n      <td>1</td>\n      <td>0</td>\n      <td>...</td>\n      <td>0</td>\n      <td>0</td>\n      <td>0</td>\n      <td>0</td>\n      <td>0</td>\n      <td>0</td>\n      <td>0</td>\n      <td>1104.885787</td>\n      <td>51218</td>\n      <td>4.319634</td>\n    </tr>\n    <tr>\n      <th>73994</th>\n      <td>12448748541229077418</td>\n      <td>10310753822165626445</td>\n      <td>5.0</td>\n      <td>699</td>\n      <td>spb</td>\n      <td>spb</td>\n      <td>797.595920</td>\n      <td>4.485873</td>\n      <td>1</td>\n      <td>0</td>\n      <td>...</td>\n      <td>0</td>\n      <td>0</td>\n      <td>0</td>\n      <td>0</td>\n      <td>0</td>\n      <td>0</td>\n      <td>0</td>\n      <td>797.595920</td>\n      <td>22777</td>\n      <td>4.329850</td>\n    </tr>\n  </tbody>\n</table>\n<p>73995 rows × 75 columns</p>\n</div>"
     },
     "execution_count": 8,
     "metadata": {},
     "output_type": "execute_result"
    }
   ],
   "source": [
    "count_of_orgs_by_city = df.groupby('org_city').org_id.count().rename('count_of_orgs_by_city')\n",
    "df = df.join(count_of_orgs_by_city, on='org_city')\n",
    "mean_rating_by_city = df.groupby('org_city').rating.mean().rename('mean_rating_by_city')\n",
    "df = df.join(mean_rating_by_city, on='org_city')\n",
    "df"
   ],
   "metadata": {
    "collapsed": false
   }
  },
  {
   "cell_type": "code",
   "execution_count": 9,
   "outputs": [
    {
     "data": {
      "text/plain": "                    user_id                org_id  rating    ts  average_bill  \\\n0      12182789761588196310  11946401375069641937     4.0   677   1500.000000   \n1       2796544982129273287   5545859981678495568     5.0   577   1000.000000   \n2      10546824832088319728   3451485117888180206     4.0   716    500.000000   \n3       9967742981458207920   9490041040735762889     3.0   639   1000.000000   \n4      11046819495825038093   5234254278902729372     5.0   669    500.000000   \n...                     ...                   ...     ...   ...           ...   \n73990  12526944272743210441   2948132663120061820     2.0   517    500.000000   \n73991  17792383534781948527  13225228120465186798     5.0   455   1104.885787   \n73992   7452326377200652192   1135274990644701922     5.0  1032   1000.000000   \n73993    368322320223775667   2498968754330575170     5.0    27   1104.885787   \n73994  12448748541229077418  10310753822165626445     5.0   699    797.595920   \n\n       rating_org  food_delivery  breakfast  takeaway  summer_terrace  ...  \\\n0        3.883212              1          1         1               0  ...   \n1        4.495379              1          0         1               1  ...   \n2        4.576063              1          1         1               1  ...   \n3        3.775701              1          1         1               1  ...   \n4        4.187500              1          1         1               1  ...   \n...           ...            ...        ...       ...             ...  ...   \n73990    4.280632              1          1         0               1  ...   \n73991    4.446033              0          0         0               0  ...   \n73992    4.420231              1          1         1               1  ...   \n73993    4.694307              0          0         0               0  ...   \n73994    4.485873              0          0         0               0  ...   \n\n       rubrics_6  rubrics_7  rubrics_8  rubrics_9  rubrics_10  rubrics_11  \\\n0              0          0          0          0           0           0   \n1              0          0          0          0           0           0   \n2              0          0          0          0           0           0   \n3              0          0          0          0           0           0   \n4              0          0          0          0           0           0   \n...          ...        ...        ...        ...         ...         ...   \n73990          0          1          0          0           0           0   \n73991          0          0          0          0           0           0   \n73992          0          0          0          0           0           0   \n73993          0          0          0          0           0           0   \n73994          0          0          0          0           0           0   \n\n       rubrics_12  rubrics_13  user_city_spb  org_city_spb  \n0               0           0              0             0  \n1               0           0              0             0  \n2               0           0              0             0  \n3               0           0              1             1  \n4               0           0              0             0  \n...           ...         ...            ...           ...  \n73990           0           0              0             0  \n73991           0           0              0             0  \n73992           0           0              0             0  \n73993           0           0              0             0  \n73994           0           0              1             1  \n\n[73995 rows x 88 columns]",
      "text/html": "<div>\n<style scoped>\n    .dataframe tbody tr th:only-of-type {\n        vertical-align: middle;\n    }\n\n    .dataframe tbody tr th {\n        vertical-align: top;\n    }\n\n    .dataframe thead th {\n        text-align: right;\n    }\n</style>\n<table border=\"1\" class=\"dataframe\">\n  <thead>\n    <tr style=\"text-align: right;\">\n      <th></th>\n      <th>user_id</th>\n      <th>org_id</th>\n      <th>rating</th>\n      <th>ts</th>\n      <th>average_bill</th>\n      <th>rating_org</th>\n      <th>food_delivery</th>\n      <th>breakfast</th>\n      <th>takeaway</th>\n      <th>summer_terrace</th>\n      <th>...</th>\n      <th>rubrics_6</th>\n      <th>rubrics_7</th>\n      <th>rubrics_8</th>\n      <th>rubrics_9</th>\n      <th>rubrics_10</th>\n      <th>rubrics_11</th>\n      <th>rubrics_12</th>\n      <th>rubrics_13</th>\n      <th>user_city_spb</th>\n      <th>org_city_spb</th>\n    </tr>\n  </thead>\n  <tbody>\n    <tr>\n      <th>0</th>\n      <td>12182789761588196310</td>\n      <td>11946401375069641937</td>\n      <td>4.0</td>\n      <td>677</td>\n      <td>1500.000000</td>\n      <td>3.883212</td>\n      <td>1</td>\n      <td>1</td>\n      <td>1</td>\n      <td>0</td>\n      <td>...</td>\n      <td>0</td>\n      <td>0</td>\n      <td>0</td>\n      <td>0</td>\n      <td>0</td>\n      <td>0</td>\n      <td>0</td>\n      <td>0</td>\n      <td>0</td>\n      <td>0</td>\n    </tr>\n    <tr>\n      <th>1</th>\n      <td>2796544982129273287</td>\n      <td>5545859981678495568</td>\n      <td>5.0</td>\n      <td>577</td>\n      <td>1000.000000</td>\n      <td>4.495379</td>\n      <td>1</td>\n      <td>0</td>\n      <td>1</td>\n      <td>1</td>\n      <td>...</td>\n      <td>0</td>\n      <td>0</td>\n      <td>0</td>\n      <td>0</td>\n      <td>0</td>\n      <td>0</td>\n      <td>0</td>\n      <td>0</td>\n      <td>0</td>\n      <td>0</td>\n    </tr>\n    <tr>\n      <th>2</th>\n      <td>10546824832088319728</td>\n      <td>3451485117888180206</td>\n      <td>4.0</td>\n      <td>716</td>\n      <td>500.000000</td>\n      <td>4.576063</td>\n      <td>1</td>\n      <td>1</td>\n      <td>1</td>\n      <td>1</td>\n      <td>...</td>\n      <td>0</td>\n      <td>0</td>\n      <td>0</td>\n      <td>0</td>\n      <td>0</td>\n      <td>0</td>\n      <td>0</td>\n      <td>0</td>\n      <td>0</td>\n      <td>0</td>\n    </tr>\n    <tr>\n      <th>3</th>\n      <td>9967742981458207920</td>\n      <td>9490041040735762889</td>\n      <td>3.0</td>\n      <td>639</td>\n      <td>1000.000000</td>\n      <td>3.775701</td>\n      <td>1</td>\n      <td>1</td>\n      <td>1</td>\n      <td>1</td>\n      <td>...</td>\n      <td>0</td>\n      <td>0</td>\n      <td>0</td>\n      <td>0</td>\n      <td>0</td>\n      <td>0</td>\n      <td>0</td>\n      <td>0</td>\n      <td>1</td>\n      <td>1</td>\n    </tr>\n    <tr>\n      <th>4</th>\n      <td>11046819495825038093</td>\n      <td>5234254278902729372</td>\n      <td>5.0</td>\n      <td>669</td>\n      <td>500.000000</td>\n      <td>4.187500</td>\n      <td>1</td>\n      <td>1</td>\n      <td>1</td>\n      <td>1</td>\n      <td>...</td>\n      <td>0</td>\n      <td>0</td>\n      <td>0</td>\n      <td>0</td>\n      <td>0</td>\n      <td>0</td>\n      <td>0</td>\n      <td>0</td>\n      <td>0</td>\n      <td>0</td>\n    </tr>\n    <tr>\n      <th>...</th>\n      <td>...</td>\n      <td>...</td>\n      <td>...</td>\n      <td>...</td>\n      <td>...</td>\n      <td>...</td>\n      <td>...</td>\n      <td>...</td>\n      <td>...</td>\n      <td>...</td>\n      <td>...</td>\n      <td>...</td>\n      <td>...</td>\n      <td>...</td>\n      <td>...</td>\n      <td>...</td>\n      <td>...</td>\n      <td>...</td>\n      <td>...</td>\n      <td>...</td>\n      <td>...</td>\n    </tr>\n    <tr>\n      <th>73990</th>\n      <td>12526944272743210441</td>\n      <td>2948132663120061820</td>\n      <td>2.0</td>\n      <td>517</td>\n      <td>500.000000</td>\n      <td>4.280632</td>\n      <td>1</td>\n      <td>1</td>\n      <td>0</td>\n      <td>1</td>\n      <td>...</td>\n      <td>0</td>\n      <td>1</td>\n      <td>0</td>\n      <td>0</td>\n      <td>0</td>\n      <td>0</td>\n      <td>0</td>\n      <td>0</td>\n      <td>0</td>\n      <td>0</td>\n    </tr>\n    <tr>\n      <th>73991</th>\n      <td>17792383534781948527</td>\n      <td>13225228120465186798</td>\n      <td>5.0</td>\n      <td>455</td>\n      <td>1104.885787</td>\n      <td>4.446033</td>\n      <td>0</td>\n      <td>0</td>\n      <td>0</td>\n      <td>0</td>\n      <td>...</td>\n      <td>0</td>\n      <td>0</td>\n      <td>0</td>\n      <td>0</td>\n      <td>0</td>\n      <td>0</td>\n      <td>0</td>\n      <td>0</td>\n      <td>0</td>\n      <td>0</td>\n    </tr>\n    <tr>\n      <th>73992</th>\n      <td>7452326377200652192</td>\n      <td>1135274990644701922</td>\n      <td>5.0</td>\n      <td>1032</td>\n      <td>1000.000000</td>\n      <td>4.420231</td>\n      <td>1</td>\n      <td>1</td>\n      <td>1</td>\n      <td>1</td>\n      <td>...</td>\n      <td>0</td>\n      <td>0</td>\n      <td>0</td>\n      <td>0</td>\n      <td>0</td>\n      <td>0</td>\n      <td>0</td>\n      <td>0</td>\n      <td>0</td>\n      <td>0</td>\n    </tr>\n    <tr>\n      <th>73993</th>\n      <td>368322320223775667</td>\n      <td>2498968754330575170</td>\n      <td>5.0</td>\n      <td>27</td>\n      <td>1104.885787</td>\n      <td>4.694307</td>\n      <td>0</td>\n      <td>0</td>\n      <td>0</td>\n      <td>0</td>\n      <td>...</td>\n      <td>0</td>\n      <td>0</td>\n      <td>0</td>\n      <td>0</td>\n      <td>0</td>\n      <td>0</td>\n      <td>0</td>\n      <td>0</td>\n      <td>0</td>\n      <td>0</td>\n    </tr>\n    <tr>\n      <th>73994</th>\n      <td>12448748541229077418</td>\n      <td>10310753822165626445</td>\n      <td>5.0</td>\n      <td>699</td>\n      <td>797.595920</td>\n      <td>4.485873</td>\n      <td>0</td>\n      <td>0</td>\n      <td>0</td>\n      <td>0</td>\n      <td>...</td>\n      <td>0</td>\n      <td>0</td>\n      <td>0</td>\n      <td>0</td>\n      <td>0</td>\n      <td>0</td>\n      <td>0</td>\n      <td>0</td>\n      <td>1</td>\n      <td>1</td>\n    </tr>\n  </tbody>\n</table>\n<p>73995 rows × 88 columns</p>\n</div>"
     },
     "execution_count": 9,
     "metadata": {},
     "output_type": "execute_result"
    }
   ],
   "source": [
    "df = pd.get_dummies(df, prefix=['rubrics'], columns = ['rubrics'])\n",
    "df = pd.get_dummies(df, prefix=['user_city'], columns=['user_city'], drop_first=True)\n",
    "df = pd.get_dummies(df, prefix=['org_city'], columns=['org_city'], drop_first=True)\n",
    "df"
   ],
   "metadata": {
    "collapsed": false
   }
  },
  {
   "cell_type": "code",
   "execution_count": 197,
   "outputs": [
    {
     "data": {
      "text/plain": "        user_id    org_id    rating        ts  average_bill  food_delivery  \\\n0      0.562067  0.551223 -0.285553 -0.127911      0.208790       0.566389   \n1     -1.204647 -0.661967  0.599119 -0.468638     -0.024434       0.566389   \n2      0.254139 -1.058944 -0.285553  0.004972     -0.257657       0.566389   \n3      0.145142  0.085632 -1.170226 -0.257388     -0.024434       0.566389   \n4      0.348250 -0.721030  0.599119 -0.155170     -0.257657       0.566389   \n...         ...       ...       ...       ...           ...            ...   \n73990  0.626845 -1.154352 -2.054898 -0.673074     -0.257657       0.566389   \n73991  1.617926  0.793618  0.599119 -0.884325      0.024490      -1.765570   \n73992 -0.328319 -1.497970  0.599119  1.081669     -0.024434       0.566389   \n73993 -1.661697 -1.239489  0.599119 -2.342636      0.024490      -1.765570   \n73994  0.612127  0.241194  0.599119 -0.052952     -0.118844      -1.765570   \n\n       breakfast  takeaway  summer_terrace     wi_fi  ...  rubrics_7  \\\n0       0.856904  0.735080       -1.231287  0.402606  ...  -0.165599   \n1      -1.166992  0.735080        0.812159  0.402606  ...  -0.165599   \n2       0.856904  0.735080        0.812159  0.402606  ...  -0.165599   \n3       0.856904  0.735080        0.812159  0.402606  ...  -0.165599   \n4       0.856904  0.735080        0.812159  0.402606  ...  -0.165599   \n...          ...       ...             ...       ...  ...        ...   \n73990   0.856904 -1.360396        0.812159  0.402606  ...   6.038694   \n73991  -1.166992 -1.360396       -1.231287  0.402606  ...  -0.165599   \n73992   0.856904  0.735080        0.812159  0.402606  ...  -0.165599   \n73993  -1.166992 -1.360396       -1.231287 -2.483820  ...  -0.165599   \n73994  -1.166992 -1.360396       -1.231287 -2.483820  ...  -0.165599   \n\n       rubrics_8  rubrics_9  rubrics_10  rubrics_11  rubrics_12  rubrics_13  \\\n0      -0.174476  -0.137805   -0.133203   -0.066111   -0.106314   -0.041136   \n1      -0.174476  -0.137805   -0.133203   -0.066111   -0.106314   -0.041136   \n2      -0.174476  -0.137805   -0.133203   -0.066111   -0.106314   -0.041136   \n3      -0.174476  -0.137805   -0.133203   -0.066111   -0.106314   -0.041136   \n4      -0.174476  -0.137805   -0.133203   -0.066111   -0.106314   -0.041136   \n...          ...        ...         ...         ...         ...         ...   \n73990  -0.174476  -0.137805   -0.133203   -0.066111   -0.106314   -0.041136   \n73991  -0.174476  -0.137805   -0.133203   -0.066111   -0.106314   -0.041136   \n73992  -0.174476  -0.137805   -0.133203   -0.066111   -0.106314   -0.041136   \n73993  -0.174476  -0.137805   -0.133203   -0.066111   -0.106314   -0.041136   \n73994  -0.174476  -0.137805   -0.133203   -0.066111   -0.106314   -0.041136   \n\n       user_city_spb  org_city_spb  rating_org  \n0          -0.621298     -0.666864    3.883212  \n1          -0.621298     -0.666864    4.495379  \n2          -0.621298     -0.666864    4.576063  \n3           1.609533      1.499557    3.775701  \n4          -0.621298     -0.666864    4.187500  \n...              ...           ...         ...  \n73990      -0.621298     -0.666864    4.280632  \n73991      -0.621298     -0.666864    4.446033  \n73992      -0.621298     -0.666864    4.420231  \n73993      -0.621298     -0.666864    4.694307  \n73994       1.609533      1.499557    4.485873  \n\n[73995 rows x 88 columns]",
      "text/html": "<div>\n<style scoped>\n    .dataframe tbody tr th:only-of-type {\n        vertical-align: middle;\n    }\n\n    .dataframe tbody tr th {\n        vertical-align: top;\n    }\n\n    .dataframe thead th {\n        text-align: right;\n    }\n</style>\n<table border=\"1\" class=\"dataframe\">\n  <thead>\n    <tr style=\"text-align: right;\">\n      <th></th>\n      <th>user_id</th>\n      <th>org_id</th>\n      <th>rating</th>\n      <th>ts</th>\n      <th>average_bill</th>\n      <th>food_delivery</th>\n      <th>breakfast</th>\n      <th>takeaway</th>\n      <th>summer_terrace</th>\n      <th>wi_fi</th>\n      <th>...</th>\n      <th>rubrics_7</th>\n      <th>rubrics_8</th>\n      <th>rubrics_9</th>\n      <th>rubrics_10</th>\n      <th>rubrics_11</th>\n      <th>rubrics_12</th>\n      <th>rubrics_13</th>\n      <th>user_city_spb</th>\n      <th>org_city_spb</th>\n      <th>rating_org</th>\n    </tr>\n  </thead>\n  <tbody>\n    <tr>\n      <th>0</th>\n      <td>0.562067</td>\n      <td>0.551223</td>\n      <td>-0.285553</td>\n      <td>-0.127911</td>\n      <td>0.208790</td>\n      <td>0.566389</td>\n      <td>0.856904</td>\n      <td>0.735080</td>\n      <td>-1.231287</td>\n      <td>0.402606</td>\n      <td>...</td>\n      <td>-0.165599</td>\n      <td>-0.174476</td>\n      <td>-0.137805</td>\n      <td>-0.133203</td>\n      <td>-0.066111</td>\n      <td>-0.106314</td>\n      <td>-0.041136</td>\n      <td>-0.621298</td>\n      <td>-0.666864</td>\n      <td>3.883212</td>\n    </tr>\n    <tr>\n      <th>1</th>\n      <td>-1.204647</td>\n      <td>-0.661967</td>\n      <td>0.599119</td>\n      <td>-0.468638</td>\n      <td>-0.024434</td>\n      <td>0.566389</td>\n      <td>-1.166992</td>\n      <td>0.735080</td>\n      <td>0.812159</td>\n      <td>0.402606</td>\n      <td>...</td>\n      <td>-0.165599</td>\n      <td>-0.174476</td>\n      <td>-0.137805</td>\n      <td>-0.133203</td>\n      <td>-0.066111</td>\n      <td>-0.106314</td>\n      <td>-0.041136</td>\n      <td>-0.621298</td>\n      <td>-0.666864</td>\n      <td>4.495379</td>\n    </tr>\n    <tr>\n      <th>2</th>\n      <td>0.254139</td>\n      <td>-1.058944</td>\n      <td>-0.285553</td>\n      <td>0.004972</td>\n      <td>-0.257657</td>\n      <td>0.566389</td>\n      <td>0.856904</td>\n      <td>0.735080</td>\n      <td>0.812159</td>\n      <td>0.402606</td>\n      <td>...</td>\n      <td>-0.165599</td>\n      <td>-0.174476</td>\n      <td>-0.137805</td>\n      <td>-0.133203</td>\n      <td>-0.066111</td>\n      <td>-0.106314</td>\n      <td>-0.041136</td>\n      <td>-0.621298</td>\n      <td>-0.666864</td>\n      <td>4.576063</td>\n    </tr>\n    <tr>\n      <th>3</th>\n      <td>0.145142</td>\n      <td>0.085632</td>\n      <td>-1.170226</td>\n      <td>-0.257388</td>\n      <td>-0.024434</td>\n      <td>0.566389</td>\n      <td>0.856904</td>\n      <td>0.735080</td>\n      <td>0.812159</td>\n      <td>0.402606</td>\n      <td>...</td>\n      <td>-0.165599</td>\n      <td>-0.174476</td>\n      <td>-0.137805</td>\n      <td>-0.133203</td>\n      <td>-0.066111</td>\n      <td>-0.106314</td>\n      <td>-0.041136</td>\n      <td>1.609533</td>\n      <td>1.499557</td>\n      <td>3.775701</td>\n    </tr>\n    <tr>\n      <th>4</th>\n      <td>0.348250</td>\n      <td>-0.721030</td>\n      <td>0.599119</td>\n      <td>-0.155170</td>\n      <td>-0.257657</td>\n      <td>0.566389</td>\n      <td>0.856904</td>\n      <td>0.735080</td>\n      <td>0.812159</td>\n      <td>0.402606</td>\n      <td>...</td>\n      <td>-0.165599</td>\n      <td>-0.174476</td>\n      <td>-0.137805</td>\n      <td>-0.133203</td>\n      <td>-0.066111</td>\n      <td>-0.106314</td>\n      <td>-0.041136</td>\n      <td>-0.621298</td>\n      <td>-0.666864</td>\n      <td>4.187500</td>\n    </tr>\n    <tr>\n      <th>...</th>\n      <td>...</td>\n      <td>...</td>\n      <td>...</td>\n      <td>...</td>\n      <td>...</td>\n      <td>...</td>\n      <td>...</td>\n      <td>...</td>\n      <td>...</td>\n      <td>...</td>\n      <td>...</td>\n      <td>...</td>\n      <td>...</td>\n      <td>...</td>\n      <td>...</td>\n      <td>...</td>\n      <td>...</td>\n      <td>...</td>\n      <td>...</td>\n      <td>...</td>\n      <td>...</td>\n    </tr>\n    <tr>\n      <th>73990</th>\n      <td>0.626845</td>\n      <td>-1.154352</td>\n      <td>-2.054898</td>\n      <td>-0.673074</td>\n      <td>-0.257657</td>\n      <td>0.566389</td>\n      <td>0.856904</td>\n      <td>-1.360396</td>\n      <td>0.812159</td>\n      <td>0.402606</td>\n      <td>...</td>\n      <td>6.038694</td>\n      <td>-0.174476</td>\n      <td>-0.137805</td>\n      <td>-0.133203</td>\n      <td>-0.066111</td>\n      <td>-0.106314</td>\n      <td>-0.041136</td>\n      <td>-0.621298</td>\n      <td>-0.666864</td>\n      <td>4.280632</td>\n    </tr>\n    <tr>\n      <th>73991</th>\n      <td>1.617926</td>\n      <td>0.793618</td>\n      <td>0.599119</td>\n      <td>-0.884325</td>\n      <td>0.024490</td>\n      <td>-1.765570</td>\n      <td>-1.166992</td>\n      <td>-1.360396</td>\n      <td>-1.231287</td>\n      <td>0.402606</td>\n      <td>...</td>\n      <td>-0.165599</td>\n      <td>-0.174476</td>\n      <td>-0.137805</td>\n      <td>-0.133203</td>\n      <td>-0.066111</td>\n      <td>-0.106314</td>\n      <td>-0.041136</td>\n      <td>-0.621298</td>\n      <td>-0.666864</td>\n      <td>4.446033</td>\n    </tr>\n    <tr>\n      <th>73992</th>\n      <td>-0.328319</td>\n      <td>-1.497970</td>\n      <td>0.599119</td>\n      <td>1.081669</td>\n      <td>-0.024434</td>\n      <td>0.566389</td>\n      <td>0.856904</td>\n      <td>0.735080</td>\n      <td>0.812159</td>\n      <td>0.402606</td>\n      <td>...</td>\n      <td>-0.165599</td>\n      <td>-0.174476</td>\n      <td>-0.137805</td>\n      <td>-0.133203</td>\n      <td>-0.066111</td>\n      <td>-0.106314</td>\n      <td>-0.041136</td>\n      <td>-0.621298</td>\n      <td>-0.666864</td>\n      <td>4.420231</td>\n    </tr>\n    <tr>\n      <th>73993</th>\n      <td>-1.661697</td>\n      <td>-1.239489</td>\n      <td>0.599119</td>\n      <td>-2.342636</td>\n      <td>0.024490</td>\n      <td>-1.765570</td>\n      <td>-1.166992</td>\n      <td>-1.360396</td>\n      <td>-1.231287</td>\n      <td>-2.483820</td>\n      <td>...</td>\n      <td>-0.165599</td>\n      <td>-0.174476</td>\n      <td>-0.137805</td>\n      <td>-0.133203</td>\n      <td>-0.066111</td>\n      <td>-0.106314</td>\n      <td>-0.041136</td>\n      <td>-0.621298</td>\n      <td>-0.666864</td>\n      <td>4.694307</td>\n    </tr>\n    <tr>\n      <th>73994</th>\n      <td>0.612127</td>\n      <td>0.241194</td>\n      <td>0.599119</td>\n      <td>-0.052952</td>\n      <td>-0.118844</td>\n      <td>-1.765570</td>\n      <td>-1.166992</td>\n      <td>-1.360396</td>\n      <td>-1.231287</td>\n      <td>-2.483820</td>\n      <td>...</td>\n      <td>-0.165599</td>\n      <td>-0.174476</td>\n      <td>-0.137805</td>\n      <td>-0.133203</td>\n      <td>-0.066111</td>\n      <td>-0.106314</td>\n      <td>-0.041136</td>\n      <td>1.609533</td>\n      <td>1.499557</td>\n      <td>4.485873</td>\n    </tr>\n  </tbody>\n</table>\n<p>73995 rows × 88 columns</p>\n</div>"
     },
     "execution_count": 197,
     "metadata": {},
     "output_type": "execute_result"
    }
   ],
   "source": [
    "# from sklearn.preprocessing import StandardScaler\n",
    "#\n",
    "# scaler = StandardScaler()\n",
    "# features = df.drop(['rating_org'], axis=1)\n",
    "# scaled = pd.DataFrame(scaler.fit_transform(features.to_numpy()), columns=features.columns)\n",
    "# scaled['rating_org'] = df.rating_org\n",
    "# df = scaled\n",
    "# df"
   ],
   "metadata": {
    "collapsed": false
   }
  },
  {
   "cell_type": "markdown",
   "source": [
    "Для определения подходящих для обучения модели признаков рассмотрим их корреляцию и дисперсию."
   ],
   "metadata": {
    "collapsed": false
   }
  },
  {
   "cell_type": "code",
   "execution_count": 10,
   "outputs": [
    {
     "data": {
      "text/plain": "                feature      corr       var\n75            rubrics_3 -0.183910  0.098854\n6         food_delivery -0.105047  0.183892\n81            rubrics_9 -0.084240  0.018289\n84           rubrics_12 -0.078229  0.011052\n32        free_delivery -0.072332  0.050509\n..                  ...       ...       ...\n27     parking_disabled  0.167170  0.107226\n28  toilet_for_disabled  0.173958  0.110697\n30                 cafe  0.181062  0.075462\n2                rating  0.269386  1.277735\n5            rating_org  1.000000  0.095224\n\n[88 rows x 3 columns]",
      "text/html": "<div>\n<style scoped>\n    .dataframe tbody tr th:only-of-type {\n        vertical-align: middle;\n    }\n\n    .dataframe tbody tr th {\n        vertical-align: top;\n    }\n\n    .dataframe thead th {\n        text-align: right;\n    }\n</style>\n<table border=\"1\" class=\"dataframe\">\n  <thead>\n    <tr style=\"text-align: right;\">\n      <th></th>\n      <th>feature</th>\n      <th>corr</th>\n      <th>var</th>\n    </tr>\n  </thead>\n  <tbody>\n    <tr>\n      <th>75</th>\n      <td>rubrics_3</td>\n      <td>-0.183910</td>\n      <td>0.098854</td>\n    </tr>\n    <tr>\n      <th>6</th>\n      <td>food_delivery</td>\n      <td>-0.105047</td>\n      <td>0.183892</td>\n    </tr>\n    <tr>\n      <th>81</th>\n      <td>rubrics_9</td>\n      <td>-0.084240</td>\n      <td>0.018289</td>\n    </tr>\n    <tr>\n      <th>84</th>\n      <td>rubrics_12</td>\n      <td>-0.078229</td>\n      <td>0.011052</td>\n    </tr>\n    <tr>\n      <th>32</th>\n      <td>free_delivery</td>\n      <td>-0.072332</td>\n      <td>0.050509</td>\n    </tr>\n    <tr>\n      <th>...</th>\n      <td>...</td>\n      <td>...</td>\n      <td>...</td>\n    </tr>\n    <tr>\n      <th>27</th>\n      <td>parking_disabled</td>\n      <td>0.167170</td>\n      <td>0.107226</td>\n    </tr>\n    <tr>\n      <th>28</th>\n      <td>toilet_for_disabled</td>\n      <td>0.173958</td>\n      <td>0.110697</td>\n    </tr>\n    <tr>\n      <th>30</th>\n      <td>cafe</td>\n      <td>0.181062</td>\n      <td>0.075462</td>\n    </tr>\n    <tr>\n      <th>2</th>\n      <td>rating</td>\n      <td>0.269386</td>\n      <td>1.277735</td>\n    </tr>\n    <tr>\n      <th>5</th>\n      <td>rating_org</td>\n      <td>1.000000</td>\n      <td>0.095224</td>\n    </tr>\n  </tbody>\n</table>\n<p>88 rows × 3 columns</p>\n</div>"
     },
     "execution_count": 10,
     "metadata": {},
     "output_type": "execute_result"
    }
   ],
   "source": [
    "rows_list = []\n",
    "for column in df.columns:\n",
    "    try:\n",
    "        corr = df.rating_org.corr(df[column])\n",
    "        var = df[column].var()\n",
    "        rows_list.append({\n",
    "            'feature': column,\n",
    "            'corr': corr,\n",
    "            'var': var\n",
    "        })\n",
    "    except TypeError:\n",
    "        continue\n",
    "pd.DataFrame(rows_list).sort_values('corr')"
   ],
   "metadata": {
    "collapsed": false
   }
  },
  {
   "cell_type": "markdown",
   "source": [
    " ## Предсказание\n",
    "\n",
    "Для предсказания будем использовать `sklearn.neighbors.KNeighborsRegression` и `KFold` (cross validation) для оценки качества модели. Загрузим тестовый набор данных и заполним пропуски \"среднего чека\" средним чеком по всем заведениям аналогично тому, как это было сделано для тренировочного набора."
   ],
   "metadata": {
    "collapsed": false
   }
  },
  {
   "cell_type": "markdown",
   "source": [],
   "metadata": {
    "collapsed": false
   }
  },
  {
   "cell_type": "code",
   "execution_count": 11,
   "outputs": [],
   "source": [
    "test_x = pd.read_csv('data/raw/test_x.csv')\n",
    "test_x = test_x.join(average_bills_by_city, on='org_city')\n",
    "test_x.average_bill.fillna(test_x['average_bill_by_city'], inplace=True)\n",
    "test_x.rubrics = test_x.rubrics.map(rubric_codes)\n",
    "test_x = test_x.join(count_of_orgs_by_city, on='org_city')\n",
    "test_x = test_x.join(mean_rating_by_city, on='org_city')\n",
    "test_x = pd.get_dummies(test_x, prefix=['rubrics'], columns = ['rubrics'])\n",
    "test_x = pd.get_dummies(test_x, prefix=['user_city'], columns=['user_city'], drop_first=True)\n",
    "test_x = pd.get_dummies(test_x, prefix=['org_city'], columns=['org_city'], drop_first=True)\n",
    "# test_x = pd.DataFrame(scaler.transform(test_x.to_numpy()), columns=test_x.columns)"
   ],
   "metadata": {
    "collapsed": false
   }
  },
  {
   "cell_type": "markdown",
   "source": [
    "Определим пару функций, которые инкапсулируют в себе алгоритм создания, обучения модели и предсказания `rating_org` для тестового набора данных."
   ],
   "metadata": {
    "collapsed": false
   }
  },
  {
   "cell_type": "code",
   "execution_count": 12,
   "outputs": [],
   "source": [
    "from sklearn.metrics import mean_squared_error\n",
    "from sklearn.metrics import mean_absolute_percentage_error\n",
    "from sklearn.neighbors import KNeighborsRegressor\n",
    "from sklearn.model_selection import KFold\n",
    "\n",
    "\n",
    "def try_fit_with(features_list, n_neighbors: int = 250):\n",
    "    features = df[features_list]\n",
    "    rating_org = df.rating_org\n",
    "\n",
    "    k_fold = KFold(n_splits=3, shuffle=True)\n",
    "\n",
    "    total_errors = {'MSE': 0, 'MAPE': 0}\n",
    "    for train, test in k_fold.split(features, rating_org):\n",
    "        regressor = KNeighborsRegressor(n_neighbors=n_neighbors, weights='distance', n_jobs=-1)\n",
    "        regressor.fit(features.loc[train], rating_org.loc[train])\n",
    "        predicted = regressor.predict(features.loc[test])\n",
    "        total_errors['MSE'] += mean_squared_error(rating_org.loc[test], predicted)\n",
    "        total_errors['MAPE'] += mean_absolute_percentage_error(rating_org.loc[test], predicted)\n",
    "    return total_errors\n",
    "\n",
    "\n",
    "def try_fit_several_times(features_list, n_neighbors: int = 250, n: int = 5):\n",
    "    total_errors = {'MSE': 0, 'MAPE': 0}\n",
    "    for i in range(n):\n",
    "        current_result = try_fit_with(features_list)\n",
    "        total_errors['MSE'] += current_result['MSE'] / n\n",
    "        total_errors['MAPE'] += current_result['MAPE'] / n\n",
    "    regressor = KNeighborsRegressor(n_neighbors=n_neighbors, weights='distance', n_jobs=-1)\n",
    "    regressor = regressor.fit(df[features_list], df.rating_org)\n",
    "    result = regressor.predict(test_x[features_list])\n",
    "    result_df = pd.DataFrame(result, columns=['rating_org'])\n",
    "    result_df.index.name = 'id'\n",
    "    return total_errors, result_df\n"
   ],
   "metadata": {
    "collapsed": false
   }
  },
  {
   "cell_type": "markdown",
   "source": [
    "Попробуем обучить модель на разных наборах признаков."
   ],
   "metadata": {
    "collapsed": false
   }
  },
  {
   "cell_type": "code",
   "execution_count": null,
   "outputs": [],
   "source": [
    "errors, prediction = try_fit_several_times(['org_id', 'user_id', 'ts', 'average_bill', 'wheelchair_access'],\n",
    "                                           n_neighbors=15000,\n",
    "                                           n=0)\n",
    "print(errors)\n",
    "prediction.to_csv('data/submission.v1.csv')"
   ],
   "metadata": {
    "collapsed": false,
    "pycharm": {
     "is_executing": true
    }
   }
  },
  {
   "cell_type": "code",
   "execution_count": null,
   "outputs": [],
   "source": [
    "errors, prediction = try_fit_several_times(['org_id', 'user_id', 'ts', 'rating', 'average_bill', 'wheelchair_access'])\n",
    "print(errors)\n",
    "prediction.to_csv('data/submission.v2.csv')"
   ],
   "metadata": {
    "collapsed": false
   }
  },
  {
   "cell_type": "code",
   "execution_count": null,
   "outputs": [],
   "source": [
    "errors, prediction = try_fit_several_times(\n",
    "    ['org_id', 'user_id', 'ts', 'rating', 'cafe', 'average_bill', 'wheelchair_access'])\n",
    "print(errors)\n",
    "prediction.to_csv('data/submission.v3.csv')"
   ],
   "metadata": {
    "collapsed": false
   }
  },
  {
   "cell_type": "code",
   "execution_count": null,
   "outputs": [],
   "source": [
    "errors, prediction = try_fit_several_times(\n",
    "    ['rating', 'cafe', 'toilet_for_disabled', 'parking_disabled', 'payment_by_credit_card'])\n",
    "print(errors)\n",
    "prediction.to_csv('data/submission.v4.csv')"
   ],
   "metadata": {
    "collapsed": false
   }
  },
  {
   "cell_type": "code",
   "execution_count": null,
   "outputs": [],
   "source": [
    "errors, prediction = try_fit_several_times(\n",
    "    ['rating', 'cafe', 'toilet_for_disabled', 'parking_disabled', 'payment_by_credit_card', 'automatic_door'])\n",
    "print(errors)\n",
    "prediction.to_csv('data/submission.v5.csv')"
   ],
   "metadata": {
    "collapsed": false
   }
  },
  {
   "cell_type": "code",
   "execution_count": null,
   "outputs": [],
   "source": [
    "errors, prediction = try_fit_several_times(\n",
    "    ['org_id', 'rating', 'average_bill', 'food_delivery', 'free_delivery', 'delivery'])\n",
    "print(errors)\n",
    "prediction.to_csv('data/submission.v6.csv')"
   ],
   "metadata": {
    "collapsed": false
   }
  },
  {
   "cell_type": "code",
   "execution_count": null,
   "outputs": [],
   "source": [
    "errors, prediction = try_fit_several_times(\n",
    "    ['org_id', 'average_bill'])\n",
    "print(errors)\n",
    "prediction.to_csv('data/submission.v7.csv')"
   ],
   "metadata": {
    "collapsed": false
   }
  },
  {
   "cell_type": "code",
   "execution_count": null,
   "outputs": [],
   "source": [
    "numeric_features = df.drop(['user_city', 'org_city', 'rubrics', 'rating_org', 'mean_rating_by_user'],\n",
    "                           axis=1).columns.to_list()\n",
    "errors, prediction = try_fit_several_times(numeric_features)\n",
    "print(errors)\n",
    "prediction.to_csv('data/submission.v8.csv')"
   ],
   "metadata": {
    "collapsed": false
   }
  },
  {
   "cell_type": "code",
   "execution_count": 163,
   "outputs": [
    {
     "name": "stdout",
     "output_type": "stream",
     "text": [
      "{'MSE': 0.2016477243349685, 'MAPE': 0.12506835960248625}\n"
     ]
    }
   ],
   "source": [
    "errors, prediction = try_fit_several_times(test_x.columns)\n",
    "print(errors)\n",
    "prediction.to_csv('data/submission.v9.csv')"
   ],
   "metadata": {
    "collapsed": false
   }
  },
  {
   "cell_type": "code",
   "execution_count": 202,
   "outputs": [
    {
     "name": "stdout",
     "output_type": "stream",
     "text": [
      "{'MSE': 0.25609977747093426, 'MAPE': 0.15167818030657673}\n"
     ]
    }
   ],
   "source": [
    "rubrics = [\"rubrics_\" + str(i) for i in range(1, 14)]\n",
    "errors, prediction = try_fit_several_times(['org_id', 'user_id', 'ts', 'average_bill', 'wheelchair_access'] + rubrics)\n",
    "print(errors)\n",
    "prediction.to_csv('data/submission.v10.csv')"
   ],
   "metadata": {
    "collapsed": false
   }
  }
 ],
 "metadata": {
  "kernelspec": {
   "display_name": "Python 3",
   "language": "python",
   "name": "python3"
  },
  "language_info": {
   "codemirror_mode": {
    "name": "ipython",
    "version": 2
   },
   "file_extension": ".py",
   "mimetype": "text/x-python",
   "name": "python",
   "nbconvert_exporter": "python",
   "pygments_lexer": "ipython2",
   "version": "2.7.6"
  }
 },
 "nbformat": 4,
 "nbformat_minor": 0
}
