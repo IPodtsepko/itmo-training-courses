{
 "cells": [
  {
   "cell_type": "code",
   "execution_count": 1,
   "metadata": {
    "collapsed": true
   },
   "outputs": [],
   "source": [
    "import pandas as pd"
   ]
  },
  {
   "cell_type": "code",
   "execution_count": 2,
   "outputs": [
    {
     "name": "stdout",
     "output_type": "stream",
     "text": [
      "(206474, 76)\n"
     ]
    },
    {
     "data": {
      "text/plain": "            city  floor          id        lat         lng  \\\n0     Ставрополь    NaN   COL_65683  45.011356   41.919273   \n1           Омск    NaN  COL_159011  54.984833   73.387344   \n2       Белгород    NaN  COL_205850  50.576805   36.563267   \n3  Большой Исток    NaN  COL_229491  56.714413   60.792454   \n4    Новосибирск    1.0   COL_77283  55.055200   82.895810   \n5     Красноярск    1.0  COL_237766  56.054585   92.923680   \n6         Москва    2.0  COL_188715  55.861176   37.549427   \n7      Волгоград    NaN   COL_77130  48.676510   44.472553   \n8       Белгород    1.0  COL_216454  50.557530   36.565690   \n9        Иркутск    NaN  COL_262955  52.270250  104.310104   \n\n   osm_amenity_points_in_0.001  osm_amenity_points_in_0.005  \\\n0                            7                           71   \n1                            4                           40   \n2                            0                            9   \n3                            0                            0   \n4                            0                           25   \n5                            3                           15   \n6                            1                           39   \n7                           16                           84   \n8                            1                           27   \n9                            0                           26   \n\n   osm_amenity_points_in_0.0075  osm_amenity_points_in_0.01  \\\n0                           144                         225   \n1                           109                         206   \n2                            22                          44   \n3                             0                           1   \n4                            50                         101   \n5                            39                          66   \n6                            96                         133   \n7                            90                          97   \n8                            65                          85   \n9                            66                          97   \n\n   osm_building_points_in_0.001  ...  reform_house_population_500  \\\n0                             0  ...                        969.0   \n1                             0  ...                        305.0   \n2                             0  ...                        533.0   \n3                             0  ...                          NaN   \n4                             0  ...                       1188.0   \n5                             0  ...                        488.0   \n6                             0  ...                         16.0   \n7                             0  ...                       1063.0   \n8                             0  ...                       1750.0   \n9                             0  ...                       1073.0   \n\n   reform_mean_floor_count_1000  reform_mean_floor_count_500  \\\n0                      8.439655                     9.250000   \n1                      4.756410                     4.333333   \n2                      6.435897                     6.400000   \n3                           NaN                          NaN   \n4                      6.830065                     6.672414   \n5                     11.113924                    11.000000   \n6                     14.909091                    16.000000   \n7                      8.827586                     9.148936   \n8                      9.971429                    10.660000   \n9                      6.338843                     6.073529   \n\n   reform_mean_year_building_1000  reform_mean_year_building_500  \\\n0                     1990.232759                    1993.500000   \n1                     1960.346154                    1956.291667   \n2                     1980.452991                    1989.633333   \n3                             NaN                            NaN   \n4                     1974.045752                    1974.637931   \n5                     2004.949367                    2010.062500   \n6                     1994.272727                    1969.000000   \n7                     1983.086207                    1981.659574   \n8                     1999.809524                    1999.360000   \n9                     1971.798354                    1977.470588   \n\n                  region  total_square  street        date  realty_type  \n0    Ставропольский край          31.0   S1842  2020-02-23           10  \n1         Омская область         150.0  S14290  2020-05-24           10  \n2   Белгородская область          73.0  S25733  2020-06-28           10  \n3   Свердловская область         438.0   S6985  2020-07-19          110  \n4  Новосибирская область          62.7   S4778  2020-03-01           10  \n5      Красноярский край          84.0   S2682  2020-07-26          100  \n6                 Москва         623.0   S7194  2020-06-14          110  \n7  Волгоградская область          70.0  S26181  2020-03-01           10  \n8   Белгородская область          68.0   S4639  2020-07-05          110  \n9      Иркутская область         608.0  S19079  2020-08-16           10  \n\n[10 rows x 76 columns]",
      "text/html": "<div>\n<style scoped>\n    .dataframe tbody tr th:only-of-type {\n        vertical-align: middle;\n    }\n\n    .dataframe tbody tr th {\n        vertical-align: top;\n    }\n\n    .dataframe thead th {\n        text-align: right;\n    }\n</style>\n<table border=\"1\" class=\"dataframe\">\n  <thead>\n    <tr style=\"text-align: right;\">\n      <th></th>\n      <th>city</th>\n      <th>floor</th>\n      <th>id</th>\n      <th>lat</th>\n      <th>lng</th>\n      <th>osm_amenity_points_in_0.001</th>\n      <th>osm_amenity_points_in_0.005</th>\n      <th>osm_amenity_points_in_0.0075</th>\n      <th>osm_amenity_points_in_0.01</th>\n      <th>osm_building_points_in_0.001</th>\n      <th>...</th>\n      <th>reform_house_population_500</th>\n      <th>reform_mean_floor_count_1000</th>\n      <th>reform_mean_floor_count_500</th>\n      <th>reform_mean_year_building_1000</th>\n      <th>reform_mean_year_building_500</th>\n      <th>region</th>\n      <th>total_square</th>\n      <th>street</th>\n      <th>date</th>\n      <th>realty_type</th>\n    </tr>\n  </thead>\n  <tbody>\n    <tr>\n      <th>0</th>\n      <td>Ставрополь</td>\n      <td>NaN</td>\n      <td>COL_65683</td>\n      <td>45.011356</td>\n      <td>41.919273</td>\n      <td>7</td>\n      <td>71</td>\n      <td>144</td>\n      <td>225</td>\n      <td>0</td>\n      <td>...</td>\n      <td>969.0</td>\n      <td>8.439655</td>\n      <td>9.250000</td>\n      <td>1990.232759</td>\n      <td>1993.500000</td>\n      <td>Ставропольский край</td>\n      <td>31.0</td>\n      <td>S1842</td>\n      <td>2020-02-23</td>\n      <td>10</td>\n    </tr>\n    <tr>\n      <th>1</th>\n      <td>Омск</td>\n      <td>NaN</td>\n      <td>COL_159011</td>\n      <td>54.984833</td>\n      <td>73.387344</td>\n      <td>4</td>\n      <td>40</td>\n      <td>109</td>\n      <td>206</td>\n      <td>0</td>\n      <td>...</td>\n      <td>305.0</td>\n      <td>4.756410</td>\n      <td>4.333333</td>\n      <td>1960.346154</td>\n      <td>1956.291667</td>\n      <td>Омская область</td>\n      <td>150.0</td>\n      <td>S14290</td>\n      <td>2020-05-24</td>\n      <td>10</td>\n    </tr>\n    <tr>\n      <th>2</th>\n      <td>Белгород</td>\n      <td>NaN</td>\n      <td>COL_205850</td>\n      <td>50.576805</td>\n      <td>36.563267</td>\n      <td>0</td>\n      <td>9</td>\n      <td>22</td>\n      <td>44</td>\n      <td>0</td>\n      <td>...</td>\n      <td>533.0</td>\n      <td>6.435897</td>\n      <td>6.400000</td>\n      <td>1980.452991</td>\n      <td>1989.633333</td>\n      <td>Белгородская область</td>\n      <td>73.0</td>\n      <td>S25733</td>\n      <td>2020-06-28</td>\n      <td>10</td>\n    </tr>\n    <tr>\n      <th>3</th>\n      <td>Большой Исток</td>\n      <td>NaN</td>\n      <td>COL_229491</td>\n      <td>56.714413</td>\n      <td>60.792454</td>\n      <td>0</td>\n      <td>0</td>\n      <td>0</td>\n      <td>1</td>\n      <td>0</td>\n      <td>...</td>\n      <td>NaN</td>\n      <td>NaN</td>\n      <td>NaN</td>\n      <td>NaN</td>\n      <td>NaN</td>\n      <td>Свердловская область</td>\n      <td>438.0</td>\n      <td>S6985</td>\n      <td>2020-07-19</td>\n      <td>110</td>\n    </tr>\n    <tr>\n      <th>4</th>\n      <td>Новосибирск</td>\n      <td>1.0</td>\n      <td>COL_77283</td>\n      <td>55.055200</td>\n      <td>82.895810</td>\n      <td>0</td>\n      <td>25</td>\n      <td>50</td>\n      <td>101</td>\n      <td>0</td>\n      <td>...</td>\n      <td>1188.0</td>\n      <td>6.830065</td>\n      <td>6.672414</td>\n      <td>1974.045752</td>\n      <td>1974.637931</td>\n      <td>Новосибирская область</td>\n      <td>62.7</td>\n      <td>S4778</td>\n      <td>2020-03-01</td>\n      <td>10</td>\n    </tr>\n    <tr>\n      <th>5</th>\n      <td>Красноярск</td>\n      <td>1.0</td>\n      <td>COL_237766</td>\n      <td>56.054585</td>\n      <td>92.923680</td>\n      <td>3</td>\n      <td>15</td>\n      <td>39</td>\n      <td>66</td>\n      <td>0</td>\n      <td>...</td>\n      <td>488.0</td>\n      <td>11.113924</td>\n      <td>11.000000</td>\n      <td>2004.949367</td>\n      <td>2010.062500</td>\n      <td>Красноярский край</td>\n      <td>84.0</td>\n      <td>S2682</td>\n      <td>2020-07-26</td>\n      <td>100</td>\n    </tr>\n    <tr>\n      <th>6</th>\n      <td>Москва</td>\n      <td>2.0</td>\n      <td>COL_188715</td>\n      <td>55.861176</td>\n      <td>37.549427</td>\n      <td>1</td>\n      <td>39</td>\n      <td>96</td>\n      <td>133</td>\n      <td>0</td>\n      <td>...</td>\n      <td>16.0</td>\n      <td>14.909091</td>\n      <td>16.000000</td>\n      <td>1994.272727</td>\n      <td>1969.000000</td>\n      <td>Москва</td>\n      <td>623.0</td>\n      <td>S7194</td>\n      <td>2020-06-14</td>\n      <td>110</td>\n    </tr>\n    <tr>\n      <th>7</th>\n      <td>Волгоград</td>\n      <td>NaN</td>\n      <td>COL_77130</td>\n      <td>48.676510</td>\n      <td>44.472553</td>\n      <td>16</td>\n      <td>84</td>\n      <td>90</td>\n      <td>97</td>\n      <td>0</td>\n      <td>...</td>\n      <td>1063.0</td>\n      <td>8.827586</td>\n      <td>9.148936</td>\n      <td>1983.086207</td>\n      <td>1981.659574</td>\n      <td>Волгоградская область</td>\n      <td>70.0</td>\n      <td>S26181</td>\n      <td>2020-03-01</td>\n      <td>10</td>\n    </tr>\n    <tr>\n      <th>8</th>\n      <td>Белгород</td>\n      <td>1.0</td>\n      <td>COL_216454</td>\n      <td>50.557530</td>\n      <td>36.565690</td>\n      <td>1</td>\n      <td>27</td>\n      <td>65</td>\n      <td>85</td>\n      <td>0</td>\n      <td>...</td>\n      <td>1750.0</td>\n      <td>9.971429</td>\n      <td>10.660000</td>\n      <td>1999.809524</td>\n      <td>1999.360000</td>\n      <td>Белгородская область</td>\n      <td>68.0</td>\n      <td>S4639</td>\n      <td>2020-07-05</td>\n      <td>110</td>\n    </tr>\n    <tr>\n      <th>9</th>\n      <td>Иркутск</td>\n      <td>NaN</td>\n      <td>COL_262955</td>\n      <td>52.270250</td>\n      <td>104.310104</td>\n      <td>0</td>\n      <td>26</td>\n      <td>66</td>\n      <td>97</td>\n      <td>0</td>\n      <td>...</td>\n      <td>1073.0</td>\n      <td>6.338843</td>\n      <td>6.073529</td>\n      <td>1971.798354</td>\n      <td>1977.470588</td>\n      <td>Иркутская область</td>\n      <td>608.0</td>\n      <td>S19079</td>\n      <td>2020-08-16</td>\n      <td>10</td>\n    </tr>\n  </tbody>\n</table>\n<p>10 rows × 76 columns</p>\n</div>"
     },
     "execution_count": 2,
     "metadata": {},
     "output_type": "execute_result"
    }
   ],
   "source": [
    "TARGET_COLUMN = 'per_square_meter_price'\n",
    "\n",
    "raw_df = pd.read_csv('./data/raw/train.csv')\n",
    "print(raw_df.shape)\n",
    "raw_df.head(10)"
   ],
   "metadata": {
    "collapsed": false
   }
  },
  {
   "cell_type": "code",
   "execution_count": 3,
   "outputs": [
    {
     "name": "stdout",
     "output_type": "stream",
     "text": [
      "<class 'pandas.core.frame.DataFrame'>\n",
      "RangeIndex: 206474 entries, 0 to 206473\n",
      "Data columns (total 76 columns):\n",
      " #   Column                               Non-Null Count   Dtype  \n",
      "---  ------                               --------------   -----  \n",
      " 0   city                                 206474 non-null  object \n",
      " 1   floor                                76209 non-null   float64\n",
      " 2   id                                   206474 non-null  object \n",
      " 3   lat                                  206474 non-null  float64\n",
      " 4   lng                                  206474 non-null  float64\n",
      " 5   osm_amenity_points_in_0.001          206474 non-null  int64  \n",
      " 6   osm_amenity_points_in_0.005          206474 non-null  int64  \n",
      " 7   osm_amenity_points_in_0.0075         206474 non-null  int64  \n",
      " 8   osm_amenity_points_in_0.01           206474 non-null  int64  \n",
      " 9   osm_building_points_in_0.001         206474 non-null  int64  \n",
      " 10  osm_building_points_in_0.005         206474 non-null  int64  \n",
      " 11  osm_building_points_in_0.0075        206474 non-null  int64  \n",
      " 12  osm_building_points_in_0.01          206474 non-null  int64  \n",
      " 13  osm_catering_points_in_0.001         206474 non-null  int64  \n",
      " 14  osm_catering_points_in_0.005         206474 non-null  int64  \n",
      " 15  osm_catering_points_in_0.0075        206474 non-null  int64  \n",
      " 16  osm_catering_points_in_0.01          206474 non-null  int64  \n",
      " 17  osm_city_closest_dist                206474 non-null  float64\n",
      " 18  osm_city_nearest_name                206474 non-null  object \n",
      " 19  osm_city_nearest_population          206439 non-null  float64\n",
      " 20  osm_crossing_closest_dist            206474 non-null  float64\n",
      " 21  osm_crossing_points_in_0.001         206474 non-null  int64  \n",
      " 22  osm_crossing_points_in_0.005         206474 non-null  int64  \n",
      " 23  osm_crossing_points_in_0.0075        206474 non-null  int64  \n",
      " 24  osm_crossing_points_in_0.01          206474 non-null  int64  \n",
      " 25  osm_culture_points_in_0.001          206474 non-null  int64  \n",
      " 26  osm_culture_points_in_0.005          206474 non-null  int64  \n",
      " 27  osm_culture_points_in_0.0075         206474 non-null  int64  \n",
      " 28  osm_culture_points_in_0.01           206474 non-null  int64  \n",
      " 29  osm_finance_points_in_0.001          206474 non-null  int64  \n",
      " 30  osm_finance_points_in_0.005          206474 non-null  int64  \n",
      " 31  osm_finance_points_in_0.0075         206474 non-null  int64  \n",
      " 32  osm_finance_points_in_0.01           206474 non-null  int64  \n",
      " 33  osm_healthcare_points_in_0.005       206474 non-null  int64  \n",
      " 34  osm_healthcare_points_in_0.0075      206474 non-null  int64  \n",
      " 35  osm_healthcare_points_in_0.01        206474 non-null  int64  \n",
      " 36  osm_historic_points_in_0.005         206474 non-null  int64  \n",
      " 37  osm_historic_points_in_0.0075        206474 non-null  int64  \n",
      " 38  osm_historic_points_in_0.01          206474 non-null  int64  \n",
      " 39  osm_hotels_points_in_0.005           206474 non-null  int64  \n",
      " 40  osm_hotels_points_in_0.0075          206474 non-null  int64  \n",
      " 41  osm_hotels_points_in_0.01            206474 non-null  int64  \n",
      " 42  osm_leisure_points_in_0.005          206474 non-null  int64  \n",
      " 43  osm_leisure_points_in_0.0075         206474 non-null  int64  \n",
      " 44  osm_leisure_points_in_0.01           206474 non-null  int64  \n",
      " 45  osm_offices_points_in_0.001          206474 non-null  int64  \n",
      " 46  osm_offices_points_in_0.005          206474 non-null  int64  \n",
      " 47  osm_offices_points_in_0.0075         206474 non-null  int64  \n",
      " 48  osm_offices_points_in_0.01           206474 non-null  int64  \n",
      " 49  osm_shops_points_in_0.001            206474 non-null  int64  \n",
      " 50  osm_shops_points_in_0.005            206474 non-null  int64  \n",
      " 51  osm_shops_points_in_0.0075           206474 non-null  int64  \n",
      " 52  osm_shops_points_in_0.01             206474 non-null  int64  \n",
      " 53  osm_subway_closest_dist              206474 non-null  float64\n",
      " 54  osm_train_stop_closest_dist          206474 non-null  float64\n",
      " 55  osm_train_stop_points_in_0.005       206474 non-null  int64  \n",
      " 56  osm_train_stop_points_in_0.0075      206474 non-null  int64  \n",
      " 57  osm_train_stop_points_in_0.01        206474 non-null  int64  \n",
      " 58  osm_transport_stop_closest_dist      206474 non-null  float64\n",
      " 59  osm_transport_stop_points_in_0.005   206474 non-null  int64  \n",
      " 60  osm_transport_stop_points_in_0.0075  206474 non-null  int64  \n",
      " 61  osm_transport_stop_points_in_0.01    206474 non-null  int64  \n",
      " 62  per_square_meter_price               206474 non-null  float64\n",
      " 63  reform_count_of_houses_1000          206474 non-null  int64  \n",
      " 64  reform_count_of_houses_500           206474 non-null  int64  \n",
      " 65  reform_house_population_1000         195541 non-null  float64\n",
      " 66  reform_house_population_500          186141 non-null  float64\n",
      " 67  reform_mean_floor_count_1000         193961 non-null  float64\n",
      " 68  reform_mean_floor_count_500          183936 non-null  float64\n",
      " 69  reform_mean_year_building_1000       194311 non-null  float64\n",
      " 70  reform_mean_year_building_500        184340 non-null  float64\n",
      " 71  region                               206474 non-null  object \n",
      " 72  total_square                         206474 non-null  float64\n",
      " 73  street                               205271 non-null  object \n",
      " 74  date                                 206474 non-null  object \n",
      " 75  realty_type                          206474 non-null  int64  \n",
      "dtypes: float64(17), int64(53), object(6)\n",
      "memory usage: 119.7+ MB\n"
     ]
    }
   ],
   "source": [
    "raw_df.info()"
   ],
   "metadata": {
    "collapsed": false
   }
  },
  {
   "cell_type": "code",
   "execution_count": 4,
   "outputs": [],
   "source": [
    "import numpy as np\n",
    "\n",
    "\n",
    "def preprocess(dataset):\n",
    "    dataset = dataset.drop(columns=[\n",
    "        \"floor\",  # too many NaNs\n",
    "        \"street\",  # too complex to analyze\n",
    "        \"id\",  # the same\n",
    "    ])\n",
    "    dataset.osm_city_nearest_population = dataset.osm_city_nearest_population.fillna(\n",
    "        value=4.438900e+04  # if we don't know - city is small\n",
    "    )\n",
    "    for feature in [\n",
    "        'reform_house_population_1000',\n",
    "        'reform_house_population_500',\n",
    "        'reform_mean_floor_count_1000',\n",
    "        'reform_mean_floor_count_500',\n",
    "        'reform_mean_year_building_1000',\n",
    "        'reform_mean_year_building_500',\n",
    "    ]:\n",
    "        dataset[feature].fillna(dataset[feature].dropna().mean(), inplace=True)\n",
    "\n",
    "    population = dataset.osm_city_nearest_population\n",
    "    dataset = dataset.assign(\n",
    "        is_near_to_moscow=(dataset.osm_city_nearest_name == 'Москва').astype(int),\n",
    "        is_near_to_spb=(dataset.osm_city_nearest_name == \"Санкт-Петербург\").astype(int),\n",
    "\n",
    "        is_moscow=(dataset.city == 'Москва').astype(int),\n",
    "        is_spb=(dataset.city == 'Санкт-Петербург').astype(int),\n",
    "        is_krr=(dataset.city == 'Краснодар').astype(int),\n",
    "        is_ekb=(dataset.city == 'Екатеринбург').astype(int),\n",
    "\n",
    "        is_large_city=(1.468833e+06 <= population).astype(int),\n",
    "        is_medium_city=((1.013468e+06 <= population) & (population < 1.468833e+06)).astype(int),\n",
    "        is_small_city=((2.622500e+05 <= population) & (population < 1.013468e+06)).astype(int),\n",
    "        is_extra_small_city=(population <= 2.622500e+05).astype(int),\n",
    "\n",
    "        reform_mean_age_building_500=(2020 - dataset.reform_mean_year_building_500),\n",
    "        reform_mean_age_building_1000=(2020 - dataset.reform_mean_year_building_1000),\n",
    "    )\n",
    "\n",
    "    dataset = dataset.drop(columns=[\"city\", \"region\", 'osm_city_nearest_name'])  # str\n",
    "\n",
    "    dataset.date = (pd.to_datetime(dataset.date) - pd.to_datetime('2020-01-01')) / np.timedelta64(1, 'D')\n",
    "\n",
    "    return dataset\n",
    "\n",
    "\n",
    "df = preprocess(raw_df)"
   ],
   "metadata": {
    "collapsed": false
   }
  },
  {
   "cell_type": "code",
   "execution_count": 5,
   "outputs": [
    {
     "data": {
      "text/plain": "        lat       lng  osm_amenity_points_in_0.001  \\\n0  0.087908  0.167018                     0.152174   \n1  0.459494  0.405620                     0.086957   \n2  0.295262  0.126406                     0.000000   \n3  0.523934  0.310121                     0.000000   \n4  0.462116  0.477717                     0.000000   \n5  0.499350  0.553752                     0.065217   \n6  0.492145  0.133884                     0.021739   \n7  0.224462  0.186378                     0.347826   \n8  0.294544  0.126425                     0.021739   \n9  0.358356  0.640088                     0.000000   \n\n   osm_amenity_points_in_0.005  osm_amenity_points_in_0.0075  \\\n0                     0.156388                      0.169412   \n1                     0.088106                      0.128235   \n2                     0.019824                      0.025882   \n3                     0.000000                      0.000000   \n4                     0.055066                      0.058824   \n5                     0.033040                      0.045882   \n6                     0.085903                      0.112941   \n7                     0.185022                      0.105882   \n8                     0.059471                      0.076471   \n9                     0.057269                      0.077647   \n\n   osm_amenity_points_in_0.01  osm_building_points_in_0.001  \\\n0                    0.161638                           0.0   \n1                    0.147989                           0.0   \n2                    0.031609                           0.0   \n3                    0.000718                           0.0   \n4                    0.072557                           0.0   \n5                    0.047414                           0.0   \n6                    0.095546                           0.0   \n7                    0.069684                           0.0   \n8                    0.061063                           0.0   \n9                    0.069684                           0.0   \n\n   osm_building_points_in_0.005  osm_building_points_in_0.0075  \\\n0                      0.000000                       0.000000   \n1                      0.001706                       0.001054   \n2                      0.001706                       0.001054   \n3                      0.000000                       0.000000   \n4                      0.000000                       0.000000   \n5                      0.000000                       0.000000   \n6                      0.001706                       0.002107   \n7                      0.000000                       0.000000   \n8                      0.000000                       0.000000   \n9                      0.000000                       0.002107   \n\n   osm_building_points_in_0.01  ...  is_spb  is_krr  is_ekb  is_large_city  \\\n0                     0.000000  ...     0.0     0.0     0.0            0.0   \n1                     0.000864  ...     0.0     0.0     0.0            0.0   \n2                     0.003457  ...     0.0     0.0     0.0            0.0   \n3                     0.000000  ...     0.0     0.0     0.0            1.0   \n4                     0.000864  ...     0.0     0.0     0.0            1.0   \n5                     0.000000  ...     0.0     0.0     0.0            0.0   \n6                     0.001729  ...     0.0     0.0     0.0            0.0   \n7                     0.000000  ...     0.0     0.0     0.0            0.0   \n8                     0.000000  ...     0.0     0.0     0.0            0.0   \n9                     0.002593  ...     0.0     0.0     0.0            0.0   \n\n   is_medium_city  is_small_city  is_extra_small_city  \\\n0             0.0            1.0                  0.0   \n1             1.0            0.0                  0.0   \n2             0.0            1.0                  0.0   \n3             0.0            0.0                  0.0   \n4             0.0            0.0                  0.0   \n5             1.0            0.0                  0.0   \n6             0.0            0.0                  1.0   \n7             1.0            0.0                  0.0   \n8             0.0            1.0                  0.0   \n9             0.0            1.0                  0.0   \n\n   reform_mean_age_building_500  reform_mean_age_building_1000  \\\n0                      0.013125                       0.014255   \n1                      0.031554                       0.029065   \n2                      0.015040                       0.019102   \n3                      0.025747                       0.025477   \n4                      0.022468                       0.022277   \n5                      0.004922                       0.006963   \n6                      0.025260                       0.012253   \n7                      0.018990                       0.017797   \n8                      0.010223                       0.009510   \n9                      0.021065                       0.023390   \n\n   per_square_meter_price  \n0            17645.161290  \n1            33166.666667  \n2            22493.150685  \n3            79509.132420  \n4           126937.799043  \n5            53297.619048  \n6           144773.675762  \n7            73914.285714  \n8            36573.529412  \n9            29457.236842  \n\n[10 rows x 82 columns]",
      "text/html": "<div>\n<style scoped>\n    .dataframe tbody tr th:only-of-type {\n        vertical-align: middle;\n    }\n\n    .dataframe tbody tr th {\n        vertical-align: top;\n    }\n\n    .dataframe thead th {\n        text-align: right;\n    }\n</style>\n<table border=\"1\" class=\"dataframe\">\n  <thead>\n    <tr style=\"text-align: right;\">\n      <th></th>\n      <th>lat</th>\n      <th>lng</th>\n      <th>osm_amenity_points_in_0.001</th>\n      <th>osm_amenity_points_in_0.005</th>\n      <th>osm_amenity_points_in_0.0075</th>\n      <th>osm_amenity_points_in_0.01</th>\n      <th>osm_building_points_in_0.001</th>\n      <th>osm_building_points_in_0.005</th>\n      <th>osm_building_points_in_0.0075</th>\n      <th>osm_building_points_in_0.01</th>\n      <th>...</th>\n      <th>is_spb</th>\n      <th>is_krr</th>\n      <th>is_ekb</th>\n      <th>is_large_city</th>\n      <th>is_medium_city</th>\n      <th>is_small_city</th>\n      <th>is_extra_small_city</th>\n      <th>reform_mean_age_building_500</th>\n      <th>reform_mean_age_building_1000</th>\n      <th>per_square_meter_price</th>\n    </tr>\n  </thead>\n  <tbody>\n    <tr>\n      <th>0</th>\n      <td>0.087908</td>\n      <td>0.167018</td>\n      <td>0.152174</td>\n      <td>0.156388</td>\n      <td>0.169412</td>\n      <td>0.161638</td>\n      <td>0.0</td>\n      <td>0.000000</td>\n      <td>0.000000</td>\n      <td>0.000000</td>\n      <td>...</td>\n      <td>0.0</td>\n      <td>0.0</td>\n      <td>0.0</td>\n      <td>0.0</td>\n      <td>0.0</td>\n      <td>1.0</td>\n      <td>0.0</td>\n      <td>0.013125</td>\n      <td>0.014255</td>\n      <td>17645.161290</td>\n    </tr>\n    <tr>\n      <th>1</th>\n      <td>0.459494</td>\n      <td>0.405620</td>\n      <td>0.086957</td>\n      <td>0.088106</td>\n      <td>0.128235</td>\n      <td>0.147989</td>\n      <td>0.0</td>\n      <td>0.001706</td>\n      <td>0.001054</td>\n      <td>0.000864</td>\n      <td>...</td>\n      <td>0.0</td>\n      <td>0.0</td>\n      <td>0.0</td>\n      <td>0.0</td>\n      <td>1.0</td>\n      <td>0.0</td>\n      <td>0.0</td>\n      <td>0.031554</td>\n      <td>0.029065</td>\n      <td>33166.666667</td>\n    </tr>\n    <tr>\n      <th>2</th>\n      <td>0.295262</td>\n      <td>0.126406</td>\n      <td>0.000000</td>\n      <td>0.019824</td>\n      <td>0.025882</td>\n      <td>0.031609</td>\n      <td>0.0</td>\n      <td>0.001706</td>\n      <td>0.001054</td>\n      <td>0.003457</td>\n      <td>...</td>\n      <td>0.0</td>\n      <td>0.0</td>\n      <td>0.0</td>\n      <td>0.0</td>\n      <td>0.0</td>\n      <td>1.0</td>\n      <td>0.0</td>\n      <td>0.015040</td>\n      <td>0.019102</td>\n      <td>22493.150685</td>\n    </tr>\n    <tr>\n      <th>3</th>\n      <td>0.523934</td>\n      <td>0.310121</td>\n      <td>0.000000</td>\n      <td>0.000000</td>\n      <td>0.000000</td>\n      <td>0.000718</td>\n      <td>0.0</td>\n      <td>0.000000</td>\n      <td>0.000000</td>\n      <td>0.000000</td>\n      <td>...</td>\n      <td>0.0</td>\n      <td>0.0</td>\n      <td>0.0</td>\n      <td>1.0</td>\n      <td>0.0</td>\n      <td>0.0</td>\n      <td>0.0</td>\n      <td>0.025747</td>\n      <td>0.025477</td>\n      <td>79509.132420</td>\n    </tr>\n    <tr>\n      <th>4</th>\n      <td>0.462116</td>\n      <td>0.477717</td>\n      <td>0.000000</td>\n      <td>0.055066</td>\n      <td>0.058824</td>\n      <td>0.072557</td>\n      <td>0.0</td>\n      <td>0.000000</td>\n      <td>0.000000</td>\n      <td>0.000864</td>\n      <td>...</td>\n      <td>0.0</td>\n      <td>0.0</td>\n      <td>0.0</td>\n      <td>1.0</td>\n      <td>0.0</td>\n      <td>0.0</td>\n      <td>0.0</td>\n      <td>0.022468</td>\n      <td>0.022277</td>\n      <td>126937.799043</td>\n    </tr>\n    <tr>\n      <th>5</th>\n      <td>0.499350</td>\n      <td>0.553752</td>\n      <td>0.065217</td>\n      <td>0.033040</td>\n      <td>0.045882</td>\n      <td>0.047414</td>\n      <td>0.0</td>\n      <td>0.000000</td>\n      <td>0.000000</td>\n      <td>0.000000</td>\n      <td>...</td>\n      <td>0.0</td>\n      <td>0.0</td>\n      <td>0.0</td>\n      <td>0.0</td>\n      <td>1.0</td>\n      <td>0.0</td>\n      <td>0.0</td>\n      <td>0.004922</td>\n      <td>0.006963</td>\n      <td>53297.619048</td>\n    </tr>\n    <tr>\n      <th>6</th>\n      <td>0.492145</td>\n      <td>0.133884</td>\n      <td>0.021739</td>\n      <td>0.085903</td>\n      <td>0.112941</td>\n      <td>0.095546</td>\n      <td>0.0</td>\n      <td>0.001706</td>\n      <td>0.002107</td>\n      <td>0.001729</td>\n      <td>...</td>\n      <td>0.0</td>\n      <td>0.0</td>\n      <td>0.0</td>\n      <td>0.0</td>\n      <td>0.0</td>\n      <td>0.0</td>\n      <td>1.0</td>\n      <td>0.025260</td>\n      <td>0.012253</td>\n      <td>144773.675762</td>\n    </tr>\n    <tr>\n      <th>7</th>\n      <td>0.224462</td>\n      <td>0.186378</td>\n      <td>0.347826</td>\n      <td>0.185022</td>\n      <td>0.105882</td>\n      <td>0.069684</td>\n      <td>0.0</td>\n      <td>0.000000</td>\n      <td>0.000000</td>\n      <td>0.000000</td>\n      <td>...</td>\n      <td>0.0</td>\n      <td>0.0</td>\n      <td>0.0</td>\n      <td>0.0</td>\n      <td>1.0</td>\n      <td>0.0</td>\n      <td>0.0</td>\n      <td>0.018990</td>\n      <td>0.017797</td>\n      <td>73914.285714</td>\n    </tr>\n    <tr>\n      <th>8</th>\n      <td>0.294544</td>\n      <td>0.126425</td>\n      <td>0.021739</td>\n      <td>0.059471</td>\n      <td>0.076471</td>\n      <td>0.061063</td>\n      <td>0.0</td>\n      <td>0.000000</td>\n      <td>0.000000</td>\n      <td>0.000000</td>\n      <td>...</td>\n      <td>0.0</td>\n      <td>0.0</td>\n      <td>0.0</td>\n      <td>0.0</td>\n      <td>0.0</td>\n      <td>1.0</td>\n      <td>0.0</td>\n      <td>0.010223</td>\n      <td>0.009510</td>\n      <td>36573.529412</td>\n    </tr>\n    <tr>\n      <th>9</th>\n      <td>0.358356</td>\n      <td>0.640088</td>\n      <td>0.000000</td>\n      <td>0.057269</td>\n      <td>0.077647</td>\n      <td>0.069684</td>\n      <td>0.0</td>\n      <td>0.000000</td>\n      <td>0.002107</td>\n      <td>0.002593</td>\n      <td>...</td>\n      <td>0.0</td>\n      <td>0.0</td>\n      <td>0.0</td>\n      <td>0.0</td>\n      <td>0.0</td>\n      <td>1.0</td>\n      <td>0.0</td>\n      <td>0.021065</td>\n      <td>0.023390</td>\n      <td>29457.236842</td>\n    </tr>\n  </tbody>\n</table>\n<p>10 rows × 82 columns</p>\n</div>"
     },
     "execution_count": 5,
     "metadata": {},
     "output_type": "execute_result"
    }
   ],
   "source": [
    "import sklearn.preprocessing as preprocessing\n",
    "\n",
    "scaler = preprocessing.MinMaxScaler()\n",
    "features = df.drop(columns=[TARGET_COLUMN]).columns\n",
    "scaler.fit(df[features])\n",
    "df = pd.DataFrame(scaler.transform(df[features]), index=df.index, columns=features)\n",
    "del features\n",
    "df[TARGET_COLUMN] = raw_df[TARGET_COLUMN]\n",
    "df.head(10)"
   ],
   "metadata": {
    "collapsed": false
   }
  },
  {
   "cell_type": "code",
   "execution_count": 6,
   "outputs": [
    {
     "data": {
      "text/plain": "                         feature      corr\n49       osm_subway_closest_dist -0.272886\n1                            lng -0.223485\n77                 is_small_city -0.202750\n76                is_medium_city -0.172409\n14         osm_city_closest_dist -0.137331\n..                           ...       ...\n11  osm_catering_points_in_0.005  0.496335\n71                     is_moscow  0.542487\n69             is_near_to_moscow  0.546118\n15   osm_city_nearest_population  0.551361\n81        per_square_meter_price  1.000000\n\n[82 rows x 2 columns]",
      "text/html": "<div>\n<style scoped>\n    .dataframe tbody tr th:only-of-type {\n        vertical-align: middle;\n    }\n\n    .dataframe tbody tr th {\n        vertical-align: top;\n    }\n\n    .dataframe thead th {\n        text-align: right;\n    }\n</style>\n<table border=\"1\" class=\"dataframe\">\n  <thead>\n    <tr style=\"text-align: right;\">\n      <th></th>\n      <th>feature</th>\n      <th>corr</th>\n    </tr>\n  </thead>\n  <tbody>\n    <tr>\n      <th>49</th>\n      <td>osm_subway_closest_dist</td>\n      <td>-0.272886</td>\n    </tr>\n    <tr>\n      <th>1</th>\n      <td>lng</td>\n      <td>-0.223485</td>\n    </tr>\n    <tr>\n      <th>77</th>\n      <td>is_small_city</td>\n      <td>-0.202750</td>\n    </tr>\n    <tr>\n      <th>76</th>\n      <td>is_medium_city</td>\n      <td>-0.172409</td>\n    </tr>\n    <tr>\n      <th>14</th>\n      <td>osm_city_closest_dist</td>\n      <td>-0.137331</td>\n    </tr>\n    <tr>\n      <th>...</th>\n      <td>...</td>\n      <td>...</td>\n    </tr>\n    <tr>\n      <th>11</th>\n      <td>osm_catering_points_in_0.005</td>\n      <td>0.496335</td>\n    </tr>\n    <tr>\n      <th>71</th>\n      <td>is_moscow</td>\n      <td>0.542487</td>\n    </tr>\n    <tr>\n      <th>69</th>\n      <td>is_near_to_moscow</td>\n      <td>0.546118</td>\n    </tr>\n    <tr>\n      <th>15</th>\n      <td>osm_city_nearest_population</td>\n      <td>0.551361</td>\n    </tr>\n    <tr>\n      <th>81</th>\n      <td>per_square_meter_price</td>\n      <td>1.000000</td>\n    </tr>\n  </tbody>\n</table>\n<p>82 rows × 2 columns</p>\n</div>"
     },
     "execution_count": 6,
     "metadata": {},
     "output_type": "execute_result"
    }
   ],
   "source": [
    "rows_list = []\n",
    "for column in df.columns:\n",
    "    try:\n",
    "        corr = df[TARGET_COLUMN].corr(df[column])\n",
    "        var = df[column].var()\n",
    "        rows_list.append({\n",
    "            'feature': column,\n",
    "            'corr': corr,\n",
    "        })\n",
    "    except TypeError:\n",
    "        continue\n",
    "pd.DataFrame(rows_list).sort_values('corr')"
   ],
   "metadata": {
    "collapsed": false
   }
  },
  {
   "cell_type": "code",
   "execution_count": 7,
   "outputs": [],
   "source": [
    "def get_well_correlated_features(minimum):\n",
    "    return [info['feature'] for info in rows_list if abs(info['corr']) >= minimum and info['feature'] != TARGET_COLUMN]"
   ],
   "metadata": {
    "collapsed": false
   }
  },
  {
   "cell_type": "code",
   "execution_count": 8,
   "outputs": [],
   "source": [
    "test_x = preprocess(pd.read_csv('./data/raw/test_x.csv'))\n",
    "test_x = pd.DataFrame(scaler.transform(test_x), index=test_x.index, columns=test_x.columns)"
   ],
   "metadata": {
    "collapsed": false
   }
  },
  {
   "cell_type": "code",
   "execution_count": 9,
   "outputs": [],
   "source": [
    "def post_process(y, divisor: float):\n",
    "    y[y < 0] = 0\n",
    "    y = y / divisor\n",
    "    return y"
   ],
   "metadata": {
    "collapsed": false
   }
  },
  {
   "cell_type": "code",
   "execution_count": 10,
   "outputs": [],
   "source": [
    "from sklearn.metrics import mean_absolute_percentage_error\n",
    "from sklearn.model_selection import KFold\n",
    "from sklearn.linear_model import LinearRegression\n",
    "\n",
    "def try_fit_with(features_list, divisor):\n",
    "    selected_features = df[features_list]\n",
    "    target = df[TARGET_COLUMN]\n",
    "\n",
    "    total_errors = {'MAPE': 0}\n",
    "    for train, test in KFold(n_splits=5, shuffle=True).split(selected_features, target):\n",
    "        model = LinearRegression()\n",
    "        model.fit(selected_features.loc[train], target.loc[train])\n",
    "        predicted = post_process(model.predict(selected_features.loc[test]), divisor)\n",
    "        total_errors['MAPE'] += mean_absolute_percentage_error(target.loc[test], predicted)\n",
    "    return total_errors\n",
    "\n",
    "\n",
    "def try_fit_several_times(features_list, n: int = 3, divisor: float = 8.5):\n",
    "    total_errors = {'MAPE': 0}\n",
    "    for i in range(n):\n",
    "        current_result = try_fit_with(features_list, divisor)\n",
    "        total_errors['MAPE'] += current_result['MAPE'] / n\n",
    "    model = LinearRegression().fit(df[features_list], df[TARGET_COLUMN])\n",
    "    predicted = post_process(model.predict(test_x[features_list]), divisor)\n",
    "    result = pd.DataFrame(predicted, columns=[TARGET_COLUMN])\n",
    "    result.index.name = 'id'\n",
    "    return total_errors, result"
   ],
   "metadata": {
    "collapsed": false
   }
  },
  {
   "cell_type": "code",
   "execution_count": 11,
   "outputs": [
    {
     "name": "stdout",
     "output_type": "stream",
     "text": [
      "{'MAPE': 4.530448655403449}\n"
     ]
    },
    {
     "data": {
      "text/plain": "       per_square_meter_price\ncount            68825.000000\nmean             13090.840269\nstd              13812.523752\nmin                  0.000000\n25%               4480.872725\n50%               7278.901286\n75%              17242.867033\nmax              97194.360879",
      "text/html": "<div>\n<style scoped>\n    .dataframe tbody tr th:only-of-type {\n        vertical-align: middle;\n    }\n\n    .dataframe tbody tr th {\n        vertical-align: top;\n    }\n\n    .dataframe thead th {\n        text-align: right;\n    }\n</style>\n<table border=\"1\" class=\"dataframe\">\n  <thead>\n    <tr style=\"text-align: right;\">\n      <th></th>\n      <th>per_square_meter_price</th>\n    </tr>\n  </thead>\n  <tbody>\n    <tr>\n      <th>count</th>\n      <td>68825.000000</td>\n    </tr>\n    <tr>\n      <th>mean</th>\n      <td>13090.840269</td>\n    </tr>\n    <tr>\n      <th>std</th>\n      <td>13812.523752</td>\n    </tr>\n    <tr>\n      <th>min</th>\n      <td>0.000000</td>\n    </tr>\n    <tr>\n      <th>25%</th>\n      <td>4480.872725</td>\n    </tr>\n    <tr>\n      <th>50%</th>\n      <td>7278.901286</td>\n    </tr>\n    <tr>\n      <th>75%</th>\n      <td>17242.867033</td>\n    </tr>\n    <tr>\n      <th>max</th>\n      <td>97194.360879</td>\n    </tr>\n  </tbody>\n</table>\n</div>"
     },
     "execution_count": 11,
     "metadata": {},
     "output_type": "execute_result"
    }
   ],
   "source": [
    "errors, prediction = try_fit_several_times(get_well_correlated_features(0.0))\n",
    "print(errors)\n",
    "prediction.to_csv('data/submission.v1.csv')\n",
    "prediction.describe()"
   ],
   "metadata": {
    "collapsed": false
   }
  },
  {
   "cell_type": "code",
   "execution_count": 12,
   "outputs": [
    {
     "name": "stdout",
     "output_type": "stream",
     "text": [
      "{'MAPE': 4.559169144592245}\n"
     ]
    }
   ],
   "source": [
    "errors, prediction = try_fit_several_times(get_well_correlated_features(0.1))\n",
    "print(errors)\n",
    "prediction.to_csv('data/submission.v2.csv')"
   ],
   "metadata": {
    "collapsed": false
   }
  },
  {
   "cell_type": "code",
   "execution_count": 13,
   "outputs": [
    {
     "name": "stdout",
     "output_type": "stream",
     "text": [
      "{'MAPE': 4.5502913240732195}\n"
     ]
    }
   ],
   "source": [
    "errors, prediction = try_fit_several_times(get_well_correlated_features(0.2))\n",
    "print(errors)\n",
    "prediction.to_csv('data/submission.v3.csv')"
   ],
   "metadata": {
    "collapsed": false
   }
  },
  {
   "cell_type": "code",
   "execution_count": 14,
   "outputs": [
    {
     "name": "stdout",
     "output_type": "stream",
     "text": [
      "{'MAPE': 4.542648259371863}\n"
     ]
    }
   ],
   "source": [
    "errors, prediction = try_fit_several_times(get_well_correlated_features(0.3))\n",
    "print(errors)\n",
    "prediction.to_csv('data/submission.v4.csv')"
   ],
   "metadata": {
    "collapsed": false
   }
  },
  {
   "cell_type": "code",
   "execution_count": 15,
   "outputs": [
    {
     "name": "stdout",
     "output_type": "stream",
     "text": [
      "{'MAPE': 4.538590085550156}\n"
     ]
    }
   ],
   "source": [
    "errors, prediction = try_fit_several_times(get_well_correlated_features(0.35))\n",
    "print(errors)\n",
    "prediction.to_csv('data/submission.v5.csv')"
   ],
   "metadata": {
    "collapsed": false
   }
  },
  {
   "cell_type": "code",
   "execution_count": 16,
   "outputs": [
    {
     "name": "stdout",
     "output_type": "stream",
     "text": [
      "{'MAPE': 4.5352134995323805}\n"
     ]
    }
   ],
   "source": [
    "errors, prediction = try_fit_several_times(get_well_correlated_features(0.4))\n",
    "print(errors)\n",
    "prediction.to_csv('data/submission.v6.csv')"
   ],
   "metadata": {
    "collapsed": false
   }
  },
  {
   "cell_type": "code",
   "execution_count": 17,
   "outputs": [
    {
     "name": "stdout",
     "output_type": "stream",
     "text": [
      "{'MAPE': 4.544508311053708}\n"
     ]
    }
   ],
   "source": [
    "errors, prediction = try_fit_several_times(get_well_correlated_features(0.45))\n",
    "print(errors)\n",
    "prediction.to_csv('data/submission.v7.csv')"
   ],
   "metadata": {
    "collapsed": false
   }
  },
  {
   "cell_type": "code",
   "execution_count": 18,
   "outputs": [
    {
     "name": "stdout",
     "output_type": "stream",
     "text": [
      "{'MAPE': 4.55174904746275}\n"
     ]
    }
   ],
   "source": [
    "errors, prediction = try_fit_several_times(get_well_correlated_features(0.5))\n",
    "print(errors)\n",
    "prediction.to_csv('data/submission.v8.csv')"
   ],
   "metadata": {
    "collapsed": false
   }
  },
  {
   "cell_type": "code",
   "execution_count": 19,
   "outputs": [
    {
     "name": "stdout",
     "output_type": "stream",
     "text": [
      "[66 64 14 30 26 31 79 80 16 24 39  2  5 51 18 11  8 10 53 29 43 28 44 25\n",
      "  3 67 46 52 20 34 78 45 35  4 57 72  1 42 59 13 71 56 54 68 15 75 37 58\n",
      " 27 62 74 40  6 22 63 69 77 17  7 41 48 47 55 49 65  0 60 73 70 23 61 33\n",
      " 32 21 38 50 76 36  9 12 19]\n",
      "[66 64 14 30 26 31 79 80 16  6 65 41 43 47  2 45  3 76 67 61  7 12 48  5\n",
      " 28 29 60 73 69 68 22 75  0 23 77 37 62 71 34 51 70  8 58 74 46 27 57 55\n",
      " 78 36  4 53 25 18 35 44 59 52 49 15 24 56 40 32 20 39 63 21 13 42  1 54\n",
      " 33 72  9 50 10 19 17 38 11]\n",
      "[66 64 14 30 26 31 79 80 16 57  7 73 74 24 62 11 77 19 67 60 55 21 15  6\n",
      " 68 69 52 42 39 76 59 71 45 50 13 53 54 41 38 28 70 32  9 40 22  0 33 20\n",
      " 58 75 18 48 65  3 47 61 51  5 37  8 44 29 46 25 35 63 43 49  2 23 36 27\n",
      " 12 72 34  4 56 17 78  1 10]\n",
      "[66 64 14 30 26 31 79 80 16 41 20 18 68 54  4 56 71 11 32 23 47 21 27 36\n",
      " 67 55 46 34 62 76 24 58  2 53  5 43 74 40 69 48  0  8 38 61 10  6 22 63\n",
      " 52 70 72 13 59 45 15 77 39 73  1 35 25  9 12 28 37 49 29 17 19 57  3 50\n",
      "  7 33 75 60 42 78 65 51 44]\n"
     ]
    },
    {
     "ename": "KeyboardInterrupt",
     "evalue": "",
     "output_type": "error",
     "traceback": [
      "\u001B[0;31m---------------------------------------------------------------------------\u001B[0m",
      "\u001B[0;31mKeyboardInterrupt\u001B[0m                         Traceback (most recent call last)",
      "Input \u001B[0;32mIn [19]\u001B[0m, in \u001B[0;36m<cell line: 1>\u001B[0;34m()\u001B[0m\n\u001B[0;32m----> 1\u001B[0m \u001B[43mget_ipython\u001B[49m\u001B[43m(\u001B[49m\u001B[43m)\u001B[49m\u001B[38;5;241;43m.\u001B[39;49m\u001B[43mrun_cell_magic\u001B[49m\u001B[43m(\u001B[49m\u001B[38;5;124;43m'\u001B[39;49m\u001B[38;5;124;43mtimeit\u001B[39;49m\u001B[38;5;124;43m'\u001B[39;49m\u001B[43m,\u001B[49m\u001B[43m \u001B[49m\u001B[38;5;124;43m'\u001B[39;49m\u001B[38;5;124;43m'\u001B[39;49m\u001B[43m,\u001B[49m\u001B[43m \u001B[49m\u001B[38;5;124;43m'\u001B[39;49m\u001B[38;5;130;43;01m\\n\u001B[39;49;00m\u001B[38;5;124;43mfrom skfeature.function.statistical_based import CFS\u001B[39;49m\u001B[38;5;130;43;01m\\n\u001B[39;49;00m\u001B[38;5;130;43;01m\\n\u001B[39;49;00m\u001B[38;5;124;43mx = df.drop(columns=[TARGET_COLUMN])\u001B[39;49m\u001B[38;5;130;43;01m\\n\u001B[39;49;00m\u001B[38;5;124;43my = df[TARGET_COLUMN]\u001B[39;49m\u001B[38;5;130;43;01m\\n\u001B[39;49;00m\u001B[38;5;124;43mcfs_based_choice =  CFS.cfs(x.values, y.values)\u001B[39;49m\u001B[38;5;130;43;01m\\n\u001B[39;49;00m\u001B[38;5;124;43mprint(cfs_based_choice)\u001B[39;49m\u001B[38;5;130;43;01m\\n\u001B[39;49;00m\u001B[38;5;124;43m'\u001B[39;49m\u001B[43m)\u001B[49m\n",
      "File \u001B[0;32m~/anaconda3/envs/education/lib/python3.10/site-packages/IPython/core/interactiveshell.py:2358\u001B[0m, in \u001B[0;36mInteractiveShell.run_cell_magic\u001B[0;34m(self, magic_name, line, cell)\u001B[0m\n\u001B[1;32m   2356\u001B[0m \u001B[38;5;28;01mwith\u001B[39;00m \u001B[38;5;28mself\u001B[39m\u001B[38;5;241m.\u001B[39mbuiltin_trap:\n\u001B[1;32m   2357\u001B[0m     args \u001B[38;5;241m=\u001B[39m (magic_arg_s, cell)\n\u001B[0;32m-> 2358\u001B[0m     result \u001B[38;5;241m=\u001B[39m \u001B[43mfn\u001B[49m\u001B[43m(\u001B[49m\u001B[38;5;241;43m*\u001B[39;49m\u001B[43margs\u001B[49m\u001B[43m,\u001B[49m\u001B[43m \u001B[49m\u001B[38;5;241;43m*\u001B[39;49m\u001B[38;5;241;43m*\u001B[39;49m\u001B[43mkwargs\u001B[49m\u001B[43m)\u001B[49m\n\u001B[1;32m   2359\u001B[0m \u001B[38;5;28;01mreturn\u001B[39;00m result\n",
      "File \u001B[0;32m~/anaconda3/envs/education/lib/python3.10/site-packages/IPython/core/magics/execution.py:1166\u001B[0m, in \u001B[0;36mExecutionMagics.timeit\u001B[0;34m(self, line, cell, local_ns)\u001B[0m\n\u001B[1;32m   1163\u001B[0m         \u001B[38;5;28;01mif\u001B[39;00m time_number \u001B[38;5;241m>\u001B[39m\u001B[38;5;241m=\u001B[39m \u001B[38;5;241m0.2\u001B[39m:\n\u001B[1;32m   1164\u001B[0m             \u001B[38;5;28;01mbreak\u001B[39;00m\n\u001B[0;32m-> 1166\u001B[0m all_runs \u001B[38;5;241m=\u001B[39m \u001B[43mtimer\u001B[49m\u001B[38;5;241;43m.\u001B[39;49m\u001B[43mrepeat\u001B[49m\u001B[43m(\u001B[49m\u001B[43mrepeat\u001B[49m\u001B[43m,\u001B[49m\u001B[43m \u001B[49m\u001B[43mnumber\u001B[49m\u001B[43m)\u001B[49m\n\u001B[1;32m   1167\u001B[0m best \u001B[38;5;241m=\u001B[39m \u001B[38;5;28mmin\u001B[39m(all_runs) \u001B[38;5;241m/\u001B[39m number\n\u001B[1;32m   1168\u001B[0m worst \u001B[38;5;241m=\u001B[39m \u001B[38;5;28mmax\u001B[39m(all_runs) \u001B[38;5;241m/\u001B[39m number\n",
      "File \u001B[0;32m~/anaconda3/envs/education/lib/python3.10/timeit.py:206\u001B[0m, in \u001B[0;36mTimer.repeat\u001B[0;34m(self, repeat, number)\u001B[0m\n\u001B[1;32m    204\u001B[0m r \u001B[38;5;241m=\u001B[39m []\n\u001B[1;32m    205\u001B[0m \u001B[38;5;28;01mfor\u001B[39;00m i \u001B[38;5;129;01min\u001B[39;00m \u001B[38;5;28mrange\u001B[39m(repeat):\n\u001B[0;32m--> 206\u001B[0m     t \u001B[38;5;241m=\u001B[39m \u001B[38;5;28;43mself\u001B[39;49m\u001B[38;5;241;43m.\u001B[39;49m\u001B[43mtimeit\u001B[49m\u001B[43m(\u001B[49m\u001B[43mnumber\u001B[49m\u001B[43m)\u001B[49m\n\u001B[1;32m    207\u001B[0m     r\u001B[38;5;241m.\u001B[39mappend(t)\n\u001B[1;32m    208\u001B[0m \u001B[38;5;28;01mreturn\u001B[39;00m r\n",
      "File \u001B[0;32m~/anaconda3/envs/education/lib/python3.10/site-packages/IPython/core/magics/execution.py:156\u001B[0m, in \u001B[0;36mTimer.timeit\u001B[0;34m(self, number)\u001B[0m\n\u001B[1;32m    154\u001B[0m gc\u001B[38;5;241m.\u001B[39mdisable()\n\u001B[1;32m    155\u001B[0m \u001B[38;5;28;01mtry\u001B[39;00m:\n\u001B[0;32m--> 156\u001B[0m     timing \u001B[38;5;241m=\u001B[39m \u001B[38;5;28;43mself\u001B[39;49m\u001B[38;5;241;43m.\u001B[39;49m\u001B[43minner\u001B[49m\u001B[43m(\u001B[49m\u001B[43mit\u001B[49m\u001B[43m,\u001B[49m\u001B[43m \u001B[49m\u001B[38;5;28;43mself\u001B[39;49m\u001B[38;5;241;43m.\u001B[39;49m\u001B[43mtimer\u001B[49m\u001B[43m)\u001B[49m\n\u001B[1;32m    157\u001B[0m \u001B[38;5;28;01mfinally\u001B[39;00m:\n\u001B[1;32m    158\u001B[0m     \u001B[38;5;28;01mif\u001B[39;00m gcold:\n",
      "File \u001B[0;32m<magic-timeit>:5\u001B[0m, in \u001B[0;36minner\u001B[0;34m(_it, _timer)\u001B[0m\n",
      "File \u001B[0;32m~/anaconda3/envs/education/lib/python3.10/site-packages/skfeature/function/statistical_based/CFS.py:75\u001B[0m, in \u001B[0;36mcfs\u001B[0;34m(X, y, mode)\u001B[0m\n\u001B[1;32m     73\u001B[0m F\u001B[38;5;241m.\u001B[39mappend(i)\n\u001B[1;32m     74\u001B[0m \u001B[38;5;66;03m# calculate the merit of current selected features\u001B[39;00m\n\u001B[0;32m---> 75\u001B[0m t \u001B[38;5;241m=\u001B[39m \u001B[43mmerit_calculation\u001B[49m\u001B[43m(\u001B[49m\u001B[43mX\u001B[49m\u001B[43m[\u001B[49m\u001B[43m:\u001B[49m\u001B[43m,\u001B[49m\u001B[43m \u001B[49m\u001B[43mF\u001B[49m\u001B[43m]\u001B[49m\u001B[43m,\u001B[49m\u001B[43m \u001B[49m\u001B[43my\u001B[49m\u001B[43m)\u001B[49m\n\u001B[1;32m     76\u001B[0m \u001B[38;5;28;01mif\u001B[39;00m t \u001B[38;5;241m>\u001B[39m merit:\n\u001B[1;32m     77\u001B[0m     merit \u001B[38;5;241m=\u001B[39m t\n",
      "File \u001B[0;32m~/anaconda3/envs/education/lib/python3.10/site-packages/skfeature/function/statistical_based/CFS.py:37\u001B[0m, in \u001B[0;36mmerit_calculation\u001B[0;34m(X, y)\u001B[0m\n\u001B[1;32m     35\u001B[0m         \u001B[38;5;28;01mif\u001B[39;00m j \u001B[38;5;241m>\u001B[39m i:\n\u001B[1;32m     36\u001B[0m             fj \u001B[38;5;241m=\u001B[39m X[:, j]\n\u001B[0;32m---> 37\u001B[0m             rff \u001B[38;5;241m+\u001B[39m\u001B[38;5;241m=\u001B[39m \u001B[43msu_calculation\u001B[49m\u001B[43m(\u001B[49m\u001B[43mfi\u001B[49m\u001B[43m,\u001B[49m\u001B[43m \u001B[49m\u001B[43mfj\u001B[49m\u001B[43m)\u001B[49m\n\u001B[1;32m     38\u001B[0m rff \u001B[38;5;241m*\u001B[39m\u001B[38;5;241m=\u001B[39m \u001B[38;5;241m2\u001B[39m\n\u001B[1;32m     39\u001B[0m merits \u001B[38;5;241m=\u001B[39m rcf \u001B[38;5;241m/\u001B[39m np\u001B[38;5;241m.\u001B[39msqrt(n_features \u001B[38;5;241m+\u001B[39m rff)\n",
      "File \u001B[0;32m~/anaconda3/envs/education/lib/python3.10/site-packages/skfeature/utility/mutual_information.py:58\u001B[0m, in \u001B[0;36msu_calculation\u001B[0;34m(f1, f2)\u001B[0m\n\u001B[1;32m     42\u001B[0m \u001B[38;5;124;03m\"\"\"\u001B[39;00m\n\u001B[1;32m     43\u001B[0m \u001B[38;5;124;03mThis function calculates the symmetrical uncertainty, where su(f1,f2) = 2*IG(f1,f2)/(H(f1)+H(f2))\u001B[39;00m\n\u001B[1;32m     44\u001B[0m \n\u001B[0;32m   (...)\u001B[0m\n\u001B[1;32m     54\u001B[0m \n\u001B[1;32m     55\u001B[0m \u001B[38;5;124;03m\"\"\"\u001B[39;00m\n\u001B[1;32m     57\u001B[0m \u001B[38;5;66;03m# calculate information gain of f1 and f2, t1 = ig(f1,f2)\u001B[39;00m\n\u001B[0;32m---> 58\u001B[0m t1 \u001B[38;5;241m=\u001B[39m \u001B[43minformation_gain\u001B[49m\u001B[43m(\u001B[49m\u001B[43mf1\u001B[49m\u001B[43m,\u001B[49m\u001B[43m \u001B[49m\u001B[43mf2\u001B[49m\u001B[43m)\u001B[49m\n\u001B[1;32m     59\u001B[0m \u001B[38;5;66;03m# calculate entropy of f1, t2 = H(f1)\u001B[39;00m\n\u001B[1;32m     60\u001B[0m t2 \u001B[38;5;241m=\u001B[39m ee\u001B[38;5;241m.\u001B[39mentropyd(f1)\n",
      "File \u001B[0;32m~/anaconda3/envs/education/lib/python3.10/site-packages/skfeature/utility/mutual_information.py:18\u001B[0m, in \u001B[0;36minformation_gain\u001B[0;34m(f1, f2)\u001B[0m\n\u001B[1;32m      4\u001B[0m \u001B[38;5;28;01mdef\u001B[39;00m \u001B[38;5;21minformation_gain\u001B[39m(f1, f2):\n\u001B[1;32m      5\u001B[0m     \u001B[38;5;124;03m\"\"\"\u001B[39;00m\n\u001B[1;32m      6\u001B[0m \u001B[38;5;124;03m    This function calculates the information gain, where ig(f1,f2) = H(f1) - H(f1|f2)\u001B[39;00m\n\u001B[1;32m      7\u001B[0m \n\u001B[0;32m   (...)\u001B[0m\n\u001B[1;32m     15\u001B[0m \u001B[38;5;124;03m    ig: {float}\u001B[39;00m\n\u001B[1;32m     16\u001B[0m \u001B[38;5;124;03m    \"\"\"\u001B[39;00m\n\u001B[0;32m---> 18\u001B[0m     ig \u001B[38;5;241m=\u001B[39m ee\u001B[38;5;241m.\u001B[39mentropyd(f1) \u001B[38;5;241m-\u001B[39m \u001B[43mconditional_entropy\u001B[49m\u001B[43m(\u001B[49m\u001B[43mf1\u001B[49m\u001B[43m,\u001B[49m\u001B[43m \u001B[49m\u001B[43mf2\u001B[49m\u001B[43m)\u001B[49m\n\u001B[1;32m     19\u001B[0m     \u001B[38;5;28;01mreturn\u001B[39;00m ig\n",
      "File \u001B[0;32m~/anaconda3/envs/education/lib/python3.10/site-packages/skfeature/utility/mutual_information.py:37\u001B[0m, in \u001B[0;36mconditional_entropy\u001B[0;34m(f1, f2)\u001B[0m\n\u001B[1;32m     22\u001B[0m \u001B[38;5;28;01mdef\u001B[39;00m \u001B[38;5;21mconditional_entropy\u001B[39m(f1, f2):\n\u001B[1;32m     23\u001B[0m     \u001B[38;5;124;03m\"\"\"\u001B[39;00m\n\u001B[1;32m     24\u001B[0m \u001B[38;5;124;03m    This function calculates the conditional entropy, where ce = H(f1) - I(f1;f2)\u001B[39;00m\n\u001B[1;32m     25\u001B[0m \n\u001B[0;32m   (...)\u001B[0m\n\u001B[1;32m     34\u001B[0m \u001B[38;5;124;03m        ce is conditional entropy of f1 and f2\u001B[39;00m\n\u001B[1;32m     35\u001B[0m \u001B[38;5;124;03m    \"\"\"\u001B[39;00m\n\u001B[0;32m---> 37\u001B[0m     ce \u001B[38;5;241m=\u001B[39m ee\u001B[38;5;241m.\u001B[39mentropyd(f1) \u001B[38;5;241m-\u001B[39m \u001B[43mee\u001B[49m\u001B[38;5;241;43m.\u001B[39;49m\u001B[43mmidd\u001B[49m\u001B[43m(\u001B[49m\u001B[43mf1\u001B[49m\u001B[43m,\u001B[49m\u001B[43m \u001B[49m\u001B[43mf2\u001B[49m\u001B[43m)\u001B[49m\n\u001B[1;32m     38\u001B[0m     \u001B[38;5;28;01mreturn\u001B[39;00m ce\n",
      "File \u001B[0;32m~/anaconda3/envs/education/lib/python3.10/site-packages/skfeature/utility/entropy_estimators.py:104\u001B[0m, in \u001B[0;36mmidd\u001B[0;34m(x, y)\u001B[0m\n\u001B[1;32m     99\u001B[0m \u001B[38;5;28;01mdef\u001B[39;00m \u001B[38;5;21mmidd\u001B[39m(x, y):\n\u001B[1;32m    100\u001B[0m     \u001B[38;5;124;03m\"\"\"\u001B[39;00m\n\u001B[1;32m    101\u001B[0m \u001B[38;5;124;03m    Discrete mutual information estimator given a list of samples which can be any hashable object\u001B[39;00m\n\u001B[1;32m    102\u001B[0m \u001B[38;5;124;03m    \"\"\"\u001B[39;00m\n\u001B[0;32m--> 104\u001B[0m     \u001B[38;5;28;01mreturn\u001B[39;00m \u001B[38;5;241m-\u001B[39mentropyd(\u001B[38;5;28mlist\u001B[39m(\u001B[38;5;28mzip\u001B[39m(x, y))) \u001B[38;5;241m+\u001B[39m \u001B[43mentropyd\u001B[49m\u001B[43m(\u001B[49m\u001B[43mx\u001B[49m\u001B[43m)\u001B[49m \u001B[38;5;241m+\u001B[39m entropyd(y)\n",
      "File \u001B[0;32m~/anaconda3/envs/education/lib/python3.10/site-packages/skfeature/utility/entropy_estimators.py:96\u001B[0m, in \u001B[0;36mentropyd\u001B[0;34m(sx, base)\u001B[0m\n\u001B[1;32m     91\u001B[0m \u001B[38;5;28;01mdef\u001B[39;00m \u001B[38;5;21mentropyd\u001B[39m(sx, base\u001B[38;5;241m=\u001B[39m\u001B[38;5;241m2\u001B[39m):\n\u001B[1;32m     92\u001B[0m     \u001B[38;5;124;03m\"\"\"\u001B[39;00m\n\u001B[1;32m     93\u001B[0m \u001B[38;5;124;03m    Discrete entropy estimator given a list of samples which can be any hashable object\u001B[39;00m\n\u001B[1;32m     94\u001B[0m \u001B[38;5;124;03m    \"\"\"\u001B[39;00m\n\u001B[0;32m---> 96\u001B[0m     \u001B[38;5;28;01mreturn\u001B[39;00m entropyfromprobs(\u001B[43mhist\u001B[49m\u001B[43m(\u001B[49m\u001B[43msx\u001B[49m\u001B[43m)\u001B[49m, base\u001B[38;5;241m=\u001B[39mbase)\n",
      "File \u001B[0;32m~/anaconda3/envs/education/lib/python3.10/site-packages/skfeature/utility/entropy_estimators.py:119\u001B[0m, in \u001B[0;36mhist\u001B[0;34m(sx)\u001B[0m\n\u001B[1;32m    117\u001B[0m d \u001B[38;5;241m=\u001B[39m \u001B[38;5;28mdict\u001B[39m()\n\u001B[1;32m    118\u001B[0m \u001B[38;5;28;01mfor\u001B[39;00m s \u001B[38;5;129;01min\u001B[39;00m sx:\n\u001B[0;32m--> 119\u001B[0m     d[s] \u001B[38;5;241m=\u001B[39m \u001B[43md\u001B[49m\u001B[38;5;241;43m.\u001B[39;49m\u001B[43mget\u001B[49m\u001B[43m(\u001B[49m\u001B[43ms\u001B[49m\u001B[43m,\u001B[49m\u001B[43m \u001B[49m\u001B[38;5;241;43m0\u001B[39;49m\u001B[43m)\u001B[49m \u001B[38;5;241m+\u001B[39m \u001B[38;5;241m1\u001B[39m\n\u001B[1;32m    120\u001B[0m \u001B[38;5;28;01mreturn\u001B[39;00m \u001B[38;5;28mmap\u001B[39m(\u001B[38;5;28;01mlambda\u001B[39;00m z: \u001B[38;5;28mfloat\u001B[39m(z) \u001B[38;5;241m/\u001B[39m \u001B[38;5;28mlen\u001B[39m(sx), d\u001B[38;5;241m.\u001B[39mvalues())\n",
      "\u001B[0;31mKeyboardInterrupt\u001B[0m: "
     ]
    }
   ],
   "source": [
    "%%timeit\n",
    "\n",
    "from skfeature.function.statistical_based import CFS\n",
    "\n",
    "x = df.drop(columns=[TARGET_COLUMN])\n",
    "y = df[TARGET_COLUMN]\n",
    "cfs_based_choice =  CFS.cfs(x.values, y.values)\n",
    "print(cfs_based_choice)"
   ],
   "metadata": {
    "collapsed": false
   }
  },
  {
   "cell_type": "code",
   "execution_count": 22,
   "outputs": [
    {
     "name": "stdout",
     "output_type": "stream",
     "text": [
      "81\n"
     ]
    },
    {
     "ename": "NameError",
     "evalue": "name 'x' is not defined",
     "output_type": "error",
     "traceback": [
      "\u001B[0;31m---------------------------------------------------------------------------\u001B[0m",
      "\u001B[0;31mNameError\u001B[0m                                 Traceback (most recent call last)",
      "Input \u001B[0;32mIn [22]\u001B[0m, in \u001B[0;36m<cell line: 5>\u001B[0;34m()\u001B[0m\n\u001B[1;32m      1\u001B[0m \u001B[38;5;28mprint\u001B[39m(\u001B[38;5;28mlen\u001B[39m([\u001B[38;5;241m66\u001B[39m, \u001B[38;5;241m64\u001B[39m, \u001B[38;5;241m14\u001B[39m, \u001B[38;5;241m30\u001B[39m, \u001B[38;5;241m26\u001B[39m, \u001B[38;5;241m31\u001B[39m, \u001B[38;5;241m79\u001B[39m, \u001B[38;5;241m80\u001B[39m, \u001B[38;5;241m16\u001B[39m, \u001B[38;5;241m24\u001B[39m, \u001B[38;5;241m39\u001B[39m,  \u001B[38;5;241m2\u001B[39m,  \u001B[38;5;241m5\u001B[39m, \u001B[38;5;241m51\u001B[39m, \u001B[38;5;241m18\u001B[39m, \u001B[38;5;241m11\u001B[39m,  \u001B[38;5;241m8\u001B[39m, \u001B[38;5;241m10\u001B[39m, \u001B[38;5;241m53\u001B[39m, \u001B[38;5;241m29\u001B[39m, \u001B[38;5;241m43\u001B[39m, \u001B[38;5;241m28\u001B[39m, \u001B[38;5;241m44\u001B[39m, \u001B[38;5;241m25\u001B[39m,\n\u001B[1;32m      2\u001B[0m            \u001B[38;5;241m3\u001B[39m, \u001B[38;5;241m67\u001B[39m, \u001B[38;5;241m46\u001B[39m, \u001B[38;5;241m52\u001B[39m, \u001B[38;5;241m20\u001B[39m, \u001B[38;5;241m34\u001B[39m, \u001B[38;5;241m78\u001B[39m, \u001B[38;5;241m45\u001B[39m, \u001B[38;5;241m35\u001B[39m,  \u001B[38;5;241m4\u001B[39m, \u001B[38;5;241m57\u001B[39m, \u001B[38;5;241m72\u001B[39m,  \u001B[38;5;241m1\u001B[39m, \u001B[38;5;241m42\u001B[39m, \u001B[38;5;241m59\u001B[39m, \u001B[38;5;241m13\u001B[39m, \u001B[38;5;241m71\u001B[39m, \u001B[38;5;241m56\u001B[39m, \u001B[38;5;241m54\u001B[39m, \u001B[38;5;241m68\u001B[39m, \u001B[38;5;241m15\u001B[39m, \u001B[38;5;241m75\u001B[39m, \u001B[38;5;241m37\u001B[39m, \u001B[38;5;241m58\u001B[39m,\n\u001B[1;32m      3\u001B[0m            \u001B[38;5;241m27\u001B[39m, \u001B[38;5;241m62\u001B[39m, \u001B[38;5;241m74\u001B[39m, \u001B[38;5;241m40\u001B[39m,  \u001B[38;5;241m6\u001B[39m, \u001B[38;5;241m22\u001B[39m, \u001B[38;5;241m63\u001B[39m, \u001B[38;5;241m69\u001B[39m, \u001B[38;5;241m77\u001B[39m, \u001B[38;5;241m17\u001B[39m,  \u001B[38;5;241m7\u001B[39m, \u001B[38;5;241m41\u001B[39m, \u001B[38;5;241m48\u001B[39m, \u001B[38;5;241m47\u001B[39m, \u001B[38;5;241m55\u001B[39m, \u001B[38;5;241m49\u001B[39m, \u001B[38;5;241m65\u001B[39m,  \u001B[38;5;241m0\u001B[39m, \u001B[38;5;241m60\u001B[39m, \u001B[38;5;241m73\u001B[39m, \u001B[38;5;241m70\u001B[39m, \u001B[38;5;241m23\u001B[39m, \u001B[38;5;241m61\u001B[39m, \u001B[38;5;241m33\u001B[39m,\n\u001B[1;32m      4\u001B[0m            \u001B[38;5;241m32\u001B[39m, \u001B[38;5;241m21\u001B[39m, \u001B[38;5;241m38\u001B[39m, \u001B[38;5;241m50\u001B[39m, \u001B[38;5;241m76\u001B[39m, \u001B[38;5;241m36\u001B[39m,  \u001B[38;5;241m9\u001B[39m, \u001B[38;5;241m12\u001B[39m, \u001B[38;5;241m19\u001B[39m]))\n\u001B[0;32m----> 5\u001B[0m \u001B[38;5;28mprint\u001B[39m(\u001B[38;5;28mlen\u001B[39m(\u001B[43mx\u001B[49m\u001B[38;5;241m.\u001B[39mcolumns))\n",
      "\u001B[0;31mNameError\u001B[0m: name 'x' is not defined"
     ]
    }
   ],
   "source": [
    "print(len([66, 64, 14, 30, 26, 31, 79, 80, 16, 24, 39,  2,  5, 51, 18, 11,  8, 10, 53, 29, 43, 28, 44, 25,\n",
    "           3, 67, 46, 52, 20, 34, 78, 45, 35,  4, 57, 72,  1, 42, 59, 13, 71, 56, 54, 68, 15, 75, 37, 58,\n",
    "           27, 62, 74, 40,  6, 22, 63, 69, 77, 17,  7, 41, 48, 47, 55, 49, 65,  0, 60, 73, 70, 23, 61, 33,\n",
    "           32, 21, 38, 50, 76, 36,  9, 12, 19]))\n",
    "print(len(x.columns))"
   ],
   "metadata": {
    "collapsed": false
   }
  },
  {
   "cell_type": "markdown",
   "source": [],
   "metadata": {
    "collapsed": false
   }
  }
 ],
 "metadata": {
  "kernelspec": {
   "display_name": "Python 3",
   "language": "python",
   "name": "python3"
  },
  "language_info": {
   "codemirror_mode": {
    "name": "ipython",
    "version": 2
   },
   "file_extension": ".py",
   "mimetype": "text/x-python",
   "name": "python",
   "nbconvert_exporter": "python",
   "pygments_lexer": "ipython2",
   "version": "2.7.6"
  }
 },
 "nbformat": 4,
 "nbformat_minor": 0
}
